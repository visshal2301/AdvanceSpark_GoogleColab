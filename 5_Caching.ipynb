{
  "nbformat": 4,
  "nbformat_minor": 0,
  "metadata": {
    "colab": {
      "provenance": [],
      "mount_file_id": "1HXJtMz8Fpfj10YB3q6xcXVFVfmkWtV9q",
      "authorship_tag": "ABX9TyPB4PWCW63W5NHKMZFApSBr",
      "include_colab_link": true
    },
    "kernelspec": {
      "name": "python3",
      "display_name": "Python 3"
    },
    "language_info": {
      "name": "python"
    }
  },
  "cells": [
    {
      "cell_type": "markdown",
      "metadata": {
        "id": "view-in-github",
        "colab_type": "text"
      },
      "source": [
        "<a href=\"https://colab.research.google.com/github/visshal2301/AdvanceSpark_GoogleColab/blob/main/5_Caching.ipynb\" target=\"_parent\"><img src=\"https://colab.research.google.com/assets/colab-badge.svg\" alt=\"Open In Colab\"/></a>"
      ]
    },
    {
      "cell_type": "code",
      "execution_count": 1,
      "metadata": {
        "id": "7eUY1Uj_6L0I"
      },
      "outputs": [],
      "source": [
        "import warnings\n",
        "warnings.filterwarnings(\"ignore\")\n",
        "from IPython.core.interactiveshell import InteractiveShell\n",
        "InteractiveShell.ast_node_interactivity = 'all'"
      ]
    },
    {
      "cell_type": "code",
      "source": [
        "from pyspark.storagelevel import StorageLevel\n",
        "from pyspark.sql import SparkSession\n",
        "from pyspark.sql.types import *\n",
        "from pyspark.sql import functions as F"
      ],
      "metadata": {
        "id": "1yYsEx_Q7d-j"
      },
      "execution_count": 2,
      "outputs": []
    },
    {
      "cell_type": "code",
      "source": [
        "spark = (\n",
        "    SparkSession\n",
        "    .builder\n",
        "    .config(\"spark.driver.memory\", \"10g\")\n",
        "    .config(\"spark.sql.files.maxPartitionBytes\", \"268435456\")\n",
        "    .config(\"spark.serializer\", \"org.apache.spark.serializer.KryoSerializer\")\n",
        "    .master(\"local[*]\")\n",
        "    .getOrCreate()\n",
        ")\n",
        "sc = spark.sparkContext\n",
        "sc.setLogLevel(\"ERROR\"\n",
        ")"
      ],
      "metadata": {
        "id": "Jxb1xTnj8E-E"
      },
      "execution_count": 3,
      "outputs": []
    },
    {
      "cell_type": "code",
      "source": [
        "customers_file = \"/content/drive/MyDrive/data/data_skew/customers.parquet\"\n",
        "df_customers = spark.read.parquet(customers_file)"
      ],
      "metadata": {
        "id": "Q9h4ITzc8Ikp"
      },
      "execution_count": 4,
      "outputs": []
    },
    {
      "cell_type": "code",
      "source": [
        "df_customers.show(5, False)"
      ],
      "metadata": {
        "colab": {
          "base_uri": "https://localhost:8080/"
        },
        "id": "vdwoFI6Y8psV",
        "outputId": "2c502a35-5504-4396-f9ac-0f69440173f9"
      },
      "execution_count": 5,
      "outputs": [
        {
          "output_type": "stream",
          "name": "stdout",
          "text": [
            "+----------+-------------+---+------+----------+-----+-----------+\n",
            "|cust_id   |name         |age|gender|birthday  |zip  |city       |\n",
            "+----------+-------------+---+------+----------+-----+-----------+\n",
            "|C007YEYTX9|Aaron Abbott |34 |Female|7/13/1991 |97823|boston     |\n",
            "|C00B971T1J|Aaron Austin |37 |Female|12/16/2004|30332|chicago    |\n",
            "|C00WRSJF1Q|Aaron Barnes |29 |Female|3/11/1977 |23451|denver     |\n",
            "|C01AZWQMF3|Aaron Barrett|31 |Male  |7/9/1998  |46613|los_angeles|\n",
            "|C01BKUFRHA|Aaron Becker |54 |Male  |11/24/1979|40284|san_diego  |\n",
            "+----------+-------------+---+------+----------+-----+-----------+\n",
            "only showing top 5 rows\n",
            "\n"
          ]
        }
      ]
    },
    {
      "cell_type": "code",
      "source": [
        "df_base = (\n",
        "    df_customers\n",
        "    .filter(F.col(\"city\") == \"boston\")\n",
        "    .withColumn(\n",
        "        \"customer_group\",\n",
        "        F.when(\n",
        "            F.col(\"age\").between(20, 30),\n",
        "            F.lit(\"young\")\n",
        "        )\n",
        "        .when(\n",
        "            F.col(\"age\").between(31, 50),\n",
        "            F.lit(\"mid\")\n",
        "        )\n",
        "        .when(\n",
        "            F.col(\"age\") > 51,\n",
        "            F.lit(\"old\")\n",
        "        )\n",
        "        .otherwise(F.lit(\"kid\"))\n",
        "     )\n",
        "    .select(\"cust_id\", \"name\", \"age\", \"gender\", \"birthday\", \"zip\", \"city\", \"customer_group\")\n",
        ")\n",
        "\n",
        "df_base.cache()\n",
        "df_base.show(5, False)"
      ],
      "metadata": {
        "colab": {
          "base_uri": "https://localhost:8080/"
        },
        "id": "x6lWYLPd8vRD",
        "outputId": "c600caed-a24b-4f67-cbd0-d915aa6cb2c1"
      },
      "execution_count": 6,
      "outputs": [
        {
          "output_type": "execute_result",
          "data": {
            "text/plain": [
              "DataFrame[cust_id: string, name: string, age: string, gender: string, birthday: string, zip: string, city: string, customer_group: string]"
            ]
          },
          "metadata": {},
          "execution_count": 6
        },
        {
          "output_type": "stream",
          "name": "stdout",
          "text": [
            "+----------+--------------+---+------+---------+-----+------+--------------+\n",
            "|cust_id   |name          |age|gender|birthday |zip  |city  |customer_group|\n",
            "+----------+--------------+---+------+---------+-----+------+--------------+\n",
            "|C007YEYTX9|Aaron Abbott  |34 |Female|7/13/1991|97823|boston|mid           |\n",
            "|C08XAQUY73|Aaron Lambert |54 |Female|11/5/1966|75218|boston|old           |\n",
            "|C094P1VXF9|Aaron Lindsey |24 |Male  |9/21/1990|29399|boston|young         |\n",
            "|C097SHE1EF|Aaron Lopez   |22 |Female|4/18/2001|82129|boston|young         |\n",
            "|C0DTC6436T|Aaron Schwartz|52 |Female|7/9/1962 |57192|boston|old           |\n",
            "+----------+--------------+---+------+---------+-----+------+--------------+\n",
            "only showing top 5 rows\n",
            "\n"
          ]
        }
      ]
    },
    {
      "cell_type": "code",
      "source": [
        "df1 = (\n",
        "    df_base\n",
        "    .withColumn(\"test_column_1\", F.lit(\"test_column_1\"))\n",
        "    .withColumn(\"birth_year\", F.split(\"birthday\", \"/\").getItem(2))\n",
        ")\n",
        "\n",
        "df1.explain(True)\n",
        "df1.show(5, False)"
      ],
      "metadata": {
        "colab": {
          "base_uri": "https://localhost:8080/"
        },
        "id": "vl651QDK82gs",
        "outputId": "b0892e5d-ccac-45f0-afb6-226dade234a0"
      },
      "execution_count": 7,
      "outputs": [
        {
          "output_type": "stream",
          "name": "stdout",
          "text": [
            "== Parsed Logical Plan ==\n",
            "'Project [cust_id#0, name#1, age#2, gender#3, birthday#4, zip#5, city#6, customer_group#44, test_column_1#294, split('birthday, /, -1)[2] AS birth_year#304]\n",
            "+- Project [cust_id#0, name#1, age#2, gender#3, birthday#4, zip#5, city#6, customer_group#44, test_column_1 AS test_column_1#294]\n",
            "   +- Project [cust_id#0, name#1, age#2, gender#3, birthday#4, zip#5, city#6, customer_group#44]\n",
            "      +- Project [cust_id#0, name#1, age#2, gender#3, birthday#4, zip#5, city#6, CASE WHEN ((cast(age#2 as int) >= 20) AND (cast(age#2 as int) <= 30)) THEN young WHEN ((cast(age#2 as int) >= 31) AND (cast(age#2 as int) <= 50)) THEN mid WHEN (cast(age#2 as int) > 51) THEN old ELSE kid END AS customer_group#44]\n",
            "         +- Filter (city#6 = boston)\n",
            "            +- Relation [cust_id#0,name#1,age#2,gender#3,birthday#4,zip#5,city#6] parquet\n",
            "\n",
            "== Analyzed Logical Plan ==\n",
            "cust_id: string, name: string, age: string, gender: string, birthday: string, zip: string, city: string, customer_group: string, test_column_1: string, birth_year: string\n",
            "Project [cust_id#0, name#1, age#2, gender#3, birthday#4, zip#5, city#6, customer_group#44, test_column_1#294, split(birthday#4, /, -1)[2] AS birth_year#304]\n",
            "+- Project [cust_id#0, name#1, age#2, gender#3, birthday#4, zip#5, city#6, customer_group#44, test_column_1 AS test_column_1#294]\n",
            "   +- Project [cust_id#0, name#1, age#2, gender#3, birthday#4, zip#5, city#6, customer_group#44]\n",
            "      +- Project [cust_id#0, name#1, age#2, gender#3, birthday#4, zip#5, city#6, CASE WHEN ((cast(age#2 as int) >= 20) AND (cast(age#2 as int) <= 30)) THEN young WHEN ((cast(age#2 as int) >= 31) AND (cast(age#2 as int) <= 50)) THEN mid WHEN (cast(age#2 as int) > 51) THEN old ELSE kid END AS customer_group#44]\n",
            "         +- Filter (city#6 = boston)\n",
            "            +- Relation [cust_id#0,name#1,age#2,gender#3,birthday#4,zip#5,city#6] parquet\n",
            "\n",
            "== Optimized Logical Plan ==\n",
            "Project [cust_id#0, name#1, age#2, gender#3, birthday#4, zip#5, city#6, customer_group#44, test_column_1 AS test_column_1#294, split(birthday#4, /, -1)[2] AS birth_year#304]\n",
            "+- InMemoryRelation [cust_id#0, name#1, age#2, gender#3, birthday#4, zip#5, city#6, customer_group#44], StorageLevel(disk, memory, deserialized, 1 replicas)\n",
            "      +- *(1) Project [cust_id#0, name#1, age#2, gender#3, birthday#4, zip#5, city#6, CASE WHEN ((cast(age#2 as int) >= 20) AND (cast(age#2 as int) <= 30)) THEN young WHEN ((cast(age#2 as int) >= 31) AND (cast(age#2 as int) <= 50)) THEN mid WHEN (cast(age#2 as int) > 51) THEN old ELSE kid END AS customer_group#44]\n",
            "         +- *(1) Filter (isnotnull(city#6) AND (city#6 = boston))\n",
            "            +- *(1) ColumnarToRow\n",
            "               +- FileScan parquet [cust_id#0,name#1,age#2,gender#3,birthday#4,zip#5,city#6] Batched: true, DataFilters: [isnotnull(city#6), (city#6 = boston)], Format: Parquet, Location: InMemoryFileIndex(1 paths)[file:/content/drive/MyDrive/data/data_skew/customers.parquet], PartitionFilters: [], PushedFilters: [IsNotNull(city), EqualTo(city,boston)], ReadSchema: struct<cust_id:string,name:string,age:string,gender:string,birthday:string,zip:string,city:string>\n",
            "\n",
            "== Physical Plan ==\n",
            "AdaptiveSparkPlan isFinalPlan=false\n",
            "+- Project [cust_id#0, name#1, age#2, gender#3, birthday#4, zip#5, city#6, customer_group#44, test_column_1 AS test_column_1#294, split(birthday#4, /, -1)[2] AS birth_year#304]\n",
            "   +- InMemoryTableScan [age#2, birthday#4, city#6, cust_id#0, customer_group#44, gender#3, name#1, zip#5]\n",
            "         +- InMemoryRelation [cust_id#0, name#1, age#2, gender#3, birthday#4, zip#5, city#6, customer_group#44], StorageLevel(disk, memory, deserialized, 1 replicas)\n",
            "               +- *(1) Project [cust_id#0, name#1, age#2, gender#3, birthday#4, zip#5, city#6, CASE WHEN ((cast(age#2 as int) >= 20) AND (cast(age#2 as int) <= 30)) THEN young WHEN ((cast(age#2 as int) >= 31) AND (cast(age#2 as int) <= 50)) THEN mid WHEN (cast(age#2 as int) > 51) THEN old ELSE kid END AS customer_group#44]\n",
            "                  +- *(1) Filter (isnotnull(city#6) AND (city#6 = boston))\n",
            "                     +- *(1) ColumnarToRow\n",
            "                        +- FileScan parquet [cust_id#0,name#1,age#2,gender#3,birthday#4,zip#5,city#6] Batched: true, DataFilters: [isnotnull(city#6), (city#6 = boston)], Format: Parquet, Location: InMemoryFileIndex(1 paths)[file:/content/drive/MyDrive/data/data_skew/customers.parquet], PartitionFilters: [], PushedFilters: [IsNotNull(city), EqualTo(city,boston)], ReadSchema: struct<cust_id:string,name:string,age:string,gender:string,birthday:string,zip:string,city:string>\n",
            "\n",
            "+----------+--------------+---+------+---------+-----+------+--------------+-------------+----------+\n",
            "|cust_id   |name          |age|gender|birthday |zip  |city  |customer_group|test_column_1|birth_year|\n",
            "+----------+--------------+---+------+---------+-----+------+--------------+-------------+----------+\n",
            "|C007YEYTX9|Aaron Abbott  |34 |Female|7/13/1991|97823|boston|mid           |test_column_1|1991      |\n",
            "|C08XAQUY73|Aaron Lambert |54 |Female|11/5/1966|75218|boston|old           |test_column_1|1966      |\n",
            "|C094P1VXF9|Aaron Lindsey |24 |Male  |9/21/1990|29399|boston|young         |test_column_1|1990      |\n",
            "|C097SHE1EF|Aaron Lopez   |22 |Female|4/18/2001|82129|boston|young         |test_column_1|2001      |\n",
            "|C0DTC6436T|Aaron Schwartz|52 |Female|7/9/1962 |57192|boston|old           |test_column_1|1962      |\n",
            "+----------+--------------+---+------+---------+-----+------+--------------+-------------+----------+\n",
            "only showing top 5 rows\n",
            "\n"
          ]
        }
      ]
    },
    {
      "cell_type": "code",
      "source": [
        "df2 = (\n",
        "    df_base\n",
        "    .withColumn(\"test_column_2\", F.lit(\"test_column_2\"))\n",
        "    .withColumn(\"birth_month\", F.split(\"birthday\", \"/\").getItem(1))\n",
        ")\n",
        "\n",
        "df2.explain(True)\n",
        "df2.show(5, False)"
      ],
      "metadata": {
        "colab": {
          "base_uri": "https://localhost:8080/"
        },
        "id": "wqrHmkIZ9Hqi",
        "outputId": "85c39d4b-1dcf-43d5-ad5c-3e8c2e2d6984"
      },
      "execution_count": 8,
      "outputs": [
        {
          "output_type": "stream",
          "name": "stdout",
          "text": [
            "== Parsed Logical Plan ==\n",
            "'Project [cust_id#0, name#1, age#2, gender#3, birthday#4, zip#5, city#6, customer_group#44, test_column_2#636, split('birthday, /, -1)[1] AS birth_month#646]\n",
            "+- Project [cust_id#0, name#1, age#2, gender#3, birthday#4, zip#5, city#6, customer_group#44, test_column_2 AS test_column_2#636]\n",
            "   +- Project [cust_id#0, name#1, age#2, gender#3, birthday#4, zip#5, city#6, customer_group#44]\n",
            "      +- Project [cust_id#0, name#1, age#2, gender#3, birthday#4, zip#5, city#6, CASE WHEN ((cast(age#2 as int) >= 20) AND (cast(age#2 as int) <= 30)) THEN young WHEN ((cast(age#2 as int) >= 31) AND (cast(age#2 as int) <= 50)) THEN mid WHEN (cast(age#2 as int) > 51) THEN old ELSE kid END AS customer_group#44]\n",
            "         +- Filter (city#6 = boston)\n",
            "            +- Relation [cust_id#0,name#1,age#2,gender#3,birthday#4,zip#5,city#6] parquet\n",
            "\n",
            "== Analyzed Logical Plan ==\n",
            "cust_id: string, name: string, age: string, gender: string, birthday: string, zip: string, city: string, customer_group: string, test_column_2: string, birth_month: string\n",
            "Project [cust_id#0, name#1, age#2, gender#3, birthday#4, zip#5, city#6, customer_group#44, test_column_2#636, split(birthday#4, /, -1)[1] AS birth_month#646]\n",
            "+- Project [cust_id#0, name#1, age#2, gender#3, birthday#4, zip#5, city#6, customer_group#44, test_column_2 AS test_column_2#636]\n",
            "   +- Project [cust_id#0, name#1, age#2, gender#3, birthday#4, zip#5, city#6, customer_group#44]\n",
            "      +- Project [cust_id#0, name#1, age#2, gender#3, birthday#4, zip#5, city#6, CASE WHEN ((cast(age#2 as int) >= 20) AND (cast(age#2 as int) <= 30)) THEN young WHEN ((cast(age#2 as int) >= 31) AND (cast(age#2 as int) <= 50)) THEN mid WHEN (cast(age#2 as int) > 51) THEN old ELSE kid END AS customer_group#44]\n",
            "         +- Filter (city#6 = boston)\n",
            "            +- Relation [cust_id#0,name#1,age#2,gender#3,birthday#4,zip#5,city#6] parquet\n",
            "\n",
            "== Optimized Logical Plan ==\n",
            "Project [cust_id#0, name#1, age#2, gender#3, birthday#4, zip#5, city#6, customer_group#44, test_column_2 AS test_column_2#636, split(birthday#4, /, -1)[1] AS birth_month#646]\n",
            "+- InMemoryRelation [cust_id#0, name#1, age#2, gender#3, birthday#4, zip#5, city#6, customer_group#44], StorageLevel(disk, memory, deserialized, 1 replicas)\n",
            "      +- *(1) Project [cust_id#0, name#1, age#2, gender#3, birthday#4, zip#5, city#6, CASE WHEN ((cast(age#2 as int) >= 20) AND (cast(age#2 as int) <= 30)) THEN young WHEN ((cast(age#2 as int) >= 31) AND (cast(age#2 as int) <= 50)) THEN mid WHEN (cast(age#2 as int) > 51) THEN old ELSE kid END AS customer_group#44]\n",
            "         +- *(1) Filter (isnotnull(city#6) AND (city#6 = boston))\n",
            "            +- *(1) ColumnarToRow\n",
            "               +- FileScan parquet [cust_id#0,name#1,age#2,gender#3,birthday#4,zip#5,city#6] Batched: true, DataFilters: [isnotnull(city#6), (city#6 = boston)], Format: Parquet, Location: InMemoryFileIndex(1 paths)[file:/content/drive/MyDrive/data/data_skew/customers.parquet], PartitionFilters: [], PushedFilters: [IsNotNull(city), EqualTo(city,boston)], ReadSchema: struct<cust_id:string,name:string,age:string,gender:string,birthday:string,zip:string,city:string>\n",
            "\n",
            "== Physical Plan ==\n",
            "AdaptiveSparkPlan isFinalPlan=false\n",
            "+- Project [cust_id#0, name#1, age#2, gender#3, birthday#4, zip#5, city#6, customer_group#44, test_column_2 AS test_column_2#636, split(birthday#4, /, -1)[1] AS birth_month#646]\n",
            "   +- InMemoryTableScan [age#2, birthday#4, city#6, cust_id#0, customer_group#44, gender#3, name#1, zip#5]\n",
            "         +- InMemoryRelation [cust_id#0, name#1, age#2, gender#3, birthday#4, zip#5, city#6, customer_group#44], StorageLevel(disk, memory, deserialized, 1 replicas)\n",
            "               +- *(1) Project [cust_id#0, name#1, age#2, gender#3, birthday#4, zip#5, city#6, CASE WHEN ((cast(age#2 as int) >= 20) AND (cast(age#2 as int) <= 30)) THEN young WHEN ((cast(age#2 as int) >= 31) AND (cast(age#2 as int) <= 50)) THEN mid WHEN (cast(age#2 as int) > 51) THEN old ELSE kid END AS customer_group#44]\n",
            "                  +- *(1) Filter (isnotnull(city#6) AND (city#6 = boston))\n",
            "                     +- *(1) ColumnarToRow\n",
            "                        +- FileScan parquet [cust_id#0,name#1,age#2,gender#3,birthday#4,zip#5,city#6] Batched: true, DataFilters: [isnotnull(city#6), (city#6 = boston)], Format: Parquet, Location: InMemoryFileIndex(1 paths)[file:/content/drive/MyDrive/data/data_skew/customers.parquet], PartitionFilters: [], PushedFilters: [IsNotNull(city), EqualTo(city,boston)], ReadSchema: struct<cust_id:string,name:string,age:string,gender:string,birthday:string,zip:string,city:string>\n",
            "\n",
            "+----------+--------------+---+------+---------+-----+------+--------------+-------------+-----------+\n",
            "|cust_id   |name          |age|gender|birthday |zip  |city  |customer_group|test_column_2|birth_month|\n",
            "+----------+--------------+---+------+---------+-----+------+--------------+-------------+-----------+\n",
            "|C007YEYTX9|Aaron Abbott  |34 |Female|7/13/1991|97823|boston|mid           |test_column_2|13         |\n",
            "|C08XAQUY73|Aaron Lambert |54 |Female|11/5/1966|75218|boston|old           |test_column_2|5          |\n",
            "|C094P1VXF9|Aaron Lindsey |24 |Male  |9/21/1990|29399|boston|young         |test_column_2|21         |\n",
            "|C097SHE1EF|Aaron Lopez   |22 |Female|4/18/2001|82129|boston|young         |test_column_2|18         |\n",
            "|C0DTC6436T|Aaron Schwartz|52 |Female|7/9/1962 |57192|boston|old           |test_column_2|9          |\n",
            "+----------+--------------+---+------+---------+-----+------+--------------+-------------+-----------+\n",
            "only showing top 5 rows\n",
            "\n"
          ]
        }
      ]
    },
    {
      "cell_type": "markdown",
      "source": [
        "**After Caching**"
      ],
      "metadata": {
        "id": "KErGCehP9OdL"
      }
    },
    {
      "cell_type": "code",
      "source": [
        "df_base.cache()"
      ],
      "metadata": {
        "colab": {
          "base_uri": "https://localhost:8080/"
        },
        "id": "gk1a3XHF9N7y",
        "outputId": "7f04a1eb-aec6-41ee-a1f8-f3303790efc8"
      },
      "execution_count": 9,
      "outputs": [
        {
          "output_type": "execute_result",
          "data": {
            "text/plain": [
              "DataFrame[cust_id: string, name: string, age: string, gender: string, birthday: string, zip: string, city: string, customer_group: string]"
            ]
          },
          "metadata": {},
          "execution_count": 9
        }
      ]
    },
    {
      "cell_type": "code",
      "source": [
        "df1 = (\n",
        "    df_base\n",
        "    .withColumn(\"test_column_1\", F.lit(\"test_column_1\"))\n",
        "    .withColumn(\"birth_year\", F.split(\"birthday\", \"/\").getItem(2))\n",
        ")\n",
        "\n",
        "df1.explain(True)\n",
        "df1.show(5, False)"
      ],
      "metadata": {
        "colab": {
          "base_uri": "https://localhost:8080/"
        },
        "id": "ExZ_bx0K9kgX",
        "outputId": "8eba2358-763b-47ba-8788-e371185a098a"
      },
      "execution_count": 10,
      "outputs": [
        {
          "output_type": "stream",
          "name": "stdout",
          "text": [
            "== Parsed Logical Plan ==\n",
            "'Project [cust_id#0, name#1, age#2, gender#3, birthday#4, zip#5, city#6, customer_group#44, test_column_1#978, split('birthday, /, -1)[2] AS birth_year#988]\n",
            "+- Project [cust_id#0, name#1, age#2, gender#3, birthday#4, zip#5, city#6, customer_group#44, test_column_1 AS test_column_1#978]\n",
            "   +- Project [cust_id#0, name#1, age#2, gender#3, birthday#4, zip#5, city#6, customer_group#44]\n",
            "      +- Project [cust_id#0, name#1, age#2, gender#3, birthday#4, zip#5, city#6, CASE WHEN ((cast(age#2 as int) >= 20) AND (cast(age#2 as int) <= 30)) THEN young WHEN ((cast(age#2 as int) >= 31) AND (cast(age#2 as int) <= 50)) THEN mid WHEN (cast(age#2 as int) > 51) THEN old ELSE kid END AS customer_group#44]\n",
            "         +- Filter (city#6 = boston)\n",
            "            +- Relation [cust_id#0,name#1,age#2,gender#3,birthday#4,zip#5,city#6] parquet\n",
            "\n",
            "== Analyzed Logical Plan ==\n",
            "cust_id: string, name: string, age: string, gender: string, birthday: string, zip: string, city: string, customer_group: string, test_column_1: string, birth_year: string\n",
            "Project [cust_id#0, name#1, age#2, gender#3, birthday#4, zip#5, city#6, customer_group#44, test_column_1#978, split(birthday#4, /, -1)[2] AS birth_year#988]\n",
            "+- Project [cust_id#0, name#1, age#2, gender#3, birthday#4, zip#5, city#6, customer_group#44, test_column_1 AS test_column_1#978]\n",
            "   +- Project [cust_id#0, name#1, age#2, gender#3, birthday#4, zip#5, city#6, customer_group#44]\n",
            "      +- Project [cust_id#0, name#1, age#2, gender#3, birthday#4, zip#5, city#6, CASE WHEN ((cast(age#2 as int) >= 20) AND (cast(age#2 as int) <= 30)) THEN young WHEN ((cast(age#2 as int) >= 31) AND (cast(age#2 as int) <= 50)) THEN mid WHEN (cast(age#2 as int) > 51) THEN old ELSE kid END AS customer_group#44]\n",
            "         +- Filter (city#6 = boston)\n",
            "            +- Relation [cust_id#0,name#1,age#2,gender#3,birthday#4,zip#5,city#6] parquet\n",
            "\n",
            "== Optimized Logical Plan ==\n",
            "Project [cust_id#0, name#1, age#2, gender#3, birthday#4, zip#5, city#6, customer_group#44, test_column_1 AS test_column_1#978, split(birthday#4, /, -1)[2] AS birth_year#988]\n",
            "+- InMemoryRelation [cust_id#0, name#1, age#2, gender#3, birthday#4, zip#5, city#6, customer_group#44], StorageLevel(disk, memory, deserialized, 1 replicas)\n",
            "      +- *(1) Project [cust_id#0, name#1, age#2, gender#3, birthday#4, zip#5, city#6, CASE WHEN ((cast(age#2 as int) >= 20) AND (cast(age#2 as int) <= 30)) THEN young WHEN ((cast(age#2 as int) >= 31) AND (cast(age#2 as int) <= 50)) THEN mid WHEN (cast(age#2 as int) > 51) THEN old ELSE kid END AS customer_group#44]\n",
            "         +- *(1) Filter (isnotnull(city#6) AND (city#6 = boston))\n",
            "            +- *(1) ColumnarToRow\n",
            "               +- FileScan parquet [cust_id#0,name#1,age#2,gender#3,birthday#4,zip#5,city#6] Batched: true, DataFilters: [isnotnull(city#6), (city#6 = boston)], Format: Parquet, Location: InMemoryFileIndex(1 paths)[file:/content/drive/MyDrive/data/data_skew/customers.parquet], PartitionFilters: [], PushedFilters: [IsNotNull(city), EqualTo(city,boston)], ReadSchema: struct<cust_id:string,name:string,age:string,gender:string,birthday:string,zip:string,city:string>\n",
            "\n",
            "== Physical Plan ==\n",
            "AdaptiveSparkPlan isFinalPlan=false\n",
            "+- Project [cust_id#0, name#1, age#2, gender#3, birthday#4, zip#5, city#6, customer_group#44, test_column_1 AS test_column_1#978, split(birthday#4, /, -1)[2] AS birth_year#988]\n",
            "   +- InMemoryTableScan [age#2, birthday#4, city#6, cust_id#0, customer_group#44, gender#3, name#1, zip#5]\n",
            "         +- InMemoryRelation [cust_id#0, name#1, age#2, gender#3, birthday#4, zip#5, city#6, customer_group#44], StorageLevel(disk, memory, deserialized, 1 replicas)\n",
            "               +- *(1) Project [cust_id#0, name#1, age#2, gender#3, birthday#4, zip#5, city#6, CASE WHEN ((cast(age#2 as int) >= 20) AND (cast(age#2 as int) <= 30)) THEN young WHEN ((cast(age#2 as int) >= 31) AND (cast(age#2 as int) <= 50)) THEN mid WHEN (cast(age#2 as int) > 51) THEN old ELSE kid END AS customer_group#44]\n",
            "                  +- *(1) Filter (isnotnull(city#6) AND (city#6 = boston))\n",
            "                     +- *(1) ColumnarToRow\n",
            "                        +- FileScan parquet [cust_id#0,name#1,age#2,gender#3,birthday#4,zip#5,city#6] Batched: true, DataFilters: [isnotnull(city#6), (city#6 = boston)], Format: Parquet, Location: InMemoryFileIndex(1 paths)[file:/content/drive/MyDrive/data/data_skew/customers.parquet], PartitionFilters: [], PushedFilters: [IsNotNull(city), EqualTo(city,boston)], ReadSchema: struct<cust_id:string,name:string,age:string,gender:string,birthday:string,zip:string,city:string>\n",
            "\n",
            "+----------+--------------+---+------+---------+-----+------+--------------+-------------+----------+\n",
            "|cust_id   |name          |age|gender|birthday |zip  |city  |customer_group|test_column_1|birth_year|\n",
            "+----------+--------------+---+------+---------+-----+------+--------------+-------------+----------+\n",
            "|C007YEYTX9|Aaron Abbott  |34 |Female|7/13/1991|97823|boston|mid           |test_column_1|1991      |\n",
            "|C08XAQUY73|Aaron Lambert |54 |Female|11/5/1966|75218|boston|old           |test_column_1|1966      |\n",
            "|C094P1VXF9|Aaron Lindsey |24 |Male  |9/21/1990|29399|boston|young         |test_column_1|1990      |\n",
            "|C097SHE1EF|Aaron Lopez   |22 |Female|4/18/2001|82129|boston|young         |test_column_1|2001      |\n",
            "|C0DTC6436T|Aaron Schwartz|52 |Female|7/9/1962 |57192|boston|old           |test_column_1|1962      |\n",
            "+----------+--------------+---+------+---------+-----+------+--------------+-------------+----------+\n",
            "only showing top 5 rows\n",
            "\n"
          ]
        }
      ]
    },
    {
      "cell_type": "markdown",
      "source": [
        "![image.png](data:image/png;base64,iVBORw0KGgoAAAANSUhEUgAAAoQAAAH7CAIAAADaSRmRAAAgAElEQVR4Aey9z4ssSXbnO/+ICBy0uLta5MwFLbpeQHaQiyl6Mf20uaCBGmnh5ELOBBKXBqloGIoBUXQSD/EgcEaIYgZRJCipgIYLCvDFEwWNKEEqaiNqFknMoqEWAXchqEWDP845duwcM/eIjMybGT8yvkFR4T/Mjh372I+vHXO/kf+uxQcEQAAEQAAEQGCvBP7dXktH4SAAAiAAAiAAAi3EGJ0ABEAABEAABPZMAGK85wZA8SAAAiAAAiAAMUYfAAEQAAEQAIE9E4AY77kBUDwIgAAIgAAIQIzRB0AABEAABEBgzwR2JMYrfPZHYM9dDMWDAAiAAAjcRwBivD+R3FXJ9/UB3AcBEAABENgzAYjxriRxf+XsuYuheBAAARAAgfsIQIz3J5K7Kvm+PoD7IAACIAACeyYAMd6VJO6vnD13MRQPAiAAAiBwHwGI8f5E8sNLvp0MB/o5nyzWGEz7wLK+KNZ9RtNlmhhnIAACIAACuyBwoGI8uxwM1qvLGtE53cubcaX9aPnlp69f/wH/9/oVq/KrcPoHrz/9nxDjlBbOQAAEQGAnBPYlxovJuYZ0g8HwKg/qNqvL4anurBwMBpezfTm2GdfajnRXj4qiuKihwGsR4QYIgAAI7ITAXsSYpcsFvourYXmTCNlmdUmSHsQJxHgnvRWFgAAIgMALJbAHMV5cDQeD4eS2T0X9Q1CLnPMta5Jq/aRRNYkiXbmhSFU+qcxvjMh7Svd++rz++mq1uleM1+TlEtMqrDp81uR1/DavXdZ23Twy/v6Ln9C+dTV3Of71i4+LovhPX/7Qts043P3h3dtPZIf7o0/evvvBpW7b3777/M3Huv39ydtfL38Mt39c/vrzN0O5U7wahnzLv/15URSvf9FossQYTkAABEDgRAjsS4wHqUY6YeHD9eqSRtUin7Y/zHdJhEvZMs6EbXbpRJQF24Qw0UXRv2BEPPIb0ZnZ+8Q4keo0LxfkNglWK76S1UhP07wGbT0uSrO2K+di3H7/K1LeYtzELN/91euiKH7+t6S4Isaf/smnxe+/fvOnbz/9j0GQq/n7kP5/158URfH7o09/8fbtL6qfU9bizd9R3h/+7g2dhFuffvLqk/qOMkGMI2ocgAAInDKBPYhxkC4nmaYqerROXViNvEZmcWQq1avViiV2jfAnQphbZqmOGfO7GyVTKxG+N+flu26JkDq8OW8saB0uSbC2f3fEuP3tlxSoFlXzO8n03RckqOXX/0anIsbFTz7/VsPY76ckvvrUmd/TflW9U2kO1l5/8Z3mrd6pLz++f8829RzfIAACIHDSBPYixqQRLDO9O8l0d426JPIZpChRryQGDQnWf/lS6FjjacpBYhw1MotW6b7PuzEy3ipvDNBT9b03b6hb6kxe4bUdvCvG7Y9fl0VRvPrsG870T5+9KopXfyEnQYwl0g02/+3rT0W827b9PxwW02n2qZpWY+7XP//8+rsfVMvXOoYbIAACIHBiBPYmxqoYurGsO7FyfY269IiTxL4qZveJMSt3WALIV9wi5ltqhwuKt+SRcJKNT7IEaRXyCmbZLa/XdSpXfdBH0VnGQf4EvbMy0JL1e22X7hHjtv3GBPjbX5IWB2GO0a1/otw2FSkvyW0r1l5XX/763bvkv+9on/p3P7z7RXjQXBSvPvlvzfsQfK/1DjdAAARA4HQI7F2MSTE4Ko1hqF5xcqWyslaMdT95oxiLEjvJTCTfvfNF8peU3leu+sTfG8q9N6+LwslDz2GLvFL8xn+WvbY394pxy69xvfrsm999S7L8ky++1/zhBa641RwFuHhrYkwZNUP3+8cfvvv1F28+IgHHD4x08eAKCIDAyRI4UDFOd2tN97rX0ysbRDF7ukw2nRjfI3supTnjjjaVe19e2rOXgJjqkiwCvIeutM7h5iLWdu5+MZYt5Vef/Yq0WF7dEgvhmfHP6u+D3L5vxqyr5de88cziXRSfTKN8tz/+65df/TO9v/X9v8Ynye2Pv6atcP+a2FoPcQMEQAAEToPAHsQ4eaVZ37HKfzEje9XZ5CeVvWRvWfd1Xexr+cJj4LgJzOrrIuDNeiab4bmTZj31yq7zUSciz+6HJ+jnZXneecl8i7zpqqJr+wFvU4c+H17joteov/ytjQMR449/8nHxB2+qX8S3qcN70W3bvp9XLM7Fq//46dtfvK3e0Ntf/A+l6N0uufj2F5+Ofp+0+NMZyTPepja+OAIBEDhhAnsQ4/Cvd9yjUN1kToSEQ15NlMSLrHx6J827URQ7b42lApyYFfM9xrVcet3LfqikJ2+q3HkCl9cJtn+DzGCszZsgUsfcI+dgYm33XhMZt+E1LnqN2r9rpdvU75v/pv/M+Gdv3935JO37f6rLn4oiF8VHozf/7R3/Q+Mfv/1/3ozi5Z+++Vz/dTLEeG3r4AYIgMApEdiLGJvOHMwRC14i+T1Psg/G24c58vD+/P7rP3HvVGv+IMbJC1x6D98gAAIgAAIfQABizMKWb3fTRY47/etUD5PAw0n94O7xL/yrWx99/m2aE2Kc8sAZCIAACDwZAYixiGYnMpaHtWmsfDj6+iBPtu8szX//efUnsgX90dvOL1RCjLcniZQgAAIg8CACEOOoa/mj2e7D15j0uA627xAit6+GZf3P9vJzzA4xjihwAAIgAAJPSwBifFzC+hhvn7bHwBoIgAAIgMCTE9iRGD+53zAIAiAAAiAAAi+GAMT4xTQlKgICIAACIHCsBCDGx9py8BsEQAAEQODFEIAYv5imREVAAARAAASOlQDE+FhbDn6DAAiAAAi8GAIQ4xfTlKgICIAACIDAsRKAGB9ry8FvEAABEACBF0MAYvximhIVAQEQAAEQOFYCEONjbTn4DQIgAAIg8GIIQIxfTFOiIiAAAiAAAsdKAGJ8rC0Hv0EABEAABF4MAYjxi2lKVAQEQAAEQOBYCUCMj7Xl4DcIgAAIgMCLIQAxfjFNiYqAAAiAAAgcKwGI8bG2HPwGARAAARB4MQQgxi+mKVEREAABEACBYyUAMT7WloPfIAACIAACL4YAxLinKVdP9+mxjksgAAIgAAIgkBKAGKc8+OzptHjVYx2XQAAEQAAEQCAlADFOefAZxLgHCi6BAAiAAAg8G4HdifFyOhpNl6Ei86ooquYRtaKMRTG2rMvpiK7Q5+EG55W55Jx5OjFe1BcP98p5gkMQAAEQAIFTILAzMW6qi1qluG3GxejCafO2pJe5tt3VI2d2WzMx3TZifDsZDuQznNxukOnF5HwwOJ8s0iTtXT1yS4dYMg5AAARAAARAIBLYlRjPq2oeC2Vh9joq8W5RZHGqRb2suM04hMCWbF4VmRiTvjb1hYuV72qNnSVIJUWvKZ4e1f8rRMZckIWwqZ7q2U3Z1Vq9t1pcDYdXk7Irxm3bjM1yRIADEAABEAABEIgEdiTGzXhU32mhIR5d1hdysal6d5id0FIkTVvcnciYpK4gWXXG4ylJrI9KrVxVfbkyr5JkbRslNjm4KQeXs+RKPAm3Zr1ivJyO3EJEIeAbBEAABEAABJTAzsTYosMozPEpMglqFuCyypqGhc3eHjHmijT0JFl0NyguX9bgO4bUnMYZmVeji1G36CiycrC4ko3qco0URw2OB2aA/Eh2BRQ8vkEABEAABEBACexcjG3TmHeSowbzddt/fpgYU22acUHi3RHj38QXx7qKTsH3aNSJy01Lk6NZOejRY5Xq8GB5MEgeLZNnEGPtbfgGARAAARDoJbAzMQ47yTEaFm+CgspJ9q7TdtvUsVZRjGOkK5vbsQjdtU4j4+mydQWJtUSC7cSJ8U05GAzKG7vHR/2RMbapYxvhAARAAARAoJfAjsRYo8P4nFidoee1V/zPldJHv3w/3V5ue54Z65tfFGXHbepxFd7Ykisai4/GFb/Y3BFjDl7jk+Y2e2bMusthrwt5HyLGeIFLGxvfIAACIAAC/QR2JcZtU/l3qfqdeYqrfpv6sfaygPdDTvFPmx7bCMgHAiAAAidEYGdi3GYb1M/F+LDEeKFvjD9XdWEXBEAABEDgBRDYnRgfEawPCYWzvEdUa7gKAiAAAiCwLwIQ4x7ymaB+yGmPdVwCARAAARAAgZQAxDjlgTMQAAEQAAEQ2DkBiPHOkaNAEAABEAABEEgJQIxTHjgDARAAARAAgZ0TgBjvHDkKBAEQAAEQAIGUAMQ45YEzEAABEAABENg5AYjxzpGjQBAAARAAARBICUCMUx44AwEQAAEQAIGdE4AY7xw5CgQBEAABEACBlADEOOWBMxAAARAAARDYOQGI8c6Ro0AQAAEQAAEQSAlAjFMeOAMBEAABEACBnROAGO8cOQoEARAAARAAgZTAcYjxh/yphr3kTSHjDARAAARAAAQ2EYAYP4tYb0KOeyAAAiAAAiCQEoAYQ4zTHoEzEAABEACBnROAGO9OjJfTUaGfat5mp21LV6p57ALL+mJU38XTvoN5RfbGTds2fFQ186q4qJdZ2rt6VFRNdrH/dFlfbJmyP/+uri7ri6IoiI9gHE1/U18Ujl5wpBkXo2nOo9/JebVVyru62tJgXkxTdZsmT7OP83UVX3fdfKRW6DK3+1se9Xbatm0D6oeXcr/n7NmWybaoRTpyt8jQk+Spukew09vzm/F9U0qPY7i0IwLHJsa3k+FAP+eTBSnprNQLg8FwcsuXLvUSp5ldDsobur64Gg5CrlyD6ZZ8Lmd076aM1hZXw+HVggsq+R7nvSmdqcXkPBQhdrut14xFNe2OG8BNpbriprZ7xdiE05ky+486MpuPyr6rTDaNPtUU1rZmc2MtIMYb8TzlzUej3rIpt0y2RZWeYgA+VU/eZAdivEVj7i3JEYqxqunscjAQ4WSVZb0kKSRZ1esijUGMbydDzSvX7f+mrCqrN+XwsixJg8lgjxjbdVbutMQ2W+zf1aNOVOQHsAwSf6Vtu2Is4WBRcJhL6s6f0X/943B0US9t/pJYWRI3FUXPFHtzQBkstHf1aFyHK+RevNsX7tDMVXP8TYvrUHowa1E+LyZI0WvZBhg3VAr5F5fk0bFQCtV9WhXF753/h5imU3fZAyg4zA0Gi6L4L39G8TF9qnnbjENMH7ccRtPlclqF3QVvoW210JCX2ks+nWaSHQu5SbXrIcwViTO77UP4lU2stdTRUGfheHSeNzy4zXRDhVPGjJkdqXu8y6daqawImWxiQdU4bAlYj5ouUyCZ82KA/q/MNUFKz4rg/Z70NHaSUf2PYbMhccAi41BKvEudiTYn0sryxlJoJq2ROBoViByQHks9v+Hll3TpuFBObeYDxCruS/9KGygYV+wyTm2UMZwUAnWnsF02rjobJ0qVuzfTlpFCtXSrdvaqY0d7flIjRcEXdfD6WuF4jwT2KcbX19dn/Lm+vt6MwFTTCypFySFUVb3khBTUuhB2tWIxXkzOk4tmMyTQCzclaflNObyaSRY1PitTs6vVYnI+nNx2r69oLnN9fTkddSdEk16dvu0K4cgFSQcSD2AybnO9ZQxSQYPNDdcgxrkFKjfoXzOW9GYzbxGaYniK52GvosvZow4Fl6h0qS9NoDJBByDOMa01pRFW0Y7MldEDdxqqEFO2FgcEYUiXQWFK6liwQuM6yWzGgvkgJpDLXcJSEU3Gsy1jcYVyVu9q3DwPmyJpkXQWa+qfO2R7j1mDpt2sqTY8m1D4XFB0RrzQPtAFktfIZNJ1Nq2KAgnnZk3sWydx65vUAV33qOTL3YAxqzurWliNZZQUC5UoMMN4iV1ax1qfzWyAhNqoTTsNBBzYoP10JRhxuy8GIWRM+62IfWazp9Nq+Tbe1Y70/MxPqaAO9pAZXwdCYJ9ifHZ2JivZs7OzzThUJ1crL8a0Qd0nxitORnvOya617FSbKXcU97Hp2u1kGMR4wZK8WC/GspudbFCL1aw62ZCQu3GNHKNG01RKkYmxLZMJGimcTpr+YbPMX9k82IoYdyz4uXVe8cg3m1kV3DxioiIDnuYI+4zqOzPiasQ+pI7p1KBTlSqry8UgYuTBpZCfNrObMzJlZxNNnJLMwRBGx0KX9ZifspvNrOo8icelVR9hrkioNbkhpnKD0dVEJrPKtuHxP/nL4X66qEr0ta9BXcxE7ZKGqrFiSYeMfpJsyIfhxOsu6MwM2gIo6k0sg/qnLrNobeFbIOkkJsaZAz1iHLtWXvff+PWu85zcCf2cemDS5Vwy7ie5zWXPANHqsatBLN0ATMBKf3ZGcgj/6DfMYvfgIu4ZKdppxZ0kcbAjPV8i7+hnMx6NdKGsNcH3oRA4ZjF2wqx66QSWDmcl6zFrrSl3lojS6UNlumWRMT8nPp/M1mxTs51+s3nzpoGy3O3MwrTZ6wLorhiHhb8ajxOTe/OrTypofictSTSAjLhpov0wMY6jnX3rc0x8SGaNEPzJ/CiV8qqm1cyw8GWbRm0K2yzGDixZcIXqvGY2Y8nugPceqZp9hMUaN6ii1nnfmYiuJg2RdgNrdLmeri2SjD0NyoXxjK9dhTUjq7tsvNvFUHEzHuBEINZ7YxVCtYIY05nFna7KtGzqW1VIenOS34nrONARY8fKEktxydiJngdXuENKD6f/ay1cMhVjdUky9gyQpHIRdXQscaNPjJORkgwH9SoW7RZS0iI9nbYncbATxJgTRD9pz+BC9+qTquBk/wT2KcYftk1ND3f9c+J47LRWtpFVa514uzR82PvMOD4wPu9/ZrxJjG3+kjamqcpPf/I2dTIyW5m5dDrQ7SbtI6kFutqneWH+osTOuChEx0LPXGM2tVz9tpnLZg0Z8BTiu4mj37GwIHCOkU5QZd0UwyHvuKLnef5j24l6tc8Zi9KcM2FK6lhwhW4nxtw61IJdwloRitcvZDlFmjqSgFtdJu1Ux9w+arZNHTVGQaXdwGUM+medygpKkfpWjmmc2WDThEFdUsgmMC6XWHJinHTIWA4dsJ0NnaSzvlEHMjFOKtLpzM63lBK5wBEhh/tUzVF4H14rSK7TuwUdm77EsFpNahZXdVGM/W65bVNrf+5A0JrK2NfuwWVoB5BFcz5StNMGd3rseDGOfqqou7korxDO90Zgn2K8faVNO93b1Kq++dvU9l70IKh1DHz5Vv+TY3odjD/BLD0z5pe1+W1tPs4LeogYh6kzbNXx4LQB7EDQcA0fVWW7a9toPAWbcJopnb9ke4otVU0QQhqS+p4Sj8a+uUYcqOZmPJRvM5eJShzwtv9GE4rlNceiDxyrsWNho9jpongYN5Ct5jmWPmeiMERn/AtcmQVXaJzXGM5FvTTj7IA5zC3SQzg6bHMiFadTcKwGOyaJrSHcmokSqp+jahz+nZuvjmvB3A5XVjsPFR2LoJSuIYI70WznBa6qCv8ARoFEU52XjIR5NJWsDDJufqc67SS6volb2eqAouZSSJzsk1QwSEt0I9YokqcAPUidEznX0NqTI7S1A0RsajPpPrxUVsd18FNK9KMshxB2Dih9h60bwqGD9XVarSLvQHg7UqPMz2iBWAUgagHf+yZwbGJssnzQR/tu1g8v3xT3w209wILFZw/I9LRJu7r1tPb3Yi3OwnspHYWCAAjcS+AUxTgGwSEWHvS8gfWBUn8v90NPoEHJDv2U0CcEATssNy8qRtj5jSM+j9H/EdcBroPAyyZwimL8gUK7TfaX3WlQOxAAARAAgaclADHeRlsfnOZpGwnWQAAEQAAEXjaB4xDjl90GqB0IgAAIgMCJE4AYn3gHQPVBAARAAAT2TwBivP82gAcgAAIgAAInTgBifOIdANUHARAAARDYPwGI8f7bAB6AAAiAAAicOAGI8Yl3AFQfBEAABEBg/wQgxvtvA3gAAiAAAiBw4gQgxifeAVB9EAABEACB/ROAGO+/DeABCIAACIDAiROAGJ94B0D1QQAEQAAE9k8AYrz/NoAHIAACIAACJ04AYnziHQDVBwEQAAEQ2D8BiPH+2wAegAAIgAAInDiB4xDjB//VpGPIcOI9D9UHARAAARCIBCDGe9Pt2AY4AAEQAAEQOHECEONDFOPldFTN23ZeFRf1Muuh82o0za9lSdafNtW4WX/3kXeacUVGe73tmtzK/2V9wTZj9rt6VPCnCySmwQEIgAAIHC0BiPEBi3Fvr9pKzHpztm37nGK8rszs+lb+52LcTMOiZDkdfcBaJHMFpyAAAiBwKASOTYxvJ8OBfs4nC1LSWakXBoPh5JYvXeolTjO7HJQ3dH1xNRyEXLkG0y35XM7o3k0ZrS2uhsOrBRdU8j3Oe1M6U4vJeSgisxvNsgV/c1FfFBT+uk8zluhvVI05Mr6rKwmC51W4MV22KmbL6ago0vBRk4Xrd/VoXNcXPqBkMZ5XRYyP/XH0hIqoqUhKtgwWpCyy2UQ/6zvKEyLj6G3bBHcpSzweUeLooQS4eqr6qokvqiqLjBPfCILuGTRVBiGmxAEIgAAIHA+BfYrx9fX1GX+ur683EzMRu50MVU1nl4OBCCerbFQ70j+9LhmDGLu8ZlCOTFlVVm/K4WVZkgaThPeIsV1n5U5LVPuzUrylNYQTcrq9qC9Yn2LNTWBI/0ing7yleiNi3BVR2sgN2kw6PW5auhKKaMYi/BIZW9zZjFMfxBnSyGDKErAMs01dQ6jDqRir87FeciDZeTc7SG+8QnJObjTjwm6pA6mZZYQmNQr7+WkinIEACIDA0RHYpxifnZ1JwHd2drYZnGrbauUF1Smc6iUnpKA2UT4W48XkPLloNlerGDrTxZuStPymHF7NJIsan5Wp2dVqMTkfTm67171tOe5Jk1VZ9ZIuB43RWJMi0fisdF6NLkZ2qlbS/dumuqiXTu3aecVReNimVg3jZGrBvjX4pm1taSH5f2aT7pJmJ2J8V4+iq2yRI3gXnatxu843q7lfc9hywbziGN3tJbBvMcR36XAIAiAAAkdH4JjFmDaog76qXqoKht3sZNdadqo1RfKdiPHtZBjEeMGSvFDjVpxlJuHv36C2ND6GdlezvrJBjCklv8FEgSPFo6MYBEcjDxJjsjZu4o53NBIOVC9ZjNOdcC/w24ixRfAq/Go8dZifZ1s03BXjptIoX72FGCsJfIMACBw/gX2K8QduU/soWfXSaR0dzkp+isxa2yelmjwRY4uM+Tnx+WS2Zpuac28yK+a72+Z8Pd+mDnvL1KV0p1cj49DNvILqFrH1wN5t6hg4ppExF1FVvXvUfieZPdEHulxUt5QsMo7Oc3JT3OiwijE/P/ZKr7UOK4/slj8l07J28SsYQ4EjEAABEDg2AvsU4+1ZqWj6bWp6uOufE8djSxy2kXUX2m9xu0R02PvMOD4wPu9/Zsw27hFj/2A7LTMXY/eqVPYCV9wr5ue7iZglT3xt41c2in0Um4sx7YTz+1nUCLprrQ0Si6ALsXR+oEs2q7B3rdvRyTa1BvGy92wvcI0r2jmPBvnYHJaYmKN/ypi/wGU+8N16GaXdLQ7Ue3yDAAiAwPEROEIx1helVX3zt6njC8yDQVDrGPjyrf4nx6Sa/Alm6Zkxv6zNb2vzcV7Q/WLs3/1WZ6Ik77ez+JjS3tK61ycv8PcmRgIQAAEQAIHtCBybGEcpO/6D7RroGVLJPyiKO9jtsh53flpkXbEQ43VkcB0EQAAEPoDAKYpxDII1xr7/DaxtpP+hZj+g1ZAVBEAABEDgRRE4RTHeRll3kOZF9SNUBgRAAARA4AMIHIcYf0AFkRUEQAAEQAAEDp0AxPjQWwj+gQAIgAAIvHgCEOMX38SoIAiAAAiAwKETgBgfegvBPxAAARAAgRdPAGL84psYFQQBEAABEDh0AhDjQ28h+AcCIAACIPDiCUCMX3wTo4IgAAIgAAKHTgBifOgtBP9AAARAAARePAGI8YtvYlQQBEAABEDg0AlAjA+9heAfCIAACIDAiycAMX7xTYwKggAIgAAIHDoBiPGhtxD8AwEQAAEQePEEIMYvvolRQRAAARAAgUMncBxivIO/obT7Ig69a8A/EAABEACBXRGAGO9ehUOJu2pilAMCIAACIHDoBCDGEOND76PwDwRAAARePAGI8SGK8XI6quZtO6+Ki3qZ9cF5NZrm17Ik60+batysv/vIO824IqO93nZNbuX/sr5gm5p9OR0V8ukC0TT4BgEQAIHjJXBsYnw7GQ70cz5ZkJLOSr0wGAwnt3zpUi9xmtnloLyh64ur4SDkyjWYbsnnckb3bspobXE1HF4tuKCS73Hem9KZWkzOQxGpXfNNHPB3N3SaIMa9KbYSs96cbds+pxivKzO7vpX/uRhHG824+IC1SDSDAxAAARA4LAJHKMaqprPLwUCEk1WW9ZLEjmRVr4v4BTG+nQw1rxdFOjZlVVm9KYeXZUkaTAZ7xNiuc/a0xNw+rSGckNPtRX1RUPjrPs1Yor9RNebI+K6uJAieV+HGdNmqmHGwmISPFJuGD1+/q0fjur7gSyGgZDGeV0WMj/1x9ISKqMkWJVsGC0W02UQ/6zvKEyLj6G3bqB9VY8cjShw9FH/0VPVVM15UVRoZR9easdqJNRLHYgocgAAIgMAREtinGF9fX5/x5/r6ejM60zYvqE7hVC85IQW1ifKxGC8m58lFs7laxdCZLt6UpOU35fBqJlnU+KxMza5Wi8n5cHLbve5t87F3O9xc1BesK7Hmts1L+kc6HeStqbzeiBh3RfSuHmky0ulx09KVUEQzFuGXyNjizqBt0Qc5II0MMm8JSNrFpq4h1OFUjNX5zKZk593sIL3xCsk5+WlRr6uLmgk6HZcvUqNNWwiaE98gAAIgcPgE9inGZ2dnEsidnZ1tJmXilqiaqaDqpSYMu9nJrnV3o1hTp2J8OxkGMV6wJC/UuBUXM/Judu8GtSahlcEg7njrVfrOqqx6SZeDxmisSZFofFY6r0YXIztVK8vpSONL3o6+qJdO7dp5xTIWtqlVw5oqmlU79K3BN21ra6xN35lNurNxRf4AACAASURBVEuanYjxXT1KbeaPe9W4Xeciqrlfc9hywfvFUXjcpmbfYoifpcMpCIAACBwVgWMWYyfMqpde7ORxMukxB759UqrJ10TG/Jz4fDJbs03NuTeZVfO0Kc0xtLvwEDGmHkXBIusQxaOjGATHzvYgMSZr48aJbjTDB6qXLMYhRA4pvMBvI8YWwavwq/HUYV5AaDjOe+NpudFBbzBspMd7OAABEACBYyWwTzH+sG1qerjrnxPHY6d4QQKD1jrxdmn4sPeZcXxgfN7/zJhzPlqM823qsLdMHUl3ejUyDp3LK6huEVu/c1u7tk0dA8c0Mha1q+T5q5nQI9VL8cQF3LImCDIZHU4i4+g8GzPFjQ5H424zXNLaQ3RXF/UpfMetbNlI8NsJWUqcggAIgMAREdinGG+PybTTvU2t6mtvLMtusL0XPQhqHQNfvtX/5JheB5MNZdZg2aBWuRU7eUF6t98g3XXedjbJczEW5eMt2+wFrrhXHN5dCupIYpY8dbaNX9ko9lFsLsa0E87vZ1Ej6K61NkjUS7oQS+e4nGxWYe9at6NTMQ5BvOw92wtc40q3xNkg5zWHJSbm6J/3w7MXuOJLZPJOmftnVOtlWyuDbxAAARA4AgLHJsYmy0d/tN/e4WNKe0vrXp+8wN+bGAlAAARAAAS2I3CKYhyD4BALDza+gbW16D/U7HYN9Ayp5B8UxR3sdlmPOz8tsq5YiPE6MrgOAiAAAh9A4BTFeGt5fd6EH9BqyAoCIAACIPCiCByHGL8o5KgMCIAACIAACKQEIMYpD5yBAAiAAAiAwM4JQIx3jhwFggAIgAAIgEBKAGKc8sAZCIAACIAACOycAMR458hRIAiAAAiAAAikBCDGKQ+cgQAIgAAIgMDOCUCMd44cBYIACIAACIBASgBinPLAGQiAAAiAAAjsnADEeOfIUSAIgAAIgAAIpAQgxikPnIEACIAACIDAzglAjHeOHAWCAAiAAAiAQEoAYpzywBkIgAAIgAAI7JwAxHjnyFEgCIAACIAACKQEjkOMn/fPJx2z9bQ1cQYCIAACIHCUBCDGxyzFq9VRdjo4DQIgAAIgkBKAGEOM0x6BMxAAARAAgZ0TgBiflhg342I0XbZtU42btm2X06q+W9vpltNRNV97t+fGvCLjd/WoqMi6/9zVIy7RX+PjZX1RSCnL6agoxD1Jtawvgp1mPNrgZ8dmemFt0WmyPZ71EtujPygaBEBg5wSOToxn5WA4uSUFXVwNB+eTxWpWDuKnnMn1yxlrLN0qb1YrSxPyzi59lsXkXJJxppuSzfaKNKUcBOP+eFYOytntZBitkmM9H1duKJFqET9i2dkh528nw2AtVscsP7bDPKcY9/p0vyI21UW9TPKejBgntcYJCIDAKRI4NjEmZRqWV4vVajG5KssgxqTB8TO7HA7P+crNpLwcljdOa1VoZ5emykOyxmpKJhaT83ArGrSD20l5NZuIcUpZlpdStIqxajCJbtBsy02LgktVfVLcWFAsXdYN8TrnVTG2vGZyEcNK7bxNVfCHhI3FbB4ucEAcQ+FMjCk85Y9FtBKn0kWJaNVO0Yl6Y8pqzJGxht0Uf4vVi3oZxZjsJGFuM64aclWShii5Ta9QZDwNxjRYj1nYZ7Jfk5FQcbFm1SE+WgVBEYhRNF8H0xq7xxqxNUVL365G/XgpuKdPxxQXmvpshkNz9FVTElFT1rxzQJYpkqZNBN0t8F5RNbVGlKAZJ/5ECKEdjduf/bG1bFPZsXmJIxAAgecjsE8xvr6+PuPP9fX15hqa+txOhpeTyeVkcTuZ3MzWiTHp9M1qdjWZXQ3LaYwsTWu9GHPovFrdlIPL2eJqyNpsBfqjxVU5uaWInLOQGM9uStNyVU3KQlqbLBHEjhfU2eVAy/JiTEsHvc6ZxGwoyLtD1akv4oxMCJtxFDPahCZxCqrQVDx36750IsbL6SjRJ20M26Z2+6gkVKo0lNDdyvbAE2dEjO/qUR7+tizGrHP5LR8Za0XUgm1cR8sqTvmtUJ01AkMKLZq9DDDnVdRgrZGauA+vkmuDD84Ut442lvgcU+vyhYRT2Go1NQk1pbQRpRFQ84oTGyWW4SXLrS5QCukPWjXXWKEd6UrwyppbHjdo2fgGARDYAYF9ivHZ2Rkv2ouzs7PNVTUJIjGeLa4oJJ3cshzaFvRgwPrHQjsrL8vycra6KYd/+Uvd5iUzIsNxu9jJHm87a2hrJdrRghYBIrQU9Urp0QfeprbsXl/NhBdjJ/x54uCe37U2y2Zt1X2bOok73TStOt0rxhJpacRpTRFn51Stk/3k5FaYxIPSsyo4+bkY9TxLJsdECxOz7IT5b/raLutxvYwRqnQgH3l3b2mFTMb0Cn074RE4PWuImP4+vK0rvZpnayONX6PP0ayJseIK1YwpDEVsFCrLomQxylpuNTKkUrWksVq+65cFeuxoRwdwAAIg8LwEjk2MOX7Vx6hOCE2hwj5zkL1cjONd3goWa5rXqaNe8t/uUS6rvpQugTKraRYZ98mnF2N3nIuxFEuPky9nUtnZmpC9r3dwQBx2a22fVjSmX4zZCu9nWnp+vSu8wNUziWvBya1MjCmNOkOh3igGYZqbvh8rxomrtJ6wPYD0li+MAkH/jtgDxdjXSLap1Tjj1QCU3owjdImuk06vc8xtU4f36WTNodZdWT1inO0oPFqMQykm4bF4HIAACDw3gX2K8WO2qZPd2nVi7PaHKf0/2PtZ+TPj5AnxZjHW3WkSStbRIMb0vPl8SJvSJsadrWYVdRPgG3q3TB9194ux7JzrysM9b1Zr3W1q7S4SSJEQhnhX9yc3iHGyj8qGbN7X7KLQYStVCnM7sbqpq5Fx8IadEbF0dtTVx4mxbdsGOybGnVuxJDmwlHxu0qUP1HtqlJlYhzfKrZJ3pmRd0vs4IMS4tC55eGTMsXiyq2E1MlkN7e742za1e+hALR4e/GdVxikIgMDzEtinGG9fM1OfXIyHk9vsbeqokZwpRtLhjeWgf/GZMQmehrAbxbhr9m/0TS5+rzt9m9rtfpvvouL66nTwpPM2dVad/G3q1HLPM2PZr9TXhapK3t+x54Lyb5mCXsbdy7DL6eZlah2au8NTzPXvNOkrQkWh83iM84JVciZKINv04rE+Mqb4suCnnn0qZbu+iX3yO70V+lm8GAWPb5h0qRjzln4vEN48oDvr8coLXKNqHDYV0izRhzQ6/5Bt6thM7DGBtRp1xJhD9lA1iadjuwglp9YBG75AAAR2QuDYxDiRNpxs/gUue9C4k750aoW8RLzhpbBTa0rUFwT2TwBi3KvoPjyVUDZuKfem7734JEZ6LdvFjT3oJarFxgrv9uYLwytR+7qn2rtFi9JA4PQIQIxN2I7x6PR6LGoMAiAAAi+QAMT4GCXYfH6BXRJVAgEQAIHTI3AcYnx67YIagwAIgAAInBABiPEJNTaqCgIgAAIgcJgEIMaH2S7wCgRAAARA4IQIQIxPqLFRVRAAARAAgcMkADE+zHaBVyAAAiAAAidEAGJ8Qo2NqoIACIAACBwmAYjxYbYLvAIBEAABEDghAhDjE2psVBUEQAAEQOAwCUCMD7Nd4BUIgAAIgMAJEYAYn1Bjo6ogAAIgAAKHSQBifJjtAq9AAARAAAROiADE+IQaG1UFARAAARA4TALHIcb2hxFw9EACh9nt4BUIgAAIgIAnADF+oLgdW3Lf2DgGARAAARA4TAIQ42NT1wf6e5jdDl6BAAiAAAh4AhDjB4rbsSX3jX1kx/NqNF32+xxuLeuLoppnSZb1RdVk1x59eldX7EMzLtY6Y8a3LLqpLuqkYvOqkM/4yRw3p3AEAiBwDASOToxn5WA4uSVJXFwNB+eTxWpWDuKnnMn1yxmLJt0qb1YrSxPyzi59lsXkXJJxppuSzfaqLqUcBOP+eFYOytntZBitkmM9H1duKJFqET9i2dkh528nw2AtVqdrOUIgAv5zDJ1wjY/3i3Fvxi0VsTdv56KKcedG74Uti87EeFlPgwY34+7aorcgXAQBEHhpBI5NjEmZhuXVYrVaTK7KMohxokCzy+HwnK/cTMrLYXnjtFaFdnZpqjwka6ymJGKLyXm45SUtHN9OyqvZRIxTyrK8lKJVjFWDSXSDZidmZpeq+qS4saBYuqwb4nXOq2JseROTdLK4GvKaYzW7HHB1LEXbNlUxqu9ixyXBqKcjisTGTXtX81FM0IQYTUI3ksOar1CCZszhm0ZvSzFSFIUkvqtH47q+KIqLP/vjIsamTWXHrRZXFHIxZolG2jaarcZ5ZNy91YylIO92VES62A1nm/GonlKdOKT2GduW6ttQFejDllWMl9MqMPRRbKAniSlMDzk5WDdvJXaPicdVHhlr4yyno2pOnIPb84raCB8QAIETILBPMb6+vj7jz/X19WbUpi23k+HlZHI5WdxOJjezdWJMOn2zml1NZlfDchojS9NaL8YiY6ubcnA5W1wNMzGzoknzysltVD4S49lNaVquqklZSGuTJYLY8YLqhNOLMS0dEh/EbCjIu9Nz3PWfxThKY9u2pBky15O4qujypB9lTGRp2ZLwBE0aBfVa1hes3PMq5G1VPEhsgqiLqFCbrotu5brLEoJCuhK8NU2SztF3S8Q4DSilFupnp2NRrYPC9dbXqkDJMjF2PiSGQzU7BilR9EejXocuMULLJqm7HDhraTqcgQAIvDwC+xTjs7MziSTOzs42kzXZITGeLa4oJJ3cshzaFvRgwPrHQjsrL8vycra6KYd/+Uvd5iUzIsNxu9jJHm87a2hrJdrRghYBIrQU9Urp0QfeprbsXl/NhBdjJ5x54uCe37U2y2atc5TbWa1WHbA2xZtktk1lUXII70iKTEptZ1VixET/KMDlIDuGcXKFdDpoW3QjhNcxLo9Z5lU1p7DYYlkrnXL33gqRMS0aYkEkw6OeZ8nBBXOJlNV9kvpyEH9RL1MxTnxge0l1gu7SDbtOJYzqf6xH9pzYYAafOEeygcHxd+dxuEuOQxAAgZdF4NjEmONXfYzqhNB0KewzB9nLxTje5a1gsaZ5nTrqJf/tHuWy6kvpEiizCmaRcZ98ejF2xz0iGh6KX86ksrONITu7aU/Tvded7rpRjE0wOJ/JoenHVmIcZMlyiRsmZl39/hAxJuu8S0z+BzE2UU8RJGK8tr5biXFenVSMEym92yjG3YAbYpy2Gs5A4MUT2KcYP2abOtmtXSfGbn+Y0v+DvZ+VPzNOnhBvFuP4XJbD6wE/itYHxudD2pQ2Me5sNas8mgDf0Ltl+rJVvxjLzrmuPOh5cNhRV2v2nTyBtsscGcfNT+nM68WYtkl1K1XSrhdj2sFWJQv7yRoNh2Kmo+5D3xhP0/PULJhmMe4xG4dgt0QKQLMd+KoJitj7ojXZMjHuq2+3UvI2dXhmnKpmXh0nxlRB5cM1cE/uXUXCrSQl+cj71VnDRRA4AAEQeIEE9inG2+M0ecnFeDi5jS8SyzZ1CFhDlhhJhzeWg/7FZ8YkeBrCbhTjrtm/0Te5+L3u9G1qt/ttvouK66vTwZPO29RZdfK3qXstx113Nh41norWmT3C3iDG/gUrVuUNYux3YmWrORVjflfLKyU7oDvDo3GV72yLGDuzvVou28rxVnxmLNc5Go4V5Fh5/FX2L52cGPfVd1yFvWutVCLG7v2ysJjggkN19K7ExLZTLVrLwS4lz17gUiZShWLcxIflYckSmw4HIAACL5fAsYlxIm04uZ/A3rruobwJnG+VbwJii49NqXAPBEAABJ6cAMS4V898eCqhbBJu9ubpXHwSIx2ryaNr9k0j+05SuvDkPWYLg/LvhTph8RY5nz6JvoG1lWWI8VaYkAgEQODpCUCMeyXs5Vx8+i4DiyAAAiAAAk9NAGL8cnS3tyZP3WFgDwRAAARA4OkJHIcYP329YREEQAAEQAAEDoYAxPhgmgKOgAAIgAAInCoBiPGptjzqDQIgAAIgcDAEIMYH0xRwBARAAARA4FQJQIxPteVRbxAAARAAgYMhADE+mKaAIyAAAiAAAqdKAGJ8qi2PeoMACIAACBwMAYjxwTQFHAEBEAABEDhVAhDjU2151BsEQAAEQOBgCECMD6Yp4AgIgAAIgMCpEoAYn2rLo94gAAIgAAIHQwBifDBNAUdAAARAAAROlQDE+FRbHvUGARAAARA4GALHIca9f48IF3dG4GC66x4c2RnkoytoD42BIkHg5RKAGB/dHLgHh19u/7+/ZnvAfSRF3s8OKUAABLYmADE+kplvr25u3Z1eYMK9gj/owl9gY6NKILA/AhDjg57vDsQ56Z/NuKjmvqsu64uq8Rfi8bwqiqIY99+Mqejgrq6my7Ztl9MRG19vM8m2u5MDaYIDdGNjGzTVRU3t+thPMy5G3DEyA82Yu9xdPSrW9L0sg55qB9PzeVVs9vCuHm3TgedV8HNj+uV0VBT9NVKHku/t0n8o5KRInOybwNGJ8awcDCe3NDUtroaD88liNSsH8VPO5PrljCcvulXerFaWJuSdXfosi8m5JONMNyWb7Z39KOUgGPfHs3JQzm4nw2iVHOv5uHJDiVSL+BHLzg45fzsZBmuxOpnlnECAo2aHV+xLZtaYDAYD4kYFZVm0HOqlPXPNOuFcd72vs+di3FtQX8ZdXVMG9E2NlXYt33zMuds/OZeA7bQvZUn6W9oVfdmrFXWe2K9uyoEbCMOrRbdrpbmT9lU7vud0hgaXNbt0HTWWzqY3tsBz6UQQ441l997Mxbg3kb/Y0+H9bT3eSowfSmPL9FsmU1fxfdgEjk2MSZmGJanLYnJVljQ7sBC6iWd2ORyes7rcTMrLYXnjJjid+GaXNvXoHMpZVovJebjlTOrh7aS8mk3EOKUsy0vJpWKssxXNjGHW1rz8Hac2Vr5YkK+CzeYhp4qx5U1MylJD3IgLFDoIGhwSd8x2uJFLphbBoOTmyLWq76QvNxz2FsVFVYXIeFlfUCRccLDSjOWY4gB/TJnnVYytm/GIDLIYSxxA2TgWCRNuHrskpWRZWpoTa3aMzIZyY2QjkXonNOm6J677mMzD7nStDudu/9QuRz1W1nwdztZYN2Vvt2EfZuXlLPbb1U05vCx5IAQfrHvQoip2Lee+diTqMa5/WunJaiNkDGZd3mixZ2ajgJU/40oj46TV2jY7jX2Jw+jYiONmOZX+pgkK7i1tq2LcVNS48S6Fndw/9YpGvdrEo2osWy/qdVgF0sKx5rBVLViC0biJ2fPOX/AukfYrCrJJvOswELR0thWrnGYJkX10IFTQISqquVZHq99qiaPpV2EYxltcmDpsUXgcKdyrozO9uLQ49j9mjGNW0eD7WQjsU4yvr6/P+HN9fb25cnH8s2BMJpeTxe1kcjNbJ8ak0zer2dVkdjUspzGypNhGtDZOajaF8TzoJyYrVI8WV+XkluY+jrZJjGc3pWm5n7BoQkz0TGxYcTwhql56MaYpW69zJjEbClJXkm+fPYhupyIds5vFWFcVUg5PEGFX0PYPdaswyKpFz93IWK+sEWO3TU0dIQQx88pvdC+nI6+RscOE0mmSihuYsp2+rC94xnEhjrka83OBvN/eVH07n540dRvftW76xPgy6Z9/o5El2RGt9WIcOEu39O3oi+XjG+rSpMGyz0EHYV0obb2mazk7a/pn0lUo4E76LZvlru4syWGCMGDUBxm6kDLg3AppI2qv4FUaNW5sROoDcfHH5WgjpmKsLoTwtM9g0EUSoURUTIxVt9L+RltBorjsHu9pOyPa+XkVyPvxdCUIaueBjoawMRd3cu7eZLPTsTW91k/3pbIu2kkW09Oih4eDNoTcscFL55pG+Sdu39WjZElhpnH0TAT2KcZnZ2eyjD47O9tcPZsHeCJbXFFIOrmVOcJvtdE8wkI7Ky/L8nJGk9df/lK3ecmMyHDc03OyR3Kl23dWoDta0CJAtnMpgpTSow+8TW0a1j+x+hnTTYJ54uCexambHfPZw2qjs30qdefd0hCy59zcNnUyHa9WKxq3Y3kE6KcDGcy6mpa2pAHsBjnPaHyH56ntxNgH0NYx2JSbT61cuhh3C1uboWRCjwt8cdBZ4C1xucrTKEUVnQnIdYBO17pa5Jw7/fNzL8Yiw/Y4wHEmFXTPSnypfDyLezDSx0SV+f9dMXZdyxnyYuyWYnni4J5tHa1zzJpGjpLpW1rB2ogwS/gYFc76BrfBuHGNaGJszcdN0yPGqtMin6E9eZfFq0u+TW1iHJ89S7St1Ypm6QJ3+6SCbVwFBin16V0/Z3OhT6ZrEbnoBouWTMVpP+xU33dRS2ZZjSqNOE8g1CImtZTG320PcAwd95ZiLhw8G4FjE+MYW9CU5ITQ5pwY+/LUlotxvMtzTbormM9KZpOPbA6Vh6xSugTKLId+svPHzo4XY3fs1dRShyeUbGqWbztbMn4iHqf1YGpDXYJZNx0HWyFiC4h8AfeJcZzOpJ/G+cWUO85cUQvDlTAnajQsBvK5zLo/78JVDel9iEJiGK3hhc1QUYz1ltnho457Etynu9mOQ+w82rVYjN16zsW+2j8TMY69Nyzm/GZyfx/Q0v3KKXRdLpc2h6RvuO5Eu9C8eaO55dv3SXe8pquELRY21e9bRpO0UCVE5cQI+8ShEZP0fN9WVCrGFq2GZu2IcexsvLQyB8igl6KjFONO9alWLKLcpa2rK14DLuPLE+gR4xQXG2ENjtd5VzyOWS0F389CYJ9i/Jht6rhNR/PLOjGOyiTbev9g72fpAzzdpk6EZ82sFGY03Z2mU56hghiTFp4PaVPaJrjunnAwYrNksh/YP9nZriYHQ5Y3GItflj0+C9xUl7AEsVzBUBBjVZRoXiJj93g4DE6aFEQXs302nR9ttm0q2cGLkwvlZTXtE+Oor0XfwpxnmTjp6M6hzeM2Q4WtTrf5mYyhrnty24c4beswxBbnay4qtTTd/qldrueZcbIW7DSHGXW70/xYl2RYC6KGPqf3A6x7JF3LWVnTP9d0lXTlYXnNYAKTTrSV033d3pWQNmK6dWyNGMTYQkndbs3EOJVYCsS9clBYGbqQ9pPo9DaRsT62UDvOSOj8bkvGd5t8Nal9MuZKtqmztSyTZDnsVj+4H8pSs65Suh7StlBukiTdps5xqRkdv3LuGkUT4PtZCOxTjLevkE0AOgfxFZkvfNBQzoJCa44Yi4T3hINOqxiz8Mi+X5zmNGv6nU/Eg8u/0Te5KDimJ20udE6iJWcobo/HJ3N+n5Nf3smqk79N3WfZZQlb0OJSqHMIocKZvjtNkXH8MJYoxsQwCa2SF7hoQuGPvcBlu5E889pg1tdJqkpe16KIVvLWtXuBi3qCmOWpM0y4Ubm5o9h+HafRU30xx6YMm6Hic0dNHF4xix0vdS/WIsTcksy1XrcPzHzzeY3kXKZnAjq0XT/nTWJs3VWekpxPFjYQqB3Tt6ndYtR57x5DxJcSfB+ggDuvTlh3kpXQyZ1Bv6sckHIgRQ1sL3BFqrRis4YQjYx9Sd+HisqtbafZ1WAixi47Ne1cexF3MVZl7W+F9pPY9tuI8bjSdxX1n2lZibGTsIfhBS79t3zrxFg0mN3TByI2WKJrtKwJsWlWfT11D6fdxjIZSLu0vyIr5tSCVYfoaV5Oabe6awXnKQ6fjsCxibGbC3C4MwLU3zSEfbq+t8aSjzDWJNnl5Z1BPrqC0qh0l22CskDgBRKAGPfOgT5ikKhmTbTRmztcfBIjnQJc/B0CW43sO0mf7IJ0/PT50zMNBnsY/EwFPNTsk0Hc2pDbPgkt3PMA+D5rPsZN4vL7Mm5/X4PUhxJFehAAgR4CEOPtJ5/TTdnTcU7m0um2+n01P5kugIqCwC4IHIcY74IEygABEAABEACBPRGAGO8JPIoFARAAARAAASUAMVYS+AYBEAABEACBPRGAGO8JPIoFARAAARAAASUAMVYS+AYBEAABEACBPRGAGO8JPIoFARAAARAAASUAMVYS+AYBEAABEACBPRGAGO8JPIoFARAAARAAASUAMVYS+AYBEAABEACBPRGAGO8JPIoFARAAARAAASUAMVYS+AYBEAABEACBPRGAGO8JPIoFARAAARAAASUAMVYS+AYBEAABEACBPRE4DjG+7+/HHOX9PbU4igUBEAABEDg4AhDjvQn5wfUFOAQCIAACILAnAhBjiPGeuh6KBQEQAAEQUAIQ48MS42Zc6GdU37XZads21UW91MZr51UxbuJZ78FyOiqKYjRdUuKiKMZf1RdFNc/TNmNOk1/uO59XZO3APuv9X9YX1T2M1tRlvc01GXAZBEAABB5L4OjEeFYOhpNbUtDF1XBwPlmsZuUgfsqZXL+cscbSrfJmtbI0Ie/s0mdZTM4lGWe6Kdlsj0jHXMOrxWpFuQZWUCiab0nee8x2mmxZX+SK2IxJkulzV4+KqnmwGEfxfrwm5X4epBjnTtr501XcbOIIBEAABJ6YwLGJ8e1keD4sRQuvyjKIMQlh/Mwuh8NzvnIzKS+H5Y0TRRXa2aWpMsvnrByIkcXkPNyKBuWAtN+kdzi5XUzOy/JScoXsi6uhE2NZBKwzu8gj1L4w18S4FVGJ4sr9oCdLw/FvUVAATeoun5//3+FgNF024xApStAscfNyWgXVb72FtiXprYPNcRPC60LsZ32RPKw5EKd4nVYPZPs+s24DQKP86BjXghci45rqcvFnf0wrEvk0lR236r/zgYo2ArIZEC3zaZa4bY0YlcI2l/VFrII0QUv7E4LT71JkMHAKAiAAAg8hsE8xvr6+PuPP9fX1Zp9NF28nw8vJ5HKyuJ1MbmbrxHhyVZY3q9nVZHY1LKeTIWl2kFTRWi/GHDqvVjfl4HLWUdNYciLSnOwfJufl7Kb0Wt6Tfa3ZhZvlqfbNuHf3WJVgXrEybRbjqBYioku3rW23ghgHgwG8F7OgdhIB0+a26J/K0trI2CJ72c2ojAAAIABJREFU2l0XoQrLBSud1V32zNksa7ZKI1fWORY2iilN4LCcjsIee+qG8193F9YVTTUWf8xh2fBfTkd+B15s2sW7ekTLhU5dNvdd3AUBEACBLQjsU4zPzs4kwDg7O9vsapTEFYnxbHFFIanEpjPbgh4MOLploZ2Vl2V5OVvdlMO//KUT45XIcLrhHHV6sG6DmjelXcRMGsxiTJvVJftAEXCPGMtutq0GrCpZldeIcYhoVRE3inEIRjULKUdMbxIiYpwVF8Ssa8FpXkjjrqRVsCJMMtumsijZOWZGoochuk0cE/0LKsil6bHbM6DrToxd6Jxqp3sALyG7OUyg1M8g9mYzeBgq1UWUUsAZCIAACDyCwLGJMQeaJMkkb4kQqsqFEHZ2yY+BczGOd1lZxVrMmW8y6w36XhMZswCXN+u2qTnnGrNZa1kE5m5kksMbpFFsKPwtdGuXMt3Vo3zjNEqdCc89YpxZMNVUwXNXnKcx3KRrPWK81mz0cDsxDoGp5RIfthTjKLScy5gEMearrNkEWW223ArLesyvzvVAFhfwfxAAARB4PIF9ivFjtqnDtrDI5Doxlse0nCaEsPp+Vv7MuCuxup8tJbj/9z4z5mfVs/J8OOSgvC8y7g2XSd2zbWoWWtupFiXoiLHbWeUHnKm60LPM/EpQQROejdvUHQtOeoM4uStpv7MicjHmh6yJY2bEZDXaD1vcvHVP+8YaDUtxZHycv9Gtwmk+qL7aFXpgnKwJ7JYmDhUS7GqT9/zHVRXeIe8gSingDARAAAQeQWCfYry9u6aJuRgPJ7fZ29Si0JojRtLh7emg0/GZMT0q1j3kXilVQxIcqxV6Q9sKIp1WMY5vaevbXtuLsXszSP4xEqmRPjM2WPr2kKaxO+Gl67AbzOIXpc6EJ4gxS50kHU2XJjxuG5YsmGrGSJEdIFWLxsUFK6IjxvI2uHPMzJqR6IPtJ0vcn4qxvlie1Fvzmg9RX+WlLVkKmGXyP08cX+8quFy1Ke3iGiJDlDiCExAAARB4DIFjE2Onjcd++JjmOqg8mUbuzLdsc35n5aIgEAABEHg2AhDjXk330bbEum7ruzfHwy8+W5vuyvC8Snaed1Gs7Aq4p+a7KBRlgAAIgMCzE4AYP1xFnyjHs7ctCgABEAABEDgSAhDjJ5LWh5s5kh4CN0EABEAABJ6dwHGI8bNjQAEgAAIgAAIgsD8CEOP9sUfJIAACIAACIMAEIMboCCAAAiAAAiCwZwIQ4z03AIoHARAAARAAAYgx+gAIgAAIgAAI7JkAxHjPDYDiQQAEQAAEQABijD4AAiAAAiAAAnsmADHecwOgeBAAARAAARCAGKMPgAAIgAAIgMCeCUCM99wAKB4EQAAEQAAEIMboAyAAAiAAAiCwZwIQ4z03AIoHARAAARAAgeMQ44f/FYaXkAO9EwRAAARA4EQIQIwPV7ZPpAuimiAAAiAAAhBjiDFGAQiAAAiAwJ4JQIwhxk/XBe/qarp8OnNsKdhc1hdFNb/X9rK+qJp7U82rUebnvCrkM74/d8c8+VYUo/quc+dDLtzVo4Lr8jACDy9yXhUXNTdbwxS2APjwQp4gR7fV7jO6nI6oYbK2brUvPUd3vc8l3AeBdQSOToxn5WA4uSUFXVwNB+eTxWpWDuKnnMn1yxlrLN0qb1YrSxPyzi59lsXkXJJxppuSzfaIdMw1vFqsVpRrYAWFovmW5N3SbPSfLPjPujY73OvPMbs9zObjxHhZT4MGN+NtJD9tgYeLRJr/vrOHEbjP2vr7y+loi+XO+vzPfefBnJsqLDLWeLYrsGuKx2UQSAgcmxjfTobnw1K08KosgxgnMja7HA7P+crNpLwcljdOFFVoZ5emyiyfs3IgRhaT83DL62LQfpPe4eR2MTkvy0vJFbIvroZOjGURcL9ZXi6sZpeDNO+qtZBF2oyUpubFfjFuWoqcfEAmYU0RohyauWoOdChia8Yc92nYJxEDXZLZ6q4ejWsK7/79T39P01Dp8ZjKl/iPi5RQw4ooQkqe3ZbTUYxF/HHsd814VE/JNZr6NSSVLHRrLvVKbLZt24xDxBadpywBAhlrnIcsKtHhPGM17kTG6hwLkkZObdvrv6bl78QBSs+gO2CdKiTVb9NWS06bSvirZnQJaDW1V1h0rmYltk4hJ/63bSv2NY1GyZIqMgzxZXQ+NB+limnykDrSCA1t8bekVCcVTkw/mi5jZduWNTVzL55KBckHgRD3J6JXRTXXgpRPMK5gs06Y88E5COyEwD7F+Pr6+ow/19fXmytrung7GV5OJpeTxe1kcjNbJ8aTq7K8Wc2uJrOrYTmdDEmz5RO01ouxaOHqphxczjpqGktORJqT/cPkvJzdlF7Le7LfYzbap0C/R4w7cqiipdN9kEwXEUoAQbMVT3msFjpr81TlNL4Z8yRLaWQWMzs07bp915CS2qmpJHEsgqZCThxmtxiRmDXfvrQyUJkZaQWlOLoVpmZVRJ0xwwTqnPc22xA2WYnmPy01ZO0S1MLVJbHBVVNo5EasSJYsPQ1F88JCdaUD1rJY9VlCQkjORtK4fI0Yx+JCdgIVVj/WGVx8L9Xn8o2JuaNizCsP7id2z4EKjW7O39UjrqzZdAWRidxPWhFWc1qvaG8MzRFSpi2bi7E3SN015CX9pi7kIDj388hYPUzFuKnUmmXFEQjsnMA+xfjs7EzCiLOzs80VN8kiMZ4trigkldh0ZlvQgwFHtyy0s/KyLC9nq5ty+Je/dGK8EhlON5yjTg/WbVDzprSLmEmDWYxps7pkHygC7gpq2M221YBVJT2Kobld7jAxpdEZjaXRouQQldH0ZFOhKcpyWkmUbHNuFCoVRbVsudiNZMIKaayIViyHGIui2KDNUWt9XeL0HSMh8buaa0ZOHaLSVIxTuaJ0JA/yCZOyTNMxGOJ7F/VvXLzu4CR+hUWGlr7tY2DlkPjWARtLitV3YT07ya3mCu0XY6svZRrVd9YraDEhnUHXBBS3xmCdC7Gmjw4pYW36eKOn0c35dlmPeb3CZsP/XLkdP2UZ59ZhPuO4Sei5jRCqlJhVzul2hdz1EJz/6o9B4CupGHMX0pQxMw5AYMcEjk2MOdBc0Wb1ZJEKoYpYjH35MXAuxvEuK6tYizk7saneoV1qv31tkTELcHmzbpuaDPQptDNMh/Yg3N/odAWbcdy82TP/UkaduWwuo3n5fjEmhUi0XLzomZddEbkYyy3nZFKVOKGnsyqlibdERWQjWl4Kkwk0m7LNQgh6IqLEYbMmjhgcdcwFW3KJp+9kb8AJf3pdrSW+bSnGPRrA+6t0fa0Yp4Iaq8xq1yfGIW7WuubfHyrGGuCmdhMa4RavkGTZp4F1zJSl3xAZW6NT5i3E2B64BF3PxJjM8AbSPaCirzgAgWcgsE8xfsw2ddgWFs1KolKVMbmoZyGE1fez8mfGXYnV/Ww1EL/pfbHOM2N+5WpWng+HHJT36m7vxWiWFhb6Sppd5KO+p7a2O6czskzZNM3pFe4mqhA6W9HFEL+6/UDbTdXImHf8qirdoxYd0qnKtqn1ilrWaZ0Lrao1Lzab4tpGd+ja3X1RF21z3Z3z4pXUmrQziYw7+5YuoytFytXYK3jBU/NFvewIRryfHETU3SLCEiFJbtXnJ8RJq4WEoq/9Ykw1TSS8I8a8Z2tmO5ATb+Iz4223qeNCRCLjDme13vEzbFOr6Pb0WF8vTcaRvdQ3cnYrp067a/H0HZrVxFsbqEeMRY9tFHg7OAaBXRDYpxhvXz9TqVyMh5Pb+DaybFPnYkwKSoInH3mdKmxWk1mV5y1CWH59ms3wY2YriHRaxTi+pa3KfU9kHDfMxbB/ofohYhyW9rLzRxNxnLl0SjIxzrd2Oa+bhnSCy9rHNn7DRG9FdMWYZl6V6lzqnBr5TVTS2mY8qsbhHahQigp8DJXi/ifZ54CGtmvHlWyJk/NhXWIOiycxY/4ClxoJ+6bjr+I/o3K1yGi4U8chFsErgxys5PHVj/6LzzE7O9wvxrIEcdvCXTH2nYGoChPOIq+58bIm1kAJ9+1kGENpDue8iDFrXvAmtngwHatDKqtCyFVmBxx2NR4MJS07rfXRLzvDwmw1CusSDyFWLHY8rcW4ElOpGOtdfb0r5scBCOySwLGJscnyyz/aZT/wZcWgxF984LG+0vXAgMPN9Q8sEMm3JRAlatsMSAcCILADAhDjXlH30XYSUvem3vaiBegaP298sWsHzZ8XQVua+opNfm/bc4laJBilPPMqxLhbGIAYbwHpw5JoHPxhVpAbBEDgiQlAjLdV0t2ne+KmhjkQAAEQAIFDJQAx3r3IblviofYZ+AUCIAACIPDEBI5DjJ+40jAHAiAAAiAAAodEAGJ8SK0BX0AABEAABE6SAMT4JJsdlQYBEAABEDgkAhDjQ2oN+AICIAACIHCSBCDGJ9nsqDQIgAAIgMAhEYAYH1JrwBcQAAEQAIGTJAAxPslmR6VBAARAAAQOiQDE+JBaA76AAAiAAAicJAGI8Uk2OyoNAiAAAiBwSAQgxofUGvAFBEAABEDgJAlAjE+y2VFpEAABEACBQyIAMT6k1oAvIAACIAACJ0kAYnySzY5KgwAIgAAIHBIBiPEhtQZ8AQEQAAEQOEkCEOOTbHZUGgRAAARA4JAI7EiMm3FBn3ET6j6viqKo5mtI0N1RfbfmLi6DAAiAAAiAwMsisFsxjhK7UYyX0xHE+GV1M9QGBEAABEBgE4FdivFodFEUF/WybVsnxiFopsC5atqWlZjDaAmd7+pROONIel4FC5sqhXsgAAIgAAIgcEwEdinGVcPKOpouoxiL9PJ+9bJWqXaRcUMb1lOSb9bsqplXttd9TJzhKwiAAAiAAAisJbBbMQ6aOqqn8syYBZgD4jbExPSo2MSYA2gNjAvsXa9tRtwAARAAARA4ZgK7FuO2pWBXPtV8KzGWyPiYIcN3EAABEAABENhEYPdiHB4Yy9vUFgS3a7ep9SHxsp42tL8dX8neVC/cAwEQAAEQAIGjIbAPMQ6b1eGfNmUvcDG5ED3Ts2T3AhfJMMT4aLoWHAUBEAABENiWwI7EeFt3kA4EQAAEQAAETo8AxPj02hw1BgEQAAEQODACEOMDaxC4AwIgAAIgcHoEIMan1+aoMQiAAAiAwIERgBgfWIPAHRAAARAAgdMjADE+vTZHjUEABEAABA6MAMT4wBoE7oAACIAACJweAYjx6bU5agwCIAACIHBgBCDGB9YgcAcEQAAEQOD0CECMT6/NUWMQAAEQAIEDIwAxPrAGgTsgAAIgAAKnRwBifHptjhqDAAiAAAgcGAGI8YE1CNwBARAAARA4PQIQ49Nrc9QYBEAABEDgwAhAjA+sQeAOCIAACIDA6RGAGJ9em6PGIAACIAACB0YAYnxgDQJ3QAAEQAAETo/AcYjx6ok+p9e+qDEIPJLAE425rcw80kVkA4EXRABi/IIaE1UBgacjsJWKPlGip/MalkDgWAlAjI+15eA3CDwrgSfS2a3MPGtFYBwEjoLAyYrxsr4oqvmmNlpOR4V+qnmbnbYtXXEWlvXFqL4zg824GE2Xdm5Hy/qiauz0AUfrbT7AyOEmnVfFRd2L7Cl9nlf97bLuuiv7kPg31ZasuvVSzs14Uz/cSkWfKJFjfP/AbO9qG5njJj+9b2C6suJhU9FIr5qWSi+KUf2/erviFr4Fk48f49GnZzjY4P/W3Slzi9piUy/KkuN0A4EjFOPbyXAQPuXNarWalXo6GJSz1WrlEgyvFn662AAiu9WMi2KcKKaT3qYqSHfdFZLmTIwzg+70MAeqc/BlH3bFSeq77vqB0th69lxfr+3FeHbpxhgNutXiKo7CgY4yG4lypZPLEgwuaaTGzwMYzytWTZfjrh7pUJXV0kMHpqVfz8qVt83h0Y3xrbvTNrVHmkcRODoxnpWD4eQ2jmIRY9bgeO12MpShTqqc3PKIdCaSRXGRxGR39agTdtiIbdtmfL8YL6cVBco0U9S83JYiZOnN63CKy+Mpry7zxHkCtulVX8c8zVD0WR/z1ZyC3KZ1RmFLjRjxc5RPBmvZErCYI0b8yqoImwrEYVoVxe+d/4eYxrvX9V9DGpo9m8rW1DwX3NUV7yWoWXIz7D3EYGhcZRFh9F8XT+pk2oIxWTUOkXHgINAUoHSD5JbrNKFNs1azBFq01CvaDNXcwJbbUdNLI0aHtV62NzOafhXamxeFUr70SSI+HYUsolIkMNL62ujGOcQ0sSy309PG8URj7HLAC19Z6dIAXFwNVYMl4WJyrmk0p+UKV2bl+YRXx/koNoQ0uMSrdGiEFFnv4qtOjFtWUz9Ue1fJSX0Ve/Hxf/4JjwwSe0XEvVSuklfqm7VFPmqoRaLn2nt99aw5egZjq85wH9jQYfzICqM+jpr/8l9HcR5YTu24jf6bD9IlYr+VUaynMoLyxGQmdD9K0FS9Y1n6IZPzncqTwHFGYJ9ifH19fcaf6+vrzK3sVEc3rcgn53ElLpdnZaq4FBlHMQ6DPxjwZmVcNeOeAZP1YMllI1x3ZuwKpcinCRNjnTG1LJ552WicQFmzZcMtqJokzjwRm3ZRpiE3GZlBX1Ua4Sr2Qd7UW568OK14RfOIjGQSJB2NPLnTLSeNMjfp/B7tOGdEGOK84D0SPxVIK3NoqzMgFS2xTlgVuaJ1i9Vbk+Pcpk+hTcbzUbZk0eaIVbCMekuv5Pz1On87J1tehOlSQ9XxHrahyjTTxZUNGQ5tmlc8D2W0V1Ap0nChf8bWj13UOHOvsIon9XWDzokxC/PwatERY0qTxbsbxfieVbJWJ0FMwyRdY9Ft63KhCTYPzNDZKGeor6WPKAKitE0TMZPHKWLBWpbUlLpuQjKpQ2wOXl+qlnOLW0Wk0c1sZzDSklpHVugwNmra2DdyN8JiIvoQu0RvFqHRSWzDliomYkz+hMlBc6l7uQ8JDZw4AvsU47OzM1lznp2dOZd6Dv28IOt02jULO11u7yvfpk4G/Gq18qZdv0zmvnUSElfT9EiJnw3bGCa7Km9ahomx6EpLkqNjjyfBuMAUChf10o3GkNhGLJch0baOHHHAOUaGwpBQN+g7TjGaketIgTsNYPvIol5885vwPN7SeVCVL6IL4z9lIprkXdI1tfip9Q16YyIRzS7rMWOxKThONLGGqU2aO2L2kCaZ2SMNZsu15/TxepBS4ZKYsjbtck75JCUG7DYrOUoyl9ktWS5wIyb1ssku1KnDIcAkg0nruHpF/3UHQldUSR8IBfhB52VVZLhvm1r3rnUFvH6bOtvc6huYac8PPqWQ7aL6LwLg8PYMzE6fd109spKu2CkuruC1QH7ATKFwGDUqTv5KcDN8xSI6g7EzkM2Iq5F0GL+rFPwPg4iLiQMqbuBL6XHSU6VsQ5eIztig4CqOGzd7aOJkiIk/tiTSvucIdcZjSgRngcBRirFMEzQdkB6vi4wXk/MtxjxxoBVosk0dlrdJL3HjIVxPJ9zHiXEcw2xTxYlOgnLTIU8flFJHji6cx/S6U+pG8C35Wj/+O1P8+vGfTkw65Eyr+Ipl9w6o/4ZIYUp6G88qEtHsvWLctdnToAmiQMOmszBzeUoa1IZbWpnI3zdKuJnySUp8jBjn9eq0VEeMJRqTbkP/1wRWL+0/tugJYtyzgGvXbFPrlnU3MjbxvikHrMdewvlu2KbuXO8TY8aqPUcbIHm0oRf9qOFrKXwjKRk6JB8jxikx3+2lM/sr6qd8W3NoA+m4Tt2WbhzmBx0vMRK13kvp+E3SpK9yKS5X8GErMbaFL+cyh7X/0OU4Z+rgle7XDZRDyfi6n8A+xfhR29Q25Fc35UYxXmkCy+J5hH4ZLmWDxzaI6D5PcN2ezQ94VE3zXUTtuH6mCPoay0pLSTbcEjHmqZ/0ycRgXo3GlUhX4oavYTy24dQz/pNVSBhRlNPVN84vGuPS8lnm8aiaHH+Pq2wlHl3gmSLOIFRxmc6olLFsGNDiul+M/c5tzrnHJhcaIfOZyxX290w7dVs4Uure0moYf76STH88PdkcrYiEZLZ1uQXbTr1cFaTw7Nm5dJKRvNJPVRjF7pGHQcaZGpECsmz+5QJs2KgA05WbUl6T3CTGt5PhRjGmB0kaPUspCpi+04Gpu/SaIvWWe6YfYpLMdlapW2a1Sy1QBmsO1weYnnVUMSy+dSz4zhYHi84M6nn4jkXEYJQc4PdLvNvsVwy4zUOndtqscZvaDUYyXlUWr4fC7xdj3q6zbpzsq6mfwZjUOooxY9Sx3EEU8uBrA4F9ivEGt7Jbbl7obEr3vk0ddrDzl0q8WemXcc9Ke3ZMQuMwfHif2Y2HmIYnspAoH3thgPmZIohxyMU93rYiyYFOYurT8gk+8KCl8lVC2BdLRhrppwa+vWH8h7Cby6AZ2fK6+up4sy2sMOxTNUpcEkbmmDLkkkbVWP9VmBOt9WLMU2rgsO4FrmBzXYPG650XuKqKX8djpGGDRBPHW1KbMBlllQr3ks1tFTnxOUjdBrZ0qwqPDAJbLcVYqVfuoX62AWjC41TEWl8n01SMWf/E0WR/yA06fh6s/4JBXoPubFPTWNNP2JHq2aZWDZ5dJm9+GEMVY62+vj3gUtgt2cDwo0aT5Wn0unxHkqLT1tUjK0VEQzKwoTaNC4XUgrWsblPbGDfjUnYsoivGsjCy4sysM6KDkVVT0op2poPRP1S2yq8XY9l+475nVeYVszkc+k+sO8+Z0R95JmXTYEyWLYbMGxylBI5OjP0U8eDjtO4v9czC353W0ALK5yy27wnCc5a3G9s27e6mvG1KefDo+oAM2/hzpGkyjdxVLfLN+V2Vi3IeTwBi/Hh2B5ozLup355/sIvhdsqct2+1S9G2oPm1h+7AGMd4H9V2UyS897KIgK0N2BTpbfZYAR4dJAGJ8mO0Cr0BgzwQ+INB9cNY9VxXFg8ABEDgOMT4AUHABBEAABEAABJ6LAMT4ucjCLgiAAAiAAAhsSQBivCUoJAMBEAABEACB5yIAMX4usrALAiAAAiAAAlsSgBhvCQrJQAAEQAAEQOC5CECMn4ss7IIACIAACIDAlgSORYw7v1Slvx68ZT17ktGPz/X8vg+ldD86k2Rcdz1J9LiT8Esd7o+xmJ11vxvQmzhmy367MV7f9cFaaPf/OMnGCrofmfrQKq01FX+x6IG/ItT9d8NP/k+xu0VsptBNr7V+yD9Mdz8Ftbm4NXf9D675JOrDxhb3GeJx1ou0UvH+cR6E36nOf+KGfySVGOb/pp9+7ir+QZr+Knc7QP+vdPXkXjuEY1qZn+3nt+KNNQdbpf/Qzram7IO9fBxi3P1t9w8G2tM1zea6zrfuuuV89FE2pyR21olxkqhz8gLEuFOnXV+IP3/4wII7vevpe06niHtcXJ9ehfAeA3z7uebHh/iQ+rlp4KQpj+lM/2hE/Ilydl560V1dXSR/pTj8kuvDxXhbIvf13of2ii3Tb5ls21ocfLqjEOPuald+ENXCZf2reXql8ztN9lu1fCv+bqr/nZqYpvPzxfxrwBJJF9nPF8e/KhqbWn3Qv7JHUjoNf407+QV2/2vG4/CTy6qgEkjRX0TkX8SVhTBfdENOE9tPZHv78S7/JQnaBQiV1YrwaVJQ+GMslJYXufSrv3X2J60iJV2Ja31T5jFZP0z7ZV2qWm9z8C/4y29xZ04G1DFsHU3rwNfB4USpb0nF+S8QcLtUc/3NYftV3rDGD0WIVNhd5ZMaDHMi9ZD0N/otI5mNZEK07SB/FbsKwQzOhzZNjEQg+qc7Yu9zvy5uUSZNpr+pL6o6/NR5iKuS2pGFFJfZjA1kP5QdayHubTyldQAXParvwk8Zx/ShF6kYS6e1u7p3Fa/kNHTgRGfv7RU2HruQXetQQbFpeCwHH6yfK64w0mM1f/Kf/68YuWY/SxmzhAR5vbQaKsZEPlSZfhmbcxGrJv4NifCHLqZ152+0xLLEAq/G0h67dorgv3rCP3w9qv9XGFvcXWPHCwOE/FWbaQKbbcLwjGPTpf9N+tv7vgfmtzSXzlqxRymy2Htt2yASYG/VQuhyerrFrBiLeN6DfYrx9n+1Kfxce2xO/dMlgU1YuLm1f7aUsx/QjzszLrFYockuTsHak0IBmjgzS3f1lqXUwaMGbQcp//Vm6tlhpKmHcTIKXYTNyiD0w1JKC2MpN6uuyJ+CcT+jz3aStXYc85InjPb496OoCnFaCWbj1zqvKIHWXf4Iga+LI9aNaTKY9ocZUgvBhTjthqUDtUXibUIs58ACoz0qmIp104buyBWlCAv2PoPBT1f9YFIN+j8iFMTSQY5dhedo7o3dxg2mclbRd601z0RcQW4p6mzBPd38TGvnDEZvxah2TlmrUY+1BJwrczK7yzO7tqD7uwJsPHS5VIy1LupSn8Fs4GgWXVfRVCvDuadXyHTcAzkryJqGYEoVFK8bvKG5E8LWE7SPRQ/pQDpPxs2lsIGpjUVZZB3AeS2B/MEJ1xvZTL97QYdIt2ik2ASiTsZBre3FxhSLK9T5GkcE/9UZzah/NsYawrJ0Q95Yblx52ECLuNhA3pnNqh4FFI5AOiNROoeLDW6aFdXus3/vU4zPzs548VWcnZ1tU1EePDLbuiEdsdKQcB/tXqIH1sbWVEF6peikn2nnY1ERm1xuvB5a190SK3HA8Kn2sKgQ6Q/VJomDMtnw0MCa/R+N4kzqSIXEsox19dUaUVgZl97iK0eB7o/zMDSFExeSnPaiXka2rlBbvYqHNNhiBUO6rWC6v1qTc9biemnoTZt2dfzr5BJTON/6OJjbUYxjjC7TVipXbFf7QMegH8+qIs4TcVKncr4heB1k6TB0T0sh/eO/Wi3dWBqRfesUkZVl8ZOk9OnD8Elqt93wkWnUKJFDo/qOJj6d6GMYLc7K3TjW4si1zkbdr0+MI428uH9UWaIq50u6UCkDmPeKaLYLuaegMKwcPflmk/jXAAAgAElEQVTba8ng1b8vbn+yMA5n/etk2jrWbUhZE26ahL7dCAr9yq6EDqMVl5q6XkT573EvBNwyvswlbjH6S9galgSXIsxkujB/VVyTjOFizGvJdTlLV9Ju4AasF+OOh645UrNhgMjcZXsYnidl6BjkThvTr6mmK+pZDo9JjAlA6GRxSLtWSfufp9UzA9IwiBMEpbW+blOh9a0wgK1jdW5JeakPkssGv5tYXV0kZxy98Y8kyqRGTlIIdTGKk51kYJ8tsWwWqaxSkjjSolbFjCJ+8TrPQVVDAyNhQslyjbc4Q0cgFdXdyo7Gdcoz4wpEZxNXrt4Knupqg07VSavEvdMuJw2+/WaaPWbTTT9OJKasD2jFE7liL+JfEbbEwSOroIv+wz2FQLWwNpJStCyuo64PrKcFMbbiQvq8A2tJQZ8a3hchgHNpRJ9+jRjHycjZEvLR5yjG8YqlpZmUapfUkW53i+70oq4YG4GOwWSUxV4UHLm3V1gfsyIC5NxzaxpXha3EuCvP7F4Mc/0aQrkZyXQ6Yq+MWByVep3HrLnKZhJEPc5ITddMEb4nB7dtOPeNRJ0KkoxbiLFVSi0kk0m8aJ0/MHLNEallbFMCmYXsNNhgDY417U44sahnOtinGD9gmzrWPiAOs0lsLb5Pi6yeOUKeauhEow/SOs1pe3E0+KlJrDltyyU0VfdW8JCm/uADNa1Iqc6wmRjrZhFl1dK9/MTZWaYP9TyyyJf8ccaXFMEUDfVUYuV2Onq5CHI+9kVKlabhfHG8uZrSjZSnVkem8n6YcT5aCzOvoE2j4sqY62VTap6eU6lvHQ7emszgcS6mhTOvQjIx9ll49ePBOiDa9OqAi3R7yeiKx+xbpXKdUN9S4FaS1Hc0krXmvBpdSHDm0/eJMccovcNHSwwTZTXnwEIHVFIyu03pk7vdoju9KBfjRGI7BnU8uoET3fgQMc4Lsv7vqhD+Knm3uV0aWdCPq2wtaxrgugF5bs0d6hG7otwtLkZhj9qPSho4o1CEuSoWet3Lp6Z1U0Q+1fS4F+c0Ki7Owy6jtlEnr0vf6Qah9oFkNNs31vzQCz6EuSuwdQQEmp8GO7NBKDnFaOMx3H7er32K8dY1I6z6kU7AswkvZPQ69zN3JZtWbAOqu++kfsQ0nXeO4h+Z500Vnmg0cbylVsyH0F9di9qWY0jNi2Kqgr6HEteqoV5BEqIpt8OssS9JZkiddNCo6zTFWIK4L0Q27VbAEu/qckR1QqsXs4R3eZRDquJh+UylrodJix7Z4lYjOcxeGtGTLabdUG0ZpVbZfJGkO95KcqTTaCLGsbHIakpPxrlmz1/gSmdbrazu67rxb13FpjDtM2o8+ibVqeapBjAdumUNKp3HJ+sVY157BWA6awfWcQDaC1xWC9kSDBlDD0zuJgs1W0ZzDjWYirFl77wvGWQ+toUOnIf0ijCanAQqZNdvqSBrGkcviLHH1SXM+xOdxze2Kytua5smy2WpWjLuaFTaKtm8crs77mJAYcbNvYpGXOi9LIphay0bGuZnqEKY9/KXqhS6qSYv6aSMMANbT9bUTry13DWTiVSBUWhKeXfSNYdZ1bkrdgkjQN3SLPQY1LzZuE5awUp6pqOjEONnqjvMgsALIJAEkS+gPi+kCrbfc7AV6pW0g/X25TsGMX75bYwavmQCGlO+5DoeWd1kI0Hj74N0XsJEi7YP0slTcwpifGotjvqCAAiAAAgcHAGI8cE1CRwCARAAARA4NQIQ41NrcdQXBEAABEDg4AhAjA+uSeAQCIAACIDAqRGAGJ9ai6O+IAACIAACB0cAYnxwTQKHQAAEQAAETo0AxPjUWhz1BQEQAAEQODgCEOODaxI4BAIgAAIgcGoEIMan1uKoLwiAAAiAwMERgBgfXJPAIRAAARAAgVMjADE+tRZHfUEABEAABA6OAMT44JoEDoEACIAACJwaAYjxqbU46gsCIAACIHBwBCDGB9ckcAgEQAAEQODUCECMT63FUV8QAAEQAIGDIwAxPrgmgUMgAAIgAAKnRgBifGotjvqCAAiAAAgcHAGI8cE1CRwCARAAARA4NQIQ41NrcdQXBEAABEDg4AhAjA+uSeAQCIAACIDAqRGAGJ9ai6O+IAACIAACB0cAYnxwTQKHQAAEQAAETo3ATsT4rh4VRfEnX/8Y6f7w1ZuiKIq3Tbzyb19/GtIs64uiuKiX8dZpHsyroiiq+WMr//7bL8effPT7RPnVsKz/+f1jDSEfCIAACIDAsxPYiRi3333xOpVeVpqieP3Fv2gN/+mzV0Uxmi7b9hnF+Ifm8zfDV28frXDq7C6+HyHGVL2PX/05r3DmVfHTqv77d1//6lNi/+qzb363C69RBgiAAAiAwCMI7EaM22ZcFMXor/938PDbX74qOGh783c/yKXv/9+RavMzivFySiH648PNRwB+dJZHiLHsQIxZjN+/f6/q+91fvS6KUX33aFeQEQRAAARA4HkJ7EiMf5zRJrRKLwXKr375BcXCYe/6x6//hKK3b6myIsZ//W3z+SeveJf1D7/4Nm6y/u79t9Pydb77GrJ88+6tZHldfvW9SlHkxwsCMsifSnbI3/9TXQ65mOLVx2++aFYxuR2whJuYJaer5os3H0v+j372199Jph+X734hjhQf/eztu9+aKT7iyhZVIx7Kjv2br2RVwsb5RMT4199/WVJkW/z+62oWFi7tb5vP34xkC7r4A92CDpsNWj2L/t8T21hc5gtOQQAEQAAEDoDAjsS4FcmRoI0DuGr+I6ljEODmrT1UZmV99eqj4dsvf/2uLj8qiuLjX33PrH5s/vyjovj47fV3y39tvvijj4rizVckdSHLx3/0xde/fvfln3/sshjjH/7l3Zd/SsL28//+7t2vv/uhbX9s3pL1n1JB7/7nW8r20WffdlQ8Ud+2dafff/GToviorL/5fvkvX739qTwCX9Y/K4qP3nzR8MVhj80f/u6NbgO0bRBR0WbWaXleztdfvfr4za++fvf3n31CIlt+/W9cnfnb0bh+9y/L5b98SXhkC/q3373724qq94efv/v1u+90BfD9lLJ+8j9O/RG89QMcgQAIgMDhEdiVGItevv7iu7ZlKfr0639rOVzmvev//dcji5tZWYtPv5Zo+Hfv6EWmn/H7XL/98udF8fO/1QDRckkW1arfNZRFY03PnHU0blP/8OV/UiXjRO85fP90Zu+ZSV6nvnTBnXJBn34V4nZR8W8+e0XyqMWS+68++yc9lW9ejohAfvvLV6/+6M0n4fH5t5+9Kl7/FQfYLMYfy3Hb8ja+f+EtGOTrGrX7bWq+/35efVQUn0xlKZP6gDMQAAEQAIGDIbAzMW75yeUn9f9p3/2pvizN4vHm735geVZFyV/gYqF1wWLYh9Wvvne+XJYUdCrGLKUSrEsy9ocNJtmc+tJ1dyqRelG8+qSaNksWcSlCvQvfnafU/EYbbdHTQTX/9ovXHLzS8kKVm8XYMvrTH5fN9PNPf/b69WvZIFd0uRhzjP6fvtTFS1IpnIAACIAACBwOgd2Jcctb0Z/OGgv+5C3rP333bky7tuGB631iXP79D/7znnZuM/XNTo32U4tx27Y//vDNl2//kB/rvn7b/FuQ6i/+2fv4w/s82G7pFbZXn337f+pPCtokoB37P/l6SdvX+izZq28bdrNZm2XH/+O3//PdN//6w7d/NbKXs3rFuG+HwIjgCARAAARA4AAI7FCM+V8Sv7oYvY7BXyuaNBq9LgqLUDMpdacsNq/+Im4BR34uDV3LTmMyUcq4Tc3J3L/5kW3qsn+bOv4rrPdf0btoGozqA+b313SVxJJF1PbSrfD0iJKNPv/vn8p2Ou3Yv/rs8z+Pb7R59eWMUZv90/e2/eYv6F+EhTelczFOS8QZCIAACIDAoRLYoRiHl7iKgmPBAISfCNMlk8BMSv2pCFEx+sWXzTffNL/+8vM//JxfivZpNomxKOVHZf1u+vW3bSuPVJMXuH5Wd1/Dbv/5c3rPi18o+/IXo9evov41b3/69stvvv/hX7/hF81YFH/37WeU+vWnv/r6m2++eff3dTX+suftKVmavHoVdsUpRKaPvnC+XozlifhHZd00zVTetFYxjrd+XX/9z23b/vDVHxUFx+uH2v3gFwiAAAiAABHYpRiHwDR5tSrIq99L3aisP37/lf6wVPHq9Se/aPiB6MYsvqF/9/1Xol/6itUP7z5/8wcsg7//0Sfjr77v7Cdz7vff/uoN/1OiV5/84t039E+iRf++++ufkfDyr1y9+aLRf4Dl/r1T8dGo/B/f9VmVmseAW34XRWU12ZdmF2Jk3Lbvvwn/6Ot1+dU7c4aSff938u++Xn32/0GMfcPjGARAAAQOmsBOxfigScA5EAABEAABENgTAYjxnsCjWBAAARAAARBQAhBjJYFvEAABEAABENgTAYjxnsCjWBAAARAAARBQAhBjJYFvEAABEAABENgTAYjxnsCjWBAAARAAARBQAhBjJYFvEAABEAABENgTAYjxnsCjWBAAARAAARBQAhBjJYFvEAABEAABENgTAYjxnsCjWBAAARAAARBQAhBjJYFvEAABEAABENgTAYjxnsCjWBAAARAAARBQAhBjJYFvEAABEAABENgTAYjxnsCjWBAAARAAARBQAhBjJYFvEAABEAABENgTAYjxnsCjWBAAARAAARBQAhBjJYFvEAABEAABENgTAYjxnsCjWBAAARAAARBQAhBjJYFvEAABEAABENgTAYjxnsCjWBAAARAAARBQAscrxsv6YlTfaT2O7LupCvqMpssjc/zD3Z1Xxbj5cDMPsHBXjy7qFDTz37EbD/D42JK6Nl1OR0WxfmD2tMWzVXZOg6yar7O/rC94ECbd4NEd46ino3WIcH2nBI5FjIN6OQHbV+9vqqJ6EjFZTkdPLsbNmOeXoihy+dlpr9pUmJu4NyWTe3f1SCtEsypPr+ECzaG+Lfxxang3AuBcLZ6oh6TVeOYz8//h3Xv7Nn1UW7DAS7M/3LfN2Lb3fLOddl/T0T1u4fYRETgKMaY1bLLC9ZNyUUikZSNWlro87OsgTjyGLZeu3G0CojU0S2xU/XXDvjvp6xJbAgI/3cTjWLRbhj+5GBMBZ79t22Y8qqchCJddBKNkgpFXOaZZs1Zw806cy2IFdRHQMRIphfbaYpCQY3m7hwpKl/Bt4Y/Ntq1OeDJna6G+WrumuqiqC1q+cG/ZshtYEf6oGZvDDr5d9ImX01E15uhtSmsO8Sfl1uebddroalVTPEor1fqubca24+L98UV3jptKw1lyYNy0d/VoXIfYUdu0kytvU3XejZ2sY8QRwbVIGrdjPVyYVz0ry2j2nsGuI71t1bc40tl87MB0lnUMnyUizQeLWyBaWeuqgusgsIHAUYgxzS+ZzLTZUjQOcrrOc58b7fmUFEagiUpMQBOobH0no9QDzCd9mlJlKyz4YGZVbptKp7NYUMuzg+qBt/8BxzRDuXmQxFhD5M6Mpr4prlgszcIS+VtF4k0+cNcDpZwJT+WJEVOItWDTQlqOg9O1BU185ltRzX25/jg1ZX3Drmv1wxRczYnDaNrIs48tuoGZ8ke+fRP4WUU4D8nDRb2UVpOq5fBlOeJ9M/hBNVlCopDTgdXXOp53sufYwAqQqrHhYyVmGde0qW8If8y5g2+m/ZnNnlPyREdluG31CsDNW+rzqvH9nrum7+ljyd1Q3LIeh8ccecegcmXE9ZfVUx1cAoE1BI5DjEW6aOmvqpaJcTKE5lU6JcWqx1WtSLuNHx3ALoEG3DGzHmTzC02U9mH31Bm1H1fxnE5nClp3P7EYty1NxFRKmLy0XjrDWgJOlEzcoX4ugDA7Wnf51no5veQA1GbMjpFlfaGrhGTeTw2nZz18HElG59vCH6eGTJzsujMuGcVDqdo23cBM+SMH3KlCnwO2GpPuylg63Dq+/aN//i2a1K240hbL3r91x0mjcHbns6+UM6CluG7AdxN/so6R9U9nbfNhaJEwdlw3CE+FnbfOkOuo3Z4v6ZKK0yXXMYKl5bTSd1M6HcMIp2U5J3AIAlsSOBoxDvWxCC/p/ckQWiPG3YU8zxSskCFwSeaRNQSzNIkbIUuYGnT93hnwkizxeU1hj70cIg83jYozFgeH0juz2BZeuSonVZN1CYlux4iDlmTZVD+N/FyaPK8zmzw/dllkFrY1XLjlPBQjmRjr0iG1dO+ZA/5IMU7XZx3fthJj4l/N22a8dS0SsFyo6xixUnG85CuhbvaElHUMjtrpoUBckiYJ7znR3psUx3mct86G66hxwyzrnB1TrmMEy5W9Zen7G911iX1ZzgUcgsDWBI5NjN2oi3MEVTYRad2mTqfgmJ7mFFJfFUuDpaPdrnSP8gFpGu/S0jw4r8KMY3tZLkUykpPrT3ESpoZYZRW2OGVQTXlK7VTZSK51RM1yoJBswKr93EgspZtlbSkcRVm0TenyqTOa9R2gazBvsv+/vXO9dZ1VwnAtKcZKOZbSTeQKTg+R/PvrYms1kqO5MAy+JCQxNiTv+rG3Y+NheMC8gDGk1ahc9WLszM6NPTwTyFCgeOwKrb9bq3LXM3bFWALOfYsDvCFPF1JH6C59n2SNj3l+PDPrfI4JSe4zSpM8XfLHXiqp2RhdYvLZD/Vk/kA5b52NUBrplB2T27HFMy1RXl/5rjBAzWYtySGSUM55SCMtqyEI/geBTAJNiDE9A+HPlXgbreJKh5+HMPq62B8K4furvha1lj7dJjWXDvM6O1OQfqhKnHFnrPqjuGK/xHzTAWQXiw0pT+N5/beLRaubmMDQLglhaGKXVknRGXU43uWSkLijJHl2GCU5ErBqbmpEY+mGm72TTkwu/whZpqORs6ozDHuujairVXOGmkcxvXLXXPCSMJaiZQ/tbGKWSEYNW5aKUO97MZbX/FrW+1G7+76h4HzTPF0Tvxd7n4ZazDqfY0IssXIwy1PjHB6oWcEws3xvVv/YHLOHlBuyCkneyJjZ4GEo5xyKUxTOWMmPvsWx7mBUnspwSzTiC48UDE3yZYyvk4MP+B8EXiLQhBi/lKLswP4B9sfZBuoPuFqN1u86PPyIwHzU5yNzuBkEQKA0gR8WY36NZE3hrEZ66dzY2j7EeGui9duTYSQ3gFS/y/AQBEDgfv9lMUb+gwAIgAAIgEAVBCDGVWQDnAABEAABEPhlAhDjX859pB0EQAAEQKAKAhDjKrIBToAACIAACPwyAYjxL+c+0g4CIAACIFAFAYhxFdkAJ0AABEAABH6ZAMT4l3MfaQcBEAABEKiCAMS4imyAEyAAAiAAAr9MAGL8y7mPtIMACIAACFRBoBUxtoVkw9JCcSlgXVE5LiQbFoi2lXLD8sLPjbi1Z7c0u4lvGUZoPWT5y09yhtnn3DYxAviyvcQhOdgW/E3KWyEjVdTrcKJBAq2IcYNo4TIIgAAIgAAI5BGAGOdxQigQAAEQAAEQKEYAYlwMLQyDAAiAAAiAQB4BiHEeJ4QCARAAARAAgWIEIMbF0MIwCIAACIAACOQRgBjncUIoEAABEAABEChGAGJcDC0MgwAIgAAIgEAeAYhxHieEAgEQAAEQAIFiBCDGxdB+k+Fbfzqd+ttKkv4N3Xn4W7mI0yAAAiAAAk8JNCHGf8M5KAGpAq2NZUtNqUjc+pPqAQWW9acsjPyMC+6caBkv+hnW6rrfx55PznnFuzgw/9TFucYLe3XrnZ1cs/OIKjnzd+1MdDWBTz2rWoz/hnNYte1pQg4OkBTCtHwe7Fle9LRSmy79Vl2RqNm3PLoI9e0EmhDjsT93HWvheO37s4qxacb9ThLYnfvh3/3+bxgufXf9c3WZ1nEmM3bJxIZuvy517VKN728UUX/pJepFMZYVDSXAqtmKS5VRignhbvHJN1biWqTUFhq55h1kJc7qusgLYpy00v4NUrQkT3zyD8ilqGFjz43OA3x4P8qxP/f9hcdIYkLeN7fpnTX7tmlCYaxZAq2IMUnseB+H6zisiHF/HXrS4GG89d31P98fElG0etZpJFd56xWHqTXlL/eA2cjYs+SsiTH3s1WilhS+6sJilKIYk79e0uKxEmBt5vZHvFRNImcuxZEMaaVJbv6FcnVwN1oKZ1LwqkH5zBEiOcrIyvoz9cxIoes1+1YoyTDbGIFmxPjv1kuXdLxQdWmdGxmmZgn5Gy7cMKe+zv+8GN9JnrmvLGvwx9FpHlX2fb40+5I6kbtQolXy77oYPzGbRlLXLx6H190m3HtiL2nxOIpx6BAnxKpIWfRW3PEecj6yGP8behpZUUk+1HHelsMV0UOdeSlyadYoz8qmEdTs20uQEfhrCbQgxtrK1oE7E2M/TC01rHZ5Z2Kc9IwnbfbJzzSjfcXtesY0GN5dRr0ae1ru5odmXbjqDqWdIW655CeSFltCohkuse6WSpKWeJ529/mlw40F+DYMt6EP4y7Hul4fw0weInh3ekJvtc3pq9m3TLwI9uUEGhFj11FYEWM3uhi6sGFe1fSdcVLZOSFZyOrFd8Y8qXi8dJ1MK/s5MdZ6LeJyDBO2McSBR1MxthkDNmtvvHT9ZRjvfwPl6fHTwutjmJl9oWBQeaiCpPO7Zt+cmzj8YQItijHNYY6dM/7kRhRa81G1gaZVy59Np9LONL3j1BnR1Md9WP9aRDYl2xkJs6ltWNdMPTNbbZGb94yTgWtOoDGhdF9Gz7A+IYnFwEbdzX8rGDIVn867Zt9ReVQfw0wSQfDkYwd7FjLvLhusZt/KphzWWyHQghi3wvJH/PTtDH/8I8lHMkEABECgAAGIcYRqHSbr6GonOAbBkcysNkLh+2+AAQEQAAEQ+IAAxPgDeLgVBEAABEAABLYgADHegiJsgAAIgAAIgMAHBCDGH8DDrSAAAiAAAiCwBQGI8RYUYaMxAo8X1ph+DdVY4uAuCIBAgwSaEOMv3CgiThbjL0D850PyDVUMYF9h7VS8WlwVeR0NL74ml90yqOvh6cpRYoyNIh7ny/tX3cfltO7L2q4w70eAO0HgYwJNiPG3bRSRVg2Uh3OdsC+nx0vYCefjzM4zMBdj7kfSBGpeWcXJGy9o5ZZbyYtg11DO2wBZk+O2BrEEShpZjK+0a2SyPcYOfsdPxea5sEP0H0ZR9WYM9vV2KAYfJha3g8DGBFoR4+/aKCJsBGmZOa8gvBjv+4XVVAasFqMFQc/DHy9wRt0L6tPXsJizUVw6WBBjCuaBWwLDSV4nhFf/CGeWLJc5JzGaS2UiKWSVikStG0VIh7jV7VsKZRjMVkWgGTH+to0idBdC7VY+GKZ2Hbh9Ss5EjP1Pll4R41vfnYdRJXkfx96KRfd/1A+jDaZXWVO+cNINUy+udfqWI9k3PX6fnW3mgIDSPuN/Yxf/AD/WouSnrO6BnDXXcf4HCLQgxvpgqyqsrE1Nq09oZUpqkezaJOd1ocdJNTH5mWa5VdN0muvlaGSbjSLiutmmE+KC9oyPEYOwVii5MhNjFuCRt6rsb1L/ptSq+pXRM44tIV3B8VgxpqVe9x0L2SrDtDBQ0a1uowhO48OHfSsKsAMC7xFoRIzdisErYuwavC1tFKH1fuiTxUxUMT5gMpFXX11vS7VBt82g/nF/Hf5IlbvOZU30vp6j52I8H2mHGL+Xf6FlRppX20YRnCKI8XsZi7t2IdCiGFO/wU02lp+pGOvrTB2cFC2JWyAcvVFE7IqddHLW/EwQY+6Ra49tlxJBXWH7E6p2RnvMBJ80mN6tTjr0+7j4QixzMdYXBJJGSqCHzztGQIxfAOyCBjGucaMIdhNi7HILh7URaEGMa2MGf76KgB8J8MdflUgkBgRAoHICEOOYQb63Lf2mLV7dWbfSupv+jWyMHUdHEfD5XntH/yhGiBcEQKAwAYhxYcAwDwIgAAIgAALPCECMnxHCdRAAARAAARAoTABiXBgwzIMACIAACIDAMwIQ42eEcB0EQAAEQAAEChOAGBcG/B3meR2r1elsX/PFiFtihb93ct/LfUc+IhUgAAK1EmhCjI/ctYn3Qjjx56eUh1xHx89taQkqmyW9sr2S/4xVJ+smn7qKtWiHw8RPXcNHvTuVoPg1Nn8tuirA3p2axVgXKtHVS55MlnZi7NO353Gc2r3rx+UbJdEV7KySs1G0WWZq9i0rAQj05QSaEOO40tN47fszqddkyUBawercD//u93+0pUR3/SMJ1MWh4pKTUkHYJTMyXwDLZfvY08qX2kkirbr0Yodvj1+mktmlCtQZJ8W1Sspil9Uz7DxHHcR4d3lYEGNd3tl1E129djrp4vvDhVslSwQczL0P5wUjtKjI26DNvDOENKq4zIT2U/gIzbU2JNfGS9dfOtrTiTd3SvPu/TRayXQmrJXG/Gl1uZ7af5dhOIc2oq2/ffBqaAtbEwaSskrMfYmbwXcFzKV/o8OafdsoiTDTOIFWxPiYXZsoc28svWEhJ9YqW4P3xD3jUGWv7JPqxJg71qHGdGLMC4qF81yiRIzjkka7FbMFMaa4Q+MgPdYksDazIPlgu7n8KCJKznXoqXE2jJKJstGFS0jcpDJp+sRm1n1BjEldpPk1Xrsg6o88ybpGsmrFie6IhcS2zKKNLKVVJx7GQhIDZ0W2eaDZimyRmw5uyTCP5xbLWwy8uWNL4yIxusN9K5Fe2GyPQDNifMiuTVwbSuWoVZ7UHfIv132uyk4UKxYFL8ay24Rcm1Sd2ofQnqV0F4r2FaKH/ih2ZbinGPp8XmXjsSYh1mtOPLzR4445p/6GS99fdPPHNIHd8M+tTf2KGMvGJHF7kq3SqKMOkvWT0mU7AEpp5KvWLU7yaytvXrajw+xhgCE2U7glJAXGHqLu+h/17+2v8LBKzb69DBo3fB2BFsRY63qtmFY2iqDhX5W97XZt4j2LrKqg+lHqEeoq6a5Nvrr0x7GkeDH2xxMx1hviZgzHbH2jCWRvnIdRgAKSVcQAAAiiSURBVPUlulCR3nzFYmy1P6kC55rPAkllb53RGsRYy4EMq/oSFfavJMVKxTgZU9H7j/2PWjw8cpAhxnu3OGv27dhcQ+zHEmhEjF11syLG7pEOde7aO2OnMfSOuXvQHg+j0/KiUV5FS2dxvHTdORmmliG4eXbG2p86PdHPxA27Tf0J4pfIgwUqeJAhxnFcVP1wDJcTVdDfJ6btZT+F44JBgxNJjusopTa8YknzQhiOuRsq+5SU6hlrgqQAmG9hvxBF7cSYClUysv2EyD6XpdxG1HEoeMItviPYx7GwF6orBjX5thsERFQfgRbFeL9dm6ZV+Xn479rpyK2+KLX5NTpFZZ7Fblw0KLEORUrvsh95+6PQAZcwQYx33wBnLsbOf50xpMN91jluSIxZhp3/LGOaHTwUwWLsAtjMI07teRh4s2HrcMfxmHnGv37Gow59SitgwdVJz1hn+EtmhAL2etRb3GGunuzNt6VIkrPEzd0VW0JbuJPYcLGEtks1viWO4sfPEmhBjH82c+pMuJPeJ+MKdfoPr0AABECgPgIQ45gnSX+Iexph+lIM8/RoEyNPYzk0AA3r2d8biA51HpGDAAiAQI0EIMY15gp8AgEQAAEQ+CkCEOOfym4kFgRAAARAoEYCEOMacwU+gQAIgAAI/BQBiPFPZTcSCwIgAAIgUCMBiHGNuQKfChPgD11WP6SJ35UVdgPmQQAEQEAJNCHG6dIH/Jmgn7RME3rT5QXso0b9+vL657cHoPX9eS2tsCoILSrVu+U4JqWD4grLRPC3ibrGAn80ufD94uR2+5wx7kww/c5YHNAZyux81AOKfUU2IgRxz5vlMy7q/C9QwwIXk2Q0+nO2bEtGOiL8jMAbB5nm6cbmC5tzJbCqafb0IMSH6NHDXhgQzIPAKoEmxBi7Ni3kX1q/cAD/BTCfsBU8FgIvmJRTczG2BgcrupM3XhozX+ZXoyx4wXkblkLT5IRVNZKWEDfUWIx5OyZptxV0LzW9lE0pfFpEDLs2pdTyftnacKEY5N2GUCCwF4FWxBi7Ns1KxGyHn/kSHF6MnfbMTCUnpmJstZgOP8iikro8sttlITFSzY8FMSbffI1sCQwn+UNq7kiFM3slZ5an5luEj12b3swNLtizBuubxnAbCGxNoBkxxq5NC1lv6zj+44tukFDG1amnJX9xjG7BTHpqIsb+Z9ir4DLeb313HkaV5NRAVb/STY2sReJV1gQvnHTD1LuvDU4tKsoyGW9Ygj9ZDjNN4OGDwzrMPm/KcKtIUEsbkWnvumsTPw51D+RU9ezAmX0JtCDG2pjVimllo4hf3rUpvAObtfq1Zzw7/7CMeQGQIVzbh0D6wbRLwcjbA9N2zuFt+kObx13M6BnHJoum5VAxVlTYtalAmXntQSjgAEyCwDqBRsTYdexWxNg1eH9u16YgHrO6xoaprfO3XhLsykSM09lzJFckyf1VNvLrOpc1ZqKig+diPB9pDzxth58D0iM+zOBrFmPXpreyZPaAvGUFN4FAEQItijF2baKiEPtzp5OOvi4NU+u4JV2yDu7jkmQzhvxgqQx2x2nkPDeVpMIGfh8bPezqXIw9JZtXr6P5Mm3+MDFeyFOa5+/gz8U4KQmuSXoAcXO1wl2bGAfE+IBSgShzCbQgxrlpQTgQeIOAHwnwx2+Ywi0gAAIg8CYBiHEEFz/xDP2kN6bDbGIk+qRHvs/h+kmzcDjxBgGfZbV39N9IHm4BARBogQDEuIVcgo8gAAIgAAJfTQBi/NXZi8SBAAiAAAi0QABi3EIuwUcQAAEQAIGvJgAx/ursReJAAARAAARaIAAxbiGX4OPGBHhC3OoX0u7Tpo3jhTkQAAEQWCbQhBj7ucTuU9cw51lmwLpvNDmMLWRI35WufH8ZPzkVsxRR/GZXF7jw94a1rhgmxbhaoS/jbuHsd33eM//O+HkeHCbGXIZjCX9jMv/zxBULkT4OyZNSLM5cwzX7lpsGhPt2Aq2IsdZQ9FDZ+ov+E/64hWLIMRXjBxVrrC/Cszr2576/DLThohqf3R4j/S7RCtjutMqE0g7nrDHE7RInb9i1KSDa5n9aMe3Siwa/smjaNrF/bsV8Dqt8f25yMws1+7ZZImGoZQKNiTFLReiqRl1k7Zx0f1mMbT3IhTyyrjNdEwWSVZc7qg3XxDhs+GPP9oLltk9NxTimVFo82LWpWP5ycdXlviP2YtEVMMyFxz+YBeJ412TNvr2bJtz3RQSaE2PXVZ0+89qB08E92c3mwTByIsZxC4Q/2YloXYxZuU+nB5bbLh8TMfY/mZKIMXZtKpDL0naUf9sUY1mlNTSXCyD6xCQNgE2a7J+Yw70gsCmB5sTYacNUjAVMWFuftfZRjZaIsZi1Tkk33IZu4Z2xsn9kdtPsOcKYI0zR+5+xyYJdm0pkjQ7kcHOn1TK2/FSWoPW6zZp9ez01uOPLCDQmxrRyoXVJVx4trcVUa11Pepp1i++M7YVxBzFmYKFxI1sYYdemaSna8reK8f0+XrruTBuitPe38lRWkZCafasCEJw4kkArYhxmTgclnq4n7LdYlzDW8eUp08v1mt2lk8K0Z8zzkmwDnxD1KVaOrfZaskqaTdfCrk33u5WiLHSfBjIxpikLrrx9anfP+2sWvJp92zOPEFeVBJoQ4yrJwakvIeDH4f3xlyQPyQABEGiCwK+IMc/diH1c6vRd6Qsm/IHAdJQFREAABEBgdwK/Isa7g0WEIAACIAACIJBLAGKcSwrhQAAEQAAEQKAQAYhxIbAwCwIgAAIgAAK5BCDGuaQQDgRAAARAAAQKEYAYFwILsyAAAiAAAiCQSwBinEsK4UAABEAABECgEAGIcSGwMAsCIAACIAACuQQgxrmkEA4EQAAEQAAEChGAGBcCC7MgAAIgAAIgkEsAYpxLCuFAAARAAARAoBABiHEhsDALAiAAAiAAArkE/g9avyh768uJHwAAAABJRU5ErkJggg==)"
      ],
      "metadata": {
        "id": "kD6l6f5796Ma"
      }
    },
    {
      "cell_type": "code",
      "source": [
        "df_base.unpersist()\n",
        "df_base.persist(StorageLevel.MEMORY_ONLY)\n",
        "\n",
        "df2 = (\n",
        "    df_base\n",
        "    .withColumn(\"test_column_1\", F.lit(\"test_column_1\"))\n",
        "    .withColumn(\"birth_year\", F.split(\"birthday\", \"/\").getItem(2))\n",
        ")\n",
        "\n",
        "df1.show(5, False)"
      ],
      "metadata": {
        "colab": {
          "base_uri": "https://localhost:8080/"
        },
        "id": "eoWQ493C9-ae",
        "outputId": "2419b27e-4e8d-42c1-966e-254cb868e1e5"
      },
      "execution_count": 11,
      "outputs": [
        {
          "output_type": "execute_result",
          "data": {
            "text/plain": [
              "DataFrame[cust_id: string, name: string, age: string, gender: string, birthday: string, zip: string, city: string, customer_group: string]"
            ]
          },
          "metadata": {},
          "execution_count": 11
        },
        {
          "output_type": "execute_result",
          "data": {
            "text/plain": [
              "DataFrame[cust_id: string, name: string, age: string, gender: string, birthday: string, zip: string, city: string, customer_group: string]"
            ]
          },
          "metadata": {},
          "execution_count": 11
        },
        {
          "output_type": "stream",
          "name": "stdout",
          "text": [
            "+----------+--------------+---+------+---------+-----+------+--------------+-------------+----------+\n",
            "|cust_id   |name          |age|gender|birthday |zip  |city  |customer_group|test_column_1|birth_year|\n",
            "+----------+--------------+---+------+---------+-----+------+--------------+-------------+----------+\n",
            "|C007YEYTX9|Aaron Abbott  |34 |Female|7/13/1991|97823|boston|mid           |test_column_1|1991      |\n",
            "|C08XAQUY73|Aaron Lambert |54 |Female|11/5/1966|75218|boston|old           |test_column_1|1966      |\n",
            "|C094P1VXF9|Aaron Lindsey |24 |Male  |9/21/1990|29399|boston|young         |test_column_1|1990      |\n",
            "|C097SHE1EF|Aaron Lopez   |22 |Female|4/18/2001|82129|boston|young         |test_column_1|2001      |\n",
            "|C0DTC6436T|Aaron Schwartz|52 |Female|7/9/1962 |57192|boston|old           |test_column_1|1962      |\n",
            "+----------+--------------+---+------+---------+-----+------+--------------+-------------+----------+\n",
            "only showing top 5 rows\n",
            "\n"
          ]
        }
      ]
    },
    {
      "cell_type": "code",
      "source": [
        "spark.stop()"
      ],
      "metadata": {
        "id": "DORylSc2-IKj"
      },
      "execution_count": 12,
      "outputs": []
    }
  ]
}