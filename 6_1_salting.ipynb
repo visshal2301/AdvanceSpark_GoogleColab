{
  "nbformat": 4,
  "nbformat_minor": 0,
  "metadata": {
    "colab": {
      "provenance": [],
      "mount_file_id": "1k_YBFX5RzzPUu1OpoPiTXR79NToJiHwN",
      "authorship_tag": "ABX9TyOzStjv3ZMVjivyh0bMhJjd",
      "include_colab_link": true
    },
    "kernelspec": {
      "name": "python3",
      "display_name": "Python 3"
    },
    "language_info": {
      "name": "python"
    }
  },
  "cells": [
    {
      "cell_type": "markdown",
      "metadata": {
        "id": "view-in-github",
        "colab_type": "text"
      },
      "source": [
        "<a href=\"https://colab.research.google.com/github/visshal2301/AdvanceSpark_GoogleColab/blob/main/6_1_salting.ipynb\" target=\"_parent\"><img src=\"https://colab.research.google.com/assets/colab-badge.svg\" alt=\"Open In Colab\"/></a>"
      ]
    },
    {
      "cell_type": "code",
      "execution_count": 1,
      "metadata": {
        "id": "AzqiOR1d8Mvn"
      },
      "outputs": [],
      "source": [
        "from pyspark.sql import SparkSession\n",
        "import pyspark.sql.functions as F\n",
        "from pyspark.sql.types import *"
      ]
    },
    {
      "cell_type": "code",
      "source": [
        "!pip install -q pyngrok"
      ],
      "metadata": {
        "id": "I-phwiXJ86MR"
      },
      "execution_count": 2,
      "outputs": []
    },
    {
      "cell_type": "code",
      "source": [
        "spark = SparkSession.builder \\\n",
        "       .master(\"local[*]\") \\\n",
        "       .appName(\"Colab\") \\\n",
        "       .config('spark.ui.port', '4050') \\\n",
        "       .getOrCreate()\n",
        "spark"
      ],
      "metadata": {
        "colab": {
          "base_uri": "https://localhost:8080/",
          "height": 219
        },
        "id": "nJeab6If8-Nf",
        "outputId": "c982726e-eee2-4d96-b6b9-3543ce9934cf"
      },
      "execution_count": 3,
      "outputs": [
        {
          "output_type": "execute_result",
          "data": {
            "text/plain": [
              "<pyspark.sql.session.SparkSession at 0x7d7a2812f490>"
            ],
            "text/html": [
              "\n",
              "            <div>\n",
              "                <p><b>SparkSession - in-memory</b></p>\n",
              "                \n",
              "        <div>\n",
              "            <p><b>SparkContext</b></p>\n",
              "\n",
              "            <p><a href=\"http://8d639a9ac9bc:4050\">Spark UI</a></p>\n",
              "\n",
              "            <dl>\n",
              "              <dt>Version</dt>\n",
              "                <dd><code>v3.5.1</code></dd>\n",
              "              <dt>Master</dt>\n",
              "                <dd><code>local[*]</code></dd>\n",
              "              <dt>AppName</dt>\n",
              "                <dd><code>Colab</code></dd>\n",
              "            </dl>\n",
              "        </div>\n",
              "        \n",
              "            </div>\n",
              "        "
            ]
          },
          "metadata": {},
          "execution_count": 3
        }
      ]
    },
    {
      "cell_type": "code",
      "source": [
        "# prompt: need to see spark UI using colab\n",
        "from pyngrok import ngrok\n",
        "from google.colab import userdata\n",
        "\n",
        "# Get the ngrok authtoken from Colab secrets\n",
        "# You need to add your ngrok authtoken to Colab's secrets with the name 'NGROK_AUTH_TOKEN'\n",
        "ngrok_auth_token = userdata.get('NGROK_AUTH_TOKEN')\n",
        "ngrok.set_auth_token(ngrok_auth_token)\n",
        "\n",
        "public_url = ngrok.connect(4050).public_url\n",
        "print(f\"Spark UI: {public_url}\")"
      ],
      "metadata": {
        "colab": {
          "base_uri": "https://localhost:8080/"
        },
        "id": "imxGWHSj9FBv",
        "outputId": "c1d0b5d8-45d0-4a1e-8710-7fb4314e2bbb"
      },
      "execution_count": 4,
      "outputs": [
        {
          "output_type": "stream",
          "name": "stdout",
          "text": [
            "Spark UI: https://fe9214fe12dd.ngrok-free.app\n"
          ]
        }
      ]
    },
    {
      "cell_type": "code",
      "source": [
        "spark.conf.set(\"spark.sql.autoBroadcastJoinThreshold\", -1)\n",
        "spark.conf.set(\"spark.sql.shuffle.partitions\",3)"
      ],
      "metadata": {
        "id": "vEYdQ_DoHz4_"
      },
      "execution_count": 5,
      "outputs": []
    },
    {
      "cell_type": "markdown",
      "source": [],
      "metadata": {
        "id": "f6frFbMQH4M3"
      }
    },
    {
      "cell_type": "code",
      "source": [
        "transactions_file = \"/content/drive/MyDrive/data/data_skew/transactions.parquet\"\n",
        "df_transactions = spark.read.parquet(transactions_file)"
      ],
      "metadata": {
        "id": "pKEAQYuK9QZn"
      },
      "execution_count": 6,
      "outputs": []
    },
    {
      "cell_type": "code",
      "source": [
        "df_transactions.show(5, False)"
      ],
      "metadata": {
        "colab": {
          "base_uri": "https://localhost:8080/"
        },
        "id": "3ypi278I-aJX",
        "outputId": "b6a7a7b9-68ef-4af3-bf7e-3b78c09ca94d"
      },
      "execution_count": 7,
      "outputs": [
        {
          "output_type": "stream",
          "name": "stdout",
          "text": [
            "+----------+----------+----------+---------------+----------+----+-----+---+-------------+------+-----------+\n",
            "|cust_id   |start_date|end_date  |txn_id         |date      |year|month|day|expense_type |amt   |city       |\n",
            "+----------+----------+----------+---------------+----------+----+-----+---+-------------+------+-----------+\n",
            "|C0YDPQWPBJ|2010-07-01|2018-12-01|TZ5SMKZY9S03OQJ|2018-10-07|2018|10   |7  |Entertainment|10.42 |boston     |\n",
            "|C0YDPQWPBJ|2010-07-01|2018-12-01|TYIAPPNU066CJ5R|2016-03-27|2016|3    |27 |Motor/Travel |44.34 |portland   |\n",
            "|C0YDPQWPBJ|2010-07-01|2018-12-01|TETSXIK4BLXHJ6W|2011-04-11|2011|4    |11 |Entertainment|3.18  |chicago    |\n",
            "|C0YDPQWPBJ|2010-07-01|2018-12-01|TQKL1QFJY3EM8LO|2018-02-22|2018|2    |22 |Groceries    |268.97|los_angeles|\n",
            "|C0YDPQWPBJ|2010-07-01|2018-12-01|TYL6DFP09PPXMVB|2010-10-16|2010|10   |16 |Entertainment|2.66  |chicago    |\n",
            "+----------+----------+----------+---------------+----------+----+-----+---+-------------+------+-----------+\n",
            "only showing top 5 rows\n",
            "\n"
          ]
        }
      ]
    },
    {
      "cell_type": "code",
      "source": [
        "customers_file = \"/content/drive/MyDrive/data/data_skew/customers.parquet\"\n",
        "df_customers = spark.read.parquet(customers_file)"
      ],
      "metadata": {
        "id": "3WpT1tOF-qOm"
      },
      "execution_count": 8,
      "outputs": []
    },
    {
      "cell_type": "code",
      "source": [
        "df_transactions.printSchema()\n",
        "df_transactions.show(3, False)"
      ],
      "metadata": {
        "colab": {
          "base_uri": "https://localhost:8080/"
        },
        "id": "IEYHfHgl_17n",
        "outputId": "38de9afb-3189-4202-8877-3eada412f410"
      },
      "execution_count": 9,
      "outputs": [
        {
          "output_type": "stream",
          "name": "stdout",
          "text": [
            "root\n",
            " |-- cust_id: string (nullable = true)\n",
            " |-- start_date: string (nullable = true)\n",
            " |-- end_date: string (nullable = true)\n",
            " |-- txn_id: string (nullable = true)\n",
            " |-- date: string (nullable = true)\n",
            " |-- year: string (nullable = true)\n",
            " |-- month: string (nullable = true)\n",
            " |-- day: string (nullable = true)\n",
            " |-- expense_type: string (nullable = true)\n",
            " |-- amt: string (nullable = true)\n",
            " |-- city: string (nullable = true)\n",
            "\n",
            "+----------+----------+----------+---------------+----------+----+-----+---+-------------+-----+--------+\n",
            "|cust_id   |start_date|end_date  |txn_id         |date      |year|month|day|expense_type |amt  |city    |\n",
            "+----------+----------+----------+---------------+----------+----+-----+---+-------------+-----+--------+\n",
            "|C0YDPQWPBJ|2010-07-01|2018-12-01|TZ5SMKZY9S03OQJ|2018-10-07|2018|10   |7  |Entertainment|10.42|boston  |\n",
            "|C0YDPQWPBJ|2010-07-01|2018-12-01|TYIAPPNU066CJ5R|2016-03-27|2016|3    |27 |Motor/Travel |44.34|portland|\n",
            "|C0YDPQWPBJ|2010-07-01|2018-12-01|TETSXIK4BLXHJ6W|2011-04-11|2011|4    |11 |Entertainment|3.18 |chicago |\n",
            "+----------+----------+----------+---------------+----------+----+-----+---+-------------+-----+--------+\n",
            "only showing top 3 rows\n",
            "\n"
          ]
        }
      ]
    },
    {
      "cell_type": "code",
      "source": [
        "df_customers.printSchema()\n",
        "df_customers.show(3, False)"
      ],
      "metadata": {
        "colab": {
          "base_uri": "https://localhost:8080/"
        },
        "id": "O1yYE-MdAFvP",
        "outputId": "476da2f2-283d-47a6-bc00-d52c25e2e7d9"
      },
      "execution_count": 10,
      "outputs": [
        {
          "output_type": "stream",
          "name": "stdout",
          "text": [
            "root\n",
            " |-- cust_id: string (nullable = true)\n",
            " |-- name: string (nullable = true)\n",
            " |-- age: string (nullable = true)\n",
            " |-- gender: string (nullable = true)\n",
            " |-- birthday: string (nullable = true)\n",
            " |-- zip: string (nullable = true)\n",
            " |-- city: string (nullable = true)\n",
            "\n",
            "+----------+------------+---+------+----------+-----+-------+\n",
            "|cust_id   |name        |age|gender|birthday  |zip  |city   |\n",
            "+----------+------------+---+------+----------+-----+-------+\n",
            "|C007YEYTX9|Aaron Abbott|34 |Female|7/13/1991 |97823|boston |\n",
            "|C00B971T1J|Aaron Austin|37 |Female|12/16/2004|30332|chicago|\n",
            "|C00WRSJF1Q|Aaron Barnes|29 |Female|3/11/1977 |23451|denver |\n",
            "+----------+------------+---+------+----------+-----+-------+\n",
            "only showing top 3 rows\n",
            "\n"
          ]
        }
      ]
    },
    {
      "cell_type": "code",
      "source": [
        "(\n",
        "    df_transactions\n",
        "    .groupBy(\"cust_id\")\n",
        "    .agg(F.countDistinct(\"txn_id\").alias(\"ct\"))\n",
        "    .orderBy(F.desc(\"ct\"))\n",
        "    .show(5, False)\n",
        ")"
      ],
      "metadata": {
        "colab": {
          "base_uri": "https://localhost:8080/"
        },
        "id": "FiL_JqbLBK-C",
        "outputId": "9f7ec96f-11fc-4a85-b03c-5653771e079e"
      },
      "execution_count": 27,
      "outputs": [
        {
          "output_type": "stream",
          "name": "stdout",
          "text": [
            "+----------+--------+\n",
            "|cust_id   |ct      |\n",
            "+----------+--------+\n",
            "|C0YDPQWPBJ|17539732|\n",
            "|CBW3FMEAU7|7999    |\n",
            "|C3KUDEN3KO|7999    |\n",
            "|C89FCEGPJP|7999    |\n",
            "|CHNFNR89ZV|7998    |\n",
            "+----------+--------+\n",
            "only showing top 5 rows\n",
            "\n"
          ]
        }
      ]
    },
    {
      "cell_type": "code",
      "source": [
        "df_txn_details = (\n",
        "    df_transactions.join(\n",
        "        df_customers,\n",
        "        on=\"cust_id\",\n",
        "        how=\"inner\"\n",
        "    )\n",
        ")"
      ],
      "metadata": {
        "id": "y504XPxgDUgX"
      },
      "execution_count": 11,
      "outputs": []
    },
    {
      "cell_type": "code",
      "source": [
        "(\n",
        "    df_txn_details\n",
        "    .withColumn(\"partition\", F.spark_partition_id())\n",
        "    .where(\"cust_id='C0YDPQWPBJ'\") # Add your where clause here\n",
        "    .groupBy(\"cust_id\", \"partition\")\n",
        "    .count()\n",
        "    .orderBy(\"cust_id\", \"partition\")\n",
        "    .show()\n",
        ")"
      ],
      "metadata": {
        "colab": {
          "base_uri": "https://localhost:8080/"
        },
        "id": "eLdHSnsgKEVT",
        "outputId": "6716d507-56b9-4422-a43d-80030a9414d3"
      },
      "execution_count": 23,
      "outputs": [
        {
          "output_type": "stream",
          "name": "stdout",
          "text": [
            "+----------+---------+--------+\n",
            "|   cust_id|partition|   count|\n",
            "+----------+---------+--------+\n",
            "|C0YDPQWPBJ|        1|17539732|\n",
            "+----------+---------+--------+\n",
            "\n"
          ]
        }
      ]
    },
    {
      "cell_type": "code",
      "source": [
        "import time\n",
        "start_time = time.time()\n",
        "df_txn_details.count()\n",
        "print(f\"time taken: {time.time() - start_time}\")"
      ],
      "metadata": {
        "colab": {
          "base_uri": "https://localhost:8080/"
        },
        "id": "p7CTsmvdDdwm",
        "outputId": "c76ffb79-89ec-4408-c3dd-ef8f56292f83"
      },
      "execution_count": 12,
      "outputs": [
        {
          "output_type": "stream",
          "name": "stdout",
          "text": [
            "time taken: 63.674864768981934\n"
          ]
        }
      ]
    },
    {
      "cell_type": "code",
      "source": [
        "\n",
        "SALT_NUMBER = int(spark.conf.get(\"spark.sql.shuffle.partitions\"))\n",
        "SALT_NUMBER"
      ],
      "metadata": {
        "colab": {
          "base_uri": "https://localhost:8080/"
        },
        "id": "q0Tjtis9D9P7",
        "outputId": "2cf1c8a4-0196-4610-914e-b61b91f5b4a8"
      },
      "execution_count": 13,
      "outputs": [
        {
          "output_type": "execute_result",
          "data": {
            "text/plain": [
              "3"
            ]
          },
          "metadata": {},
          "execution_count": 13
        }
      ]
    },
    {
      "cell_type": "code",
      "source": [
        "df_txn_details_skew = df_txn_details.withColumn(\"salt\", (F.rand() * SALT_NUMBER).cast(\"int\"))"
      ],
      "metadata": {
        "id": "huCdYBiZEnqp"
      },
      "execution_count": 14,
      "outputs": []
    },
    {
      "cell_type": "code",
      "source": [
        "df_txn_details_skew.show(5)"
      ],
      "metadata": {
        "colab": {
          "base_uri": "https://localhost:8080/"
        },
        "id": "dLCVyrfjEzN4",
        "outputId": "ee8daa93-33a8-4a6c-8bb8-f0586e16bd44"
      },
      "execution_count": 15,
      "outputs": [
        {
          "output_type": "stream",
          "name": "stdout",
          "text": [
            "+----------+----------+----------+---------------+----------+----+-----+---+-------------+-----+------------+-------------+---+------+--------+-----+-----------+----+\n",
            "|   cust_id|start_date|  end_date|         txn_id|      date|year|month|day| expense_type|  amt|        city|         name|age|gender|birthday|  zip|       city|salt|\n",
            "+----------+----------+----------+---------------+----------+----+-----+---+-------------+-----+------------+-------------+---+------+--------+-----+-----------+----+\n",
            "|C01AZWQMF3|2010-10-01|2019-03-01|T0KD2W40RJK4WPF|2017-09-22|2017|    9| 22|Entertainment| 3.64|      denver|Aaron Barrett| 31|  Male|7/9/1998|46613|los_angeles|   0|\n",
            "|C01AZWQMF3|2010-10-01|2019-03-01|TO2WCFYSTV3F80D|2016-03-20|2016|    3| 20| Motor/Travel|13.49|   san_diego|Aaron Barrett| 31|  Male|7/9/1998|46613|los_angeles|   0|\n",
            "|C01AZWQMF3|2010-10-01|2019-03-01|T00GZEM2XP0PEY3|2013-05-04|2013|    5|  4|    Groceries| 9.64|   san_diego|Aaron Barrett| 31|  Male|7/9/1998|46613|los_angeles|   2|\n",
            "|C01AZWQMF3|2010-10-01|2019-03-01|TRIRRQG1YPAT6XE|2017-09-23|2017|    9| 23| Motor/Travel| 25.4| los_angeles|Aaron Barrett| 31|  Male|7/9/1998|46613|los_angeles|   2|\n",
            "|C01AZWQMF3|2010-10-01|2019-03-01|TD42VG6W3U9BN69|2019-03-19|2019|    3| 19|Entertainment| 3.72|philadelphia|Aaron Barrett| 31|  Male|7/9/1998|46613|los_angeles|   1|\n",
            "+----------+----------+----------+---------------+----------+----+-----+---+-------------+-----+------------+-------------+---+------+--------+-----+-----------+----+\n",
            "only showing top 5 rows\n",
            "\n"
          ]
        }
      ]
    },
    {
      "cell_type": "code",
      "source": [
        "df_customers_skew = (\n",
        "    df_customers\n",
        "    .withColumn(\"salt_values\", F.array([F.lit(i) for i in range(SALT_NUMBER)]))\n",
        "    .withColumn(\"salt\", F.explode(F.col(\"salt_values\")))\n",
        ")"
      ],
      "metadata": {
        "id": "yqFKASjlFFkJ"
      },
      "execution_count": 16,
      "outputs": []
    },
    {
      "cell_type": "code",
      "source": [
        "df_customers_skew.show(5)"
      ],
      "metadata": {
        "colab": {
          "base_uri": "https://localhost:8080/"
        },
        "id": "DpWB6JQBFbUq",
        "outputId": "a523972f-b440-4950-e9c8-aa8d98fd6539"
      },
      "execution_count": 17,
      "outputs": [
        {
          "output_type": "stream",
          "name": "stdout",
          "text": [
            "+----------+------------+---+------+----------+-----+-------+-----------+----+\n",
            "|   cust_id|        name|age|gender|  birthday|  zip|   city|salt_values|salt|\n",
            "+----------+------------+---+------+----------+-----+-------+-----------+----+\n",
            "|C007YEYTX9|Aaron Abbott| 34|Female| 7/13/1991|97823| boston|  [0, 1, 2]|   0|\n",
            "|C007YEYTX9|Aaron Abbott| 34|Female| 7/13/1991|97823| boston|  [0, 1, 2]|   1|\n",
            "|C007YEYTX9|Aaron Abbott| 34|Female| 7/13/1991|97823| boston|  [0, 1, 2]|   2|\n",
            "|C00B971T1J|Aaron Austin| 37|Female|12/16/2004|30332|chicago|  [0, 1, 2]|   0|\n",
            "|C00B971T1J|Aaron Austin| 37|Female|12/16/2004|30332|chicago|  [0, 1, 2]|   1|\n",
            "+----------+------------+---+------+----------+-----+-------+-----------+----+\n",
            "only showing top 5 rows\n",
            "\n"
          ]
        }
      ]
    },
    {
      "cell_type": "code",
      "source": [
        "df_txn_details_skew = (\n",
        "    df_txn_details_skew.join(\n",
        "        df_customers_skew,\n",
        "        on=[\"cust_id\", \"salt\"],\n",
        "        how=\"inner\"\n",
        "    )\n",
        ")"
      ],
      "metadata": {
        "id": "tJgPdVOCFiF-"
      },
      "execution_count": 18,
      "outputs": []
    },
    {
      "cell_type": "code",
      "source": [
        "import time\n",
        "start_time = time.time()\n",
        "df_txn_details_skew.count()\n",
        "print(f\"time taken: {time.time() - start_time}\")"
      ],
      "metadata": {
        "colab": {
          "base_uri": "https://localhost:8080/"
        },
        "id": "i8L5gOFiGGBy",
        "outputId": "f922c426-1ee8-42c7-86a3-8212ff432e64"
      },
      "execution_count": 19,
      "outputs": [
        {
          "output_type": "stream",
          "name": "stdout",
          "text": [
            "time taken: 113.88618326187134\n"
          ]
        }
      ]
    },
    {
      "cell_type": "code",
      "source": [
        "(\n",
        "    df_txn_details_skew\n",
        "    .withColumn(\"partition\", F.spark_partition_id())\n",
        "    .where(\"cust_id='C0YDPQWPBJ'\")\n",
        "    .groupBy(\"cust_id\", \"partition\")\n",
        "    .count()\n",
        "    .orderBy(\"cust_id\", \"partition\")\n",
        "    .show()\n",
        ")"
      ],
      "metadata": {
        "colab": {
          "base_uri": "https://localhost:8080/"
        },
        "id": "PhXuZpHpKmnN",
        "outputId": "2f4accbe-9a2f-4501-8feb-20dc2851b6ad"
      },
      "execution_count": 24,
      "outputs": [
        {
          "output_type": "stream",
          "name": "stdout",
          "text": [
            "+----------+---------+--------+\n",
            "|   cust_id|partition|   count|\n",
            "+----------+---------+--------+\n",
            "|C0YDPQWPBJ|        0| 5843085|\n",
            "|C0YDPQWPBJ|        1|11696647|\n",
            "+----------+---------+--------+\n",
            "\n"
          ]
        }
      ]
    },
    {
      "cell_type": "code",
      "source": [
        "spark.stop()"
      ],
      "metadata": {
        "colab": {
          "base_uri": "https://localhost:8080/",
          "height": 141
        },
        "id": "oYFGfoOK--ye",
        "outputId": "28da425d-d186-4a82-e8e4-e13719f1067a"
      },
      "execution_count": 1,
      "outputs": [
        {
          "output_type": "error",
          "ename": "NameError",
          "evalue": "name 'spark' is not defined",
          "traceback": [
            "\u001b[0;31m---------------------------------------------------------------------------\u001b[0m",
            "\u001b[0;31mNameError\u001b[0m                                 Traceback (most recent call last)",
            "\u001b[0;32m/tmp/ipython-input-2218380179.py\u001b[0m in \u001b[0;36m<cell line: 0>\u001b[0;34m()\u001b[0m\n\u001b[0;32m----> 1\u001b[0;31m \u001b[0mspark\u001b[0m\u001b[0;34m.\u001b[0m\u001b[0mstop\u001b[0m\u001b[0;34m(\u001b[0m\u001b[0;34m)\u001b[0m\u001b[0;34m\u001b[0m\u001b[0;34m\u001b[0m\u001b[0m\n\u001b[0m",
            "\u001b[0;31mNameError\u001b[0m: name 'spark' is not defined"
          ]
        }
      ]
    }
  ]
}