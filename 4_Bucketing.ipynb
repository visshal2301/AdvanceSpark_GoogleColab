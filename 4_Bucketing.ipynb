{
  "nbformat": 4,
  "nbformat_minor": 0,
  "metadata": {
    "colab": {
      "provenance": [],
      "mount_file_id": "1tSasjNpSGaFsFyqEl6M5Wa71E1agSV-Z",
      "authorship_tag": "ABX9TyP0N9/aMFbeWDUp5/XvnPoL",
      "include_colab_link": true
    },
    "kernelspec": {
      "name": "python3",
      "display_name": "Python 3"
    },
    "language_info": {
      "name": "python"
    }
  },
  "cells": [
    {
      "cell_type": "markdown",
      "metadata": {
        "id": "view-in-github",
        "colab_type": "text"
      },
      "source": [
        "<a href=\"https://colab.research.google.com/github/visshal2301/AdvanceSpark_GoogleColab/blob/main/4_Bucketing.ipynb\" target=\"_parent\"><img src=\"https://colab.research.google.com/assets/colab-badge.svg\" alt=\"Open In Colab\"/></a>"
      ]
    },
    {
      "cell_type": "code",
      "execution_count": null,
      "metadata": {
        "id": "bxqfnUx8HGmQ"
      },
      "outputs": [],
      "source": [
        "import warnings\n",
        "warnings.filterwarnings(\"ignore\")\n",
        "from IPython.core.interactiveshell import InteractiveShell\n",
        "InteractiveShell.ast_node_interactivity = 'all'"
      ]
    },
    {
      "cell_type": "code",
      "source": [
        "from pyspark.storagelevel import StorageLevel\n",
        "from pyspark.sql.types import *\n",
        "import pyspark.sql.functions as F\n",
        "from pyspark.sql import SparkSession"
      ],
      "metadata": {
        "id": "WCRjK4OToUYM"
      },
      "execution_count": null,
      "outputs": []
    },
    {
      "cell_type": "code",
      "source": [
        "spark = (\n",
        "    SparkSession\n",
        "    .builder\n",
        "    .config(\"spark.driver.memory\", \"10g\")\n",
        "    .master(\"local[*]\")\n",
        "    .appName(\"6_0_partitioning\")\n",
        "    .getOrCreate()\n",
        ")\n",
        "sc = spark.sparkContext\n",
        "sc.setLogLevel(\"ERROR\")\n",
        "spark.conf.set(\"spark.sql.autoBroadcastJoinThreshold\", -1)"
      ],
      "metadata": {
        "id": "6LdnEH7WoftA"
      },
      "execution_count": null,
      "outputs": []
    },
    {
      "cell_type": "code",
      "source": [
        "orders_file  = \"/content/drive/MyDrive/data/bucketing/orders.csv\"\n",
        "\n",
        "df_orders = spark.read.csv(orders_file, header=True, inferSchema=True)"
      ],
      "metadata": {
        "id": "6NZmrBRion_K"
      },
      "execution_count": null,
      "outputs": []
    },
    {
      "cell_type": "code",
      "source": [
        "df_orders.show(5, False)\n",
        "df_orders.printSchema()"
      ],
      "metadata": {
        "colab": {
          "base_uri": "https://localhost:8080/"
        },
        "id": "kFv78QCfpdV1",
        "outputId": "15c31316-71ca-4347-c720-a3ac1e29fb8e"
      },
      "execution_count": null,
      "outputs": [
        {
          "output_type": "stream",
          "name": "stdout",
          "text": [
            "+--------+----------+-----------+--------+-------------------+------------+\n",
            "|order_id|product_id|customer_id|quantity|order_date         |total_amount|\n",
            "+--------+----------+-----------+--------+-------------------+------------+\n",
            "|1       |80        |10         |4       |2023-03-20 00:00:00|1003        |\n",
            "|2       |69        |30         |3       |2023-12-11 00:00:00|780         |\n",
            "|3       |61        |20         |4       |2023-04-26 00:00:00|1218        |\n",
            "|4       |62        |44         |3       |2023-08-26 00:00:00|2022        |\n",
            "|5       |78        |46         |4       |2023-08-05 00:00:00|1291        |\n",
            "+--------+----------+-----------+--------+-------------------+------------+\n",
            "only showing top 5 rows\n",
            "\n",
            "root\n",
            " |-- order_id: integer (nullable = true)\n",
            " |-- product_id: integer (nullable = true)\n",
            " |-- customer_id: integer (nullable = true)\n",
            " |-- quantity: integer (nullable = true)\n",
            " |-- order_date: timestamp (nullable = true)\n",
            " |-- total_amount: integer (nullable = true)\n",
            "\n"
          ]
        }
      ]
    },
    {
      "cell_type": "code",
      "source": [
        "products_file = \"/content/drive/MyDrive/data/bucketing/products.csv\"\n",
        "df_products = spark.read.csv(products_file, header=True, inferSchema=True)"
      ],
      "metadata": {
        "id": "Dr6oPQuYph1x"
      },
      "execution_count": null,
      "outputs": []
    },
    {
      "cell_type": "code",
      "source": [
        "df_products.show(5, False)\n",
        "df_products.printSchema()"
      ],
      "metadata": {
        "colab": {
          "base_uri": "https://localhost:8080/"
        },
        "id": "aNycCv0IpoVS",
        "outputId": "6c598bf8-532c-4350-9a88-11c06dbb1db2"
      },
      "execution_count": null,
      "outputs": [
        {
          "output_type": "stream",
          "name": "stdout",
          "text": [
            "+----------+------------+-----------+-------+-----+-----+\n",
            "|product_id|product_name|category   |brand  |price|stock|\n",
            "+----------+------------+-----------+-------+-----+-----+\n",
            "|1         |Product_1   |Electronics|Brand_4|26   |505  |\n",
            "|2         |Product_2   |Apparel    |Brand_4|489  |15   |\n",
            "|3         |Product_3   |Apparel    |Brand_4|102  |370  |\n",
            "|4         |Product_4   |Groceries  |Brand_1|47   |433  |\n",
            "|5         |Product_5   |Groceries  |Brand_3|244  |902  |\n",
            "+----------+------------+-----------+-------+-----+-----+\n",
            "only showing top 5 rows\n",
            "\n",
            "root\n",
            " |-- product_id: integer (nullable = true)\n",
            " |-- product_name: string (nullable = true)\n",
            " |-- category: string (nullable = true)\n",
            " |-- brand: string (nullable = true)\n",
            " |-- price: integer (nullable = true)\n",
            " |-- stock: integer (nullable = true)\n",
            "\n"
          ]
        }
      ]
    },
    {
      "cell_type": "code",
      "source": [
        "df_products.select(F.col(\"product_id\")).distinct().count()"
      ],
      "metadata": {
        "colab": {
          "base_uri": "https://localhost:8080/"
        },
        "id": "OXIcazhXpqI4",
        "outputId": "7a2f45cd-7502-4435-fe82-aa9d58673e9b"
      },
      "execution_count": null,
      "outputs": [
        {
          "output_type": "execute_result",
          "data": {
            "text/plain": [
              "100"
            ]
          },
          "metadata": {},
          "execution_count": 10
        }
      ]
    },
    {
      "cell_type": "code",
      "source": [
        "df_orders.select(\"order_id\").distinct().count()"
      ],
      "metadata": {
        "colab": {
          "base_uri": "https://localhost:8080/"
        },
        "id": "zfc8XWjUqDsx",
        "outputId": "4c4acf82-84a9-4118-8cc6-9bb79512b08c"
      },
      "execution_count": null,
      "outputs": [
        {
          "output_type": "execute_result",
          "data": {
            "text/plain": [
              "1000"
            ]
          },
          "metadata": {},
          "execution_count": 11
        }
      ]
    },
    {
      "cell_type": "markdown",
      "source": [
        "**Join WithOut Bucket**"
      ],
      "metadata": {
        "id": "Fgbx3CC2qHw_"
      }
    },
    {
      "cell_type": "code",
      "source": [
        "df_orders_product_details = (\n",
        "    df_orders.join(\n",
        "        df_products,\n",
        "        on=\"product_id\",\n",
        "        how=\"inner\"\n",
        "    )\n",
        ")"
      ],
      "metadata": {
        "id": "h5TIBg6jqOi7"
      },
      "execution_count": null,
      "outputs": []
    },
    {
      "cell_type": "code",
      "source": [
        "\n",
        "df_orders_product_details.explain()"
      ],
      "metadata": {
        "colab": {
          "base_uri": "https://localhost:8080/"
        },
        "id": "HJXcsxBfqRxh",
        "outputId": "61d32dd9-f8ca-4655-bc7b-45ea44840486"
      },
      "execution_count": null,
      "outputs": [
        {
          "output_type": "stream",
          "name": "stdout",
          "text": [
            "== Physical Plan ==\n",
            "AdaptiveSparkPlan isFinalPlan=false\n",
            "+- Project [product_id#65, order_id#64, customer_id#66, quantity#67, order_date#68, total_amount#69, product_name#126, category#127, brand#128, price#129, stock#130]\n",
            "   +- SortMergeJoin [product_id#65], [product_id#125], Inner\n",
            "      :- Sort [product_id#65 ASC NULLS FIRST], false, 0\n",
            "      :  +- Exchange hashpartitioning(product_id#65, 200), ENSURE_REQUIREMENTS, [plan_id=290]\n",
            "      :     +- Filter isnotnull(product_id#65)\n",
            "      :        +- FileScan csv [order_id#64,product_id#65,customer_id#66,quantity#67,order_date#68,total_amount#69] Batched: false, DataFilters: [isnotnull(product_id#65)], Format: CSV, Location: InMemoryFileIndex(1 paths)[file:/content/drive/MyDrive/data/bucketing/orders.csv], PartitionFilters: [], PushedFilters: [IsNotNull(product_id)], ReadSchema: struct<order_id:int,product_id:int,customer_id:int,quantity:int,order_date:timestamp,total_amount...\n",
            "      +- Sort [product_id#125 ASC NULLS FIRST], false, 0\n",
            "         +- Exchange hashpartitioning(product_id#125, 200), ENSURE_REQUIREMENTS, [plan_id=291]\n",
            "            +- Filter isnotnull(product_id#125)\n",
            "               +- FileScan csv [product_id#125,product_name#126,category#127,brand#128,price#129,stock#130] Batched: false, DataFilters: [isnotnull(product_id#125)], Format: CSV, Location: InMemoryFileIndex(1 paths)[file:/content/drive/MyDrive/data/bucketing/products.csv], PartitionFilters: [], PushedFilters: [IsNotNull(product_id)], ReadSchema: struct<product_id:int,product_name:string,category:string,brand:string,price:int,stock:int>\n",
            "\n",
            "\n"
          ]
        }
      ]
    },
    {
      "cell_type": "code",
      "source": [
        "df_orders_product_details.count()"
      ],
      "metadata": {
        "colab": {
          "base_uri": "https://localhost:8080/"
        },
        "id": "helG3Qa4qi9h",
        "outputId": "8fc8a309-0439-4f88-8673-5891a956463c"
      },
      "execution_count": null,
      "outputs": [
        {
          "output_type": "execute_result",
          "data": {
            "text/plain": [
              "1000"
            ]
          },
          "metadata": {},
          "execution_count": 14
        }
      ]
    },
    {
      "cell_type": "code",
      "source": [
        "(\n",
        "    df_products\n",
        "    .write.bucketBy(4, col=\"product_id\")\n",
        "    .mode(\"overwrite\")\n",
        "    .saveAsTable(\"products_bucketed\")\n",
        ")"
      ],
      "metadata": {
        "id": "2fXfMhRUqoSK"
      },
      "execution_count": null,
      "outputs": []
    },
    {
      "cell_type": "markdown",
      "source": [
        "![image.png](data:image/png;base64,iVBORw0KGgoAAAANSUhEUgAAAY4AAAFpCAIAAAAEJ1gRAAAgAElEQVR4Ae2da1QUV6Lv/Tjr3g/3fDpr1vkwhHHOkXNmZc5x1iSBrKWTEKAbQR4q+AB8IPgWtEOikRhijMEQHxENiZoYo4AkKsYkxig6IBBRxgRtIyIeJKA0Ng0N8upuCmpfZetOdXf1q/pB0f5ruZKqXftVv131Y+/du7smEGy+JdDY2OjbAlGaBwig1TwA0b0sJriXHKldJoCb3mVkMkiAVhvzRoCqfN0EuOl9TdwT5aHVPEHRrTygKrfwSUiMm14CtDFPglYb8yaAqnzdBLjpfU3cE+Wh1TxB0a08oCoH+Kqqq9eoVAODgw7iOX16fN30uk5d+tKlNxsanL4+/4w4vlrN+TbYkpu7JTeXEHKzoWFeSrKcG1qKqvr7+/N3746OjQlTRMxNmne2rGxkZMQhHZ7nr1y5sjg9LVypiIyO2vBmtkajcZhqzCP4gaq0Wu3b72yKjI4KVyoWpqZerLnI87yTYGWiqtgZ8WGKCIt/hcVFTl6F+9F8rKrC4iJ2sZHRUes2vNHS0uL+VVjn4M+qam9vX5yelpSSfPTYsX9UlH+Yvys6NiZv2zaO46xBCEMqq6riZ808+e03A4ODXV1d23fuTE1P6+joEMaR4b48VdXY2PjJ3r19fX0OiXV0dKSmp23Jze3Q6YxG4/c/nJ6ZmFBZVeUwIY3gVVVpNJpP9u51/i+WrlOXlJJcVV3tZOWF0dy8EDdV1dra6vxlEkIKi4toX57n+Q6dbvOWdxenp3Xp9cIr8si+36qK5/n83bsXpC5qb29npMorKmJnxF+urWUh1jsDg4NrVKr9n37K/p53dXUtWpx65uwZQsiDBw8+2L4tMjoqMjpq247t9AnUderSlqTv//TThDmzw5WKzLVrGm/ffufdzRGRypj4uNKvT9CstuTm5m3blrl2TbhSkTBndvWP1ceOH4+Jj4uIVG7e8i57mH+u+5l26GYkzBKm/TB/V86mtyMilQlzZl+suUhr3tHRQTNctDj1w/xdbADY2NjIMjl2/LgzfUlrFG7e9DTDqurqpJRkXafOOn+LkMLiouWrVvY86KHhPM/v3PXhxpwcjuNGRkZOfvsNxbt81crb/3ubxuE47pN9eyOjo2Li4/J3716YmkrHBX19fdt2bKfNlL9796Dbg2JXBx3WquJ5/ttT39FLWJWxmnY9CouL2IP9w5kziXNm5+/Zwzop0vpibrZaVXV1dGxMUXGx0WS0aCDRQ6Yqera5uTkpJfnqtWs3GxrSly5l7c5EU1hclL3xzfzdu2mrsTtcmLmtR8A/B4Dd3d2p6WlfnzwpRGA0GV9bt+7hMy8MtNhnrC3CCSEPu2M5m95+I3tDl17fpdevzXo1Z9PbHMfR+3Jr3vt9fX1tGs3K1ati4mLPlpVxHHe2rGxu0rzm5mZCyJbc3AWpi+403xkYHPxk317FtMi8bR8MDg7+2tKyIHURreqvLS1J81POlpUNDw/X1dXNnjf3+i/XadoZCbMu1lw0moyfHzyYmp7W3d1tNBnfyN6wecu7PQ962jSazLVrqKp6HvQsWbb0cGHh8PDw1WvXEufMrrl0yfpyHIa4edPT/J1UldFkXLfhjb3794nW6oczZ+YmzVNfv24ymb44fGhuctLde3cJISe+/nr+wgWNjY0Dg4P7P/00buaMmw0NtJk2b3m3v79fq9WuXL1K2jMvrIn7qvrhzJn5Cxfc/t/bRpNx3/79rKWWr1pZWFzUpdenLV1ypKSEEDK2vaqq6upwpUIxLXLR4lT2J0GIwmJfgqoio6NOfvuN0WT84cyZ2fPm0qeDZWvnEfBPVVn/WaMsmN0ZGosdOzflzYaGlIULmpqaaJKmpqaUhQtuNjRY3FvCxhNWY0tuLntmLEphtTKajF16Pe0E0f4dVdiW3NwvDh+i5d5saEian9LY2GhRHzYAbGtrm79wwZWffqJ6/ennny3uBotLtnXoS1XRi2V8hFWip44dP04D6d+bwuIii3DWChZYzpw9o8rKMhgMwjxd3bdoL4fJhe1OCLGoaltbW2p6GsV7ubY2ZeGC3Pe3Zq5dwzrp7nw+4Gar0T8tN+rr33xrozJq2oe7dvX399u5Xna3swHgytWr+vr67PSqNm95l44zHlGan8KGCLQUO4+AO6pSX78+I2EW67EKd9ZmvfrgwQM71+jqKdem1enN8fHeT9g4jhDS09OzZPky0eeB1cbOTVlVXb185Yre3l4amXbcqqqr2UNCw1nj0b+QbM7CGVXxPH+x5uLC1NSo6dPnJs2LjI6itRVNa9FhYariOO7jvZ9ETZ+ete71f5T/Q/LwR/JN39jYmLdtG/2X9fpr0+NiN295lx7amrei7SXaNLpO3aK0xVevXWNt9GH+ri25uRY6YK1QVV0tvBHDFBFsXMxycGZHo9Hs2p1Pq5298c3o2JjsjW/Sw1278+1P6FjXLSklWVir2BnxdKzKcdz7H+Q9HKuyeQl2Ic5U0jqO5FajWbGbiuf5c+fPx8+aOS8l+cqVK8LnSFiocFo9TBGx7o31nZ2d9HM6WwNAahyLp4PlaecRcEdVhJAb9fXWtlJlZbG5F1YHN3dcUxUdHcTNnFFZVUUpG03G3R/tYWMHW7WxMwD0gaqu/3J99ry5dXV1PM8Ln16XVEUv7b5W+/XJk0uWLU2YM1va7SstFSFEgqrsDAAlqEr4F8VWQzsM96yqLGzLSqfD1cjoKPYBggxVdbm21tZ0J/vDTGeH38jeQCe57PSq7KvKziPgpqqsbeUNTxFCXFYVx3Hbd+xQTItcmJr6Zs5bMxJmKaOmRcfGHDt+3NafCNZX/+zAAXYzsWl1i5GFNwaArGf0qCYDAxlrMu30qizqU3HhAu0+dOh0dFaLEMKGS+xynN+RrCphEeyvtDBQdL+wuIiOHehZNq3+oLd3jUrlcADY0dGRtiT9ZkPD9V+uJ6Uks3G6aFmuBtrpa4tmZdGr6uvrW7l6FbsEYZJz58+npqd9fvBg2tIl9IMzOahKwgCQEHL33t2k+SkVFy7QXlXaknT2uTmb4igsLrKvKjuPgPuqEtrKS56SoipCCM/zv9y48WH+rrxt2746erSnp+fY8eOxM+Lt26qyqmpmYsL3P5w2Go0dOt32nTvpbWQxrf5G9gY2rS6cXGB/Zyy6uKI9I3rXsob86eefZ81OrKyq6ujo2P/pp+FKhR1V/Tat3tNz995dNq3edOfOvJTkk99+YzKZmpqa5i9aWHbunPDxcHLfx6qiixW279zZ1dU1MDhIFyvQYZFwWr245EjS/BSLafXe3l42rU6xrM16tUuvHxwcPHDwc+EfHiev3SKam6qiffyZCQlXr10bHh6uqanZ8OabDx48oLPpJ77+mvag6efOtBd5seaitNW8braam9Pq7DPNNo1mXkryV0ePGgyG6h9/nJEwi4rGoarsPAIeURW1Vc6mtz0+7mP3jMu9KpZSuMPzvENbWSwBffudTVqtlmZia7GCp1Q1MjJCVzBERkfRxQf0QzFbmrO1WOHnup8XLU4NU0TExMcdKSl5KFkhBCf33bzpaSnO96oIIcIloIvT09gUiauLFVgzRUQqcza9TWdPnLxq0Wjuq4pdQpgiYtHi1J/rfuZ5fv+nn7L1GZdra2fNTqSfYObv3h0RqXz/gzzRytgPdLPV3FysQIcg9O/rhcrKmPg4unwnY02mk6qy8wh4SlX2Abp/1jOqol0th7Zyv7p+kIObNz0l4PwSUDkTc3UJ6Bhei5ut5uoS0DG8UtkW7TFVUVuVnig9dPiwtO6GbBl5tmJu3vSerQxyc5IAWs1JUN6L5klVea+W/pQzbvrx2JpotTFvNajK102Am97XxD1RHlrNExTdygOqcgufhMS46SVAG/MkaLUxbwKoytdNgJve18Q9UR5azRMU3coDqnILn4TEuOklQBvzJGi1MW8CqMrXTYCb3tfEPVEeWs0TFN3KA6pyCx8SgwAI+IYAVOUbzigFBEDALQJQlVv4kBgEQMA3BKAq33BGKSAAAm4RgKrcwofEIAACviEwoREbCIAACMieAHpVvvmTgFJAwAMEGhsbW57WDarywA2ELEDANwQaGxvb29vvP5UbVOWbewylgIAHCDQ2NnZ1dXV3d/c8fRtU5YEbCFmAgG8INDY29vf3DwwMDI5uhqdpg6p8c4+hFBDwAIHGxkaj0Tg0NMS5sfWNzw2q8sANhCxAwDcEGhsbh4aGhoeHR0Y3XtJGe2Tj7r9QlW/uMZQCAh4g0NjYyHHcyMgIdZS0HMfpqBGqktbcSAUCY0BAqCrJxUNVktEhIQiAgFMEPPJbNFCVU6wRCQRAQDIBqEoyOiQEARDwHQGoynesURIIgIBkAlCVZHRICAIg4DsCUJXvWKMkEAAByQSgKsnokBAEQMB3BKAq37FGSSAAApIJuKSqftPgu5UfD41wFsVhsYIFEByCgBwJXKy5GD9rZpgiwqV/8bNmXqy5OObX47yqBocM4YdSpx9Zbhwesqg2VGUBBIcgIDsC3d3dqelpLkmKRU5NT+vu7pZ2SY2NjZu3vNvZ2WkreWdn5+Yt7zo0kcMINP/BIcO0oiWiniKEQFW2WgHhICAXArpOXVJKclJKsq5TJ1onGoHpSbhjJ5VoVizQaDSu2/BGmCIic+0aUVt1dnZmrl0TpohYt+ENo9HIElrvOKMq+54SVdWVK1eCgoICRrdTp05JcxnLJCgo6MqVKxIyOTFvQtB7N4UJb74XNOHxNhvfAbS+HxDitwTGRFWEECYja1vZOWXdDKKqSildd6qxgkY2cMaooqWxJSuNnMk6+eM4QhmM7l+5ckWhULS2tlqdMWRmZoqqh4pp1qxZnZ2dwlStra0KhcIzqvpla9CEoK2/PM7eKVXR4b1Mhuu2GgDhIOCQwFipypatXPIUIURUVeXNl/9t+9SzTT8aOVNsyUpb4z4GR2gWui+qqtbW1uDg4Nzc3BdeeMFCPZ2dnbNmzcrMzPSuqo7NnvDnrayX5VhVwuE9Ha7b6SSzDrPk3jIDih0Q8DiBMVSVta1c9ZQtVRFCzt+p+cPOlxWH0+JLVtnpT1GeTqoqOzv7yuhmrar8/PxZs2YdPXrUE6q6ufXPTwZ5E8wGgI9GfzJXVV1d3Snz7ezZs93d3RqN5p133ikrKyOE3L59mwZ6/G5Ghn5MwKGqRK9dWirRrJielq9auXzVSjsTWKLJRXtVNGZ58+UZX662/rzPOh8nVcU6XBaqunLlCg05deqU+6o6MW/ChHknaFlsrupRoPkW9N5Nx70qQoiPB4AqlYrO8LH/BgUFqdXq/fv3BwQEJCYm9vf3FxQU0EDrlkAICNgiIE060lLZqgOzlauestOrslWWaLibqsrMzMzPzzcYDB5Q1aPZqNmPRWUwMFXRGrrcqxK9Wq8GqlSq559/vr6+Xvtk0+l0HMd1dHTk5eVVV1cTQqAqrzaBv2YuTTrSUtliOK5VJdSTcJ/pz7VpdT9QVUhIiFartWhsjuN0Ol1/f7+oqnQ6XdnoptOZfQ7d29tbWVl56tSpO3fu8DxvkScOnyoC0qQjLZUoWOYpjw8ARYsTDWRaYTui0+r0LBvu0cPMzEw21mE7wvUNY6wq3w8ARVWlVquDgoIKCgosVMVxXG5uLgMXEBCQm5vLcY++T3D69OmJEyeyU/Pnz+/t7RVtPwQ+DQSkSUdaKmuezFN0yYLFoXV86xA7c1XWkW2FMEOxHedVxZJ4ZgBoODF7woTZxx7lSpdQCddVuTwA9P0ngCqV6tlnny0uLj71ZKurqyOE2FJVYWHhM888k52drR/dsrOzn3nmmdLS0p6enunTp0+ZMuX27dtGo3Hv3r0zZ85Uq9W2mhDhfk9AmnSkpbKAKSom0UCLhMJDX6oqPz+f/Y0PCAiwXl3lgQGgwWA4NvvxBPq8EzffCxp/qhIyCggIUKlUtlTV29sbO7qx7hI11MKFC7u6uhITE0NCQq5fv46hn/COf2r3pUlHWiohZDtKsnNKmAPdF1UVz/N3mu9syc398uhX1kmsQ4Q9I7pvp1dlHdl+iGsDQPt5mZ+V6SeAFtPqDx48sKWq27dv//d//7eF2gICAsLCwrq6us6fP0+/MfCf//mfK1euFG1p67ZEiL8SkCYdaakYQ29/sabnQc+RkpKjx48VFhexQu3smBvg0ZH/qMrOZXvjlEqlcn6uqqWl5W9/+9vy5cuffFr4+P+dnZ3Dw8OEkIGBgbKyMpVKNWnSpMDAwLNnz3qjzshzXBAQzmaw5cpO7sj868pV1dVUVRzH7dqd/9q6da++ltXe3m7dLqKqksN3AK0rJgxxqldlfbVeDXFJVXQAGBoayj744ziuoqKir6+P5/m60Y3W9urVq5MmTXr99de9WnlkLnMC/vojMExVLS0t73+QZzKZ2tvbm5ubrZtD+PyPo32nVCXzTwC///77wMDAyMjIsrKy2tratLS0Z5555uOPP75z585zzz335z//+YsvvmhoaHjnnXcCAgLoB4jW7YcQEJA/ATszGExVPM9fqKzMVK3dtmO76A85jCM9CavqWFXCPrNvvgPoUq+KEMLz/PHjxydNmkRnrAIDA3fv3k0XK1y6dGnq1KlsJisjI4PNvsv/vkQNQcCCgDOq0mg0FyorCSEVFy6Izl4Jn/9xtC9HVVk0j5OHdIGoVqu1+MWf4eHhzs5OrVZL1446mRuigYAMCTijqoHBwdz3t762bl3GmkzR+ONIT8KqOlaV778DKMNbBFUCATkQEFWPqxUTPv/jaN8pVbnKAvFBAAS8QQCq8gZV5AkCIOBhAlCVh4EiOxAAAW8QgKq8QRV5ggAIeJgAVOVhoMgOBEDAGwSgKm9QRZ4gAAIeJgBVeRgosgMBEPAGAajKG1SRJwiAgIcJeERVHq6Tr7LDuipfkUY5IOA2AajKbYTIAARAwPsEoCrvM0YJIAACbhOAqtxGiAxAAAS8TwCq8j5jlAACIOA2AajKbYTIAARAwPsEoCrvM0YJIAACbhOAqtxGiAxAAAS8T8BnqtJoNFevXXP4r6mpyfsX/bgErKvyGWoUBALuEvCNqh69a2tapJMv8tm7f5+7V+VceqjKOU7yi9XX1ye/SqFG3iXgG1VtzMlRRk1TZWU5/Jc4d86s2YneveYnuY9LVdl5P1K4UlFUXOz371Lu7e1NTU8r+OTjJ+04xv8fGRnxe+ZjjHi0eN+oamve+5mqtc5c74e7dkXFTHcmpvtxxp+qhG/QEe2jPg22qv3nPyMilWGKiI/3fuL+TeBmDo9eZa5a+zT8hXATlPvJfaOqoaEhiz774OCg+5UXzUGr1YaEhCQmJgrf0kID6Yum2Nvwxp+q7LyVm54KU0T40lY8z99pvpP7/taZCQlUnYlzZm/bsf3XlhZCiJ3airac84GXa2uVUdPCFBEFn3x8//79uUnzmLi/OHzI+Xzcj3nu/Lno2Bgh8/7+/m+/+27l6lVxM2fQWkXHxqxcvepIScl9rdb9Ep/aHHyjKgu8w8PDy1as+OHMGYtw9w/LyspCQkLeeustoar6+/sTExOpodRqdVBQUFlZGSHEP1XlM1sNjr7IKFypYJpgOxGRyg/zd7XevZuUkpyUkqzr1LnftBY5JMyZTYv7ZN/e+/fvJz45DFNE+NhW5RUVkdFRzFZGk/H9D/IYCuFORKQyZ9PbWgjLoi2dOxwTVbVpNNOmR4crFVd++sm5ajoVS6vVqlSq/v7+goICoaqov9gdohrd/FlVPrBVX1+fKisrTBERHRtz4ODnHTodP7ppNJpPD3wWHRsTpohYlLY4dka8l1QlVEDBJx+3tbUxeQlPWewvWpxKX2np1A3ldCRrW/3a0jLwZOAwMDiovn59S25uZHRUmCIidkZ8ZVUVprecpvs44pioihBSU1OjjJoWN3NGe3s7IUSv1y9OT2P3Ffu4MDI6qq6uztWLslBVQUGBSqWimRQUFAQEBCQmJnZ0dPhtr4pyZH/nXcXnMD7Hcdt37AhTRCxIXXT33l3r+Hfv3V2QuohWwweqClNEfHrgs3v37s2ancjuobQl6fRDnPkLF7DAMEVE2pJ06wq7E8Lz/Lnz56mGGPPh4eFDhw9HRCojIpWrMlZfU18jhGi12jff2hiuVERGR536/nvYyiXsPlDVW2/nCG8Vi/0ly5YODQ0RQvr6+tKWLhGejYyO+unnn126HBpZVFVlZWVUUo8sqVQ2Nzf7uarCFBFe0sT1X65Pj4udkTDrRn29rea5UV8/I2GW9+ogvFHo/qcHPmtpaWGzZhqNhtato6ODTmyxJLbqLC28sqoqMjoqMjpqw5vZFiPBD/N3JcyZTd1UXlFBCBkZGfnq6FEan4ZIK/QpTDXmqspYk2kymSj5Lr0+KSU5TBEREalURk2T5ilCiLWqqKToRHtZWZkf9qos7l3vTWkTQj7M3xWmiPjswAHRQpkR6I6XdGlRCj389MBnv7a0xM2ccejw4bxt21j1Pj94UBifhbu/09HRsWhxKutMVVy4YDHLTghRX78+I2HW3OSktlF78jxfVFwcrlQsWpza0dHhfh2ekhx8oCpRkk1NTVHTpy9MTe3t7RVGuHfv3syEhMQ5s2v/+U9huEv7FqqymKti40Fne1V2ljL5YFZIeOXOC8j5mML8ndkfGBjIWJMZEx9Xf9OyS0ULFUrBl70qZqvmX3/lOO7rkyd/rnvcJzcajcJ5d2cu08k4nx04EKaIyNn0NsdxNMnJb7+xviuOHT8epog4c/bxB0lGk/GN7A2iuney3Kcw2pio6v79+zMTE2YmJtCJKgvszc3N13+5bhHo0qGFquhKBTpdRfdd+ATQ4VKmMEVEZHSUbzrzogLieb74SHHxEbPFn6IxXYJoK7L3crZVomi4hRCFh4cOH6ZDrY05OWw+6PQPP7A4ohlKCOzS6xekLlJMi7xce5klLywuogWxrhYhpKq6OkwRUVhcxKJdrr2smBa5IHVRl17PArFjh8CYqIrjuNfWrfN40XRRAl08Rf/LPgcUrquinnL2E0D7TybrzNufuLHTAC6dsq4Mq4DwwfDqmibrOrh0CZ6KzLwjunOkpIQQcvKbk9+f/p6WyPP8kmVLaWRP1YEQQntVb2RvMJqMNNszZ8+wKrFGoSsY0Ktyh7zHfeFOZXyc1qkBoMMnk+O4vG3b6Mdhor1ED16VRWWYp+izwR4Mr6rKzgDQg1fqMCumA+FOuFKxd/8+GlJUXNzW1pa+dKnR+Fgi19TX6CmHmTsfwWKuihDSptHMTU5itWKNMjy6EUJYq2GuynnOhBDfqOpIScmGN990pmKlJ0pVWVms2+5MEslxPKMq+uElXWSkysqyWJUvuXKiCYWqGhkZOVxYaLECkz0YwpiiWbkTaGta3SJP2uPYuetDbzQnc4FwZ0/BR4SQ0z/8QLEcKSlpa2t7ff069tVT+lGgRT3dPGSfAH519OjIyAghhC6zYhVjjUKHpUXFxRGRysjoqMqqKjeLfqqS+0ZVH2zfFhkd9cXhQw7/rVy9SjEtkra4txvCY6oihLS3t9OVRHnbtrEZVo9fgFBA9I9zVMz0r44epYvCvzp6NCpm+uHCwpGREWFMj1fD+cUK0+Ni3Zx3tFV5JgLhDuvVHi8tpeF0JMgyqaurezgLzg49ssPz/Knvv6fLFN58ayNdanxNfW1Vxmr6SbYyahqzFR0JYl2VBPK+UdX5f/xDeEfZ339t3ToJFyIhiSdVRQj55cYN7y3OppdnISCe57u7u4WB3d3dtAsjDJSAxn4Sh0tAm5ubU0YXXm7fscNL4ha9hz498Bmt+e6P9lyovEBXEh8vLWWXk7Npk8dVRcd01T9Wx8+aST9j2ZKbq75+na1W//bUd4ppkcxWHMfhy4CsRZzf8Y2qCCFXr1374vChf1SU2/91PfX162yZlfNXIS2mRFW1tLS8vn4dXYj8+vp1LaNfzfXq9BC7PFEBOR/I8nF/x5kv1ry+fp33hsOiqpo2Pfrh9x7u3rtLP2urrKqiI0FqK7VaTVO5f/miOTzsT+Vsepv+6oNo9ZitRJMj0D4Bn6nKfjXG5KwUVd26dYsuwmb34sPVfbdu3XraVEUIcfh1Ze/9egYhRPg9LNYWj754uDg1aX7KqozVdH4qdkY8PXv02LFHa/YSE+bMm+fVu+2+VnukpGTl6lX0i5Bhioi4mTNWrl6V+/5W4Vp2r9bBLzOHqhw0q7DPwnHcO+9uDlNEbN7ybv/otnnLu2GKiHfe3cxxnDCmg0ylnna+COdjSq3Lo3T2fwTGnZwdpr1QWTl/0UKhpBzuHzt+vLm5ueLCBYeZeymCxbeavVSKv2YLVTloWeEz39XVlbJwQeLcOW1tbTRZW1tb4tw5KQsXdHV1CWM6yFTqaWfWowqf2NT0tO7ubqml+U+66h+rreetxuTyYCvJ2KEqB+iEAhpzVRFC7H/LR+ip+FkzL9ZcdHB5T83pS5cv05UK33z77dheNP2e4BqVSo916q60BFTlgJZQVWM+AHRQV5y2S6D2n/+cNj162YoVXvpQ0m7hZidv3brV2dlpFoQDRwSgKgeEhKoihFhPq4cpIpavXNHR0WER00G+OD0WBG7U13t1sn8srulpKROqctDS1gISLlbIWJNJf7Zm+coV9Tfrvff7vA5qidMg4O8EoCoHLWytKosEHR0dy1euCFNEzF+4wNtLQC2KxiEIPD0EoCoHbe1QVYQQZivv/TyTg1riNAj4OwGoykELO6MqQsij98GtXQNVOaCJ0yAglQBU5YCcw6VMD9dDV//4I7MVljI5AIrTICCJAFTlGJvDpUzsdUmdnZ30SzaOM0UMEAABVwhAVa7QQlwQAIExIgBVjRF4FAsCIOAKAajKFVpejtuIDQSeDgISniSoSgI0JAEBEPA1AU+pih+Hm1O/V+XrBkF5IAACYgTcVBUV1MiTjb6VY7z8F6oSuyMQBgKyJOCOqnieH9dVOf0AAB/3SURBVBkZGR4e5jhuaGjINLoZx88GVcnylkSlQECMgGRVMU+ZTKbBwcH+/v7e3t4Ho1vPONmgKrE7AmEgIEsC7qhqeHjYZDINDAz09PTodLr79+9rRreHb4ocFxtUJctbEpUCATECklU1MjLCcdzg4GBPT49+jDaDextUJXZHIAwEZElAmqro6G9oaKi/v1+n042RqfTumcoAVcnylkSlQECMgDuqMplMvb299+/fh6rE0I5FmOjXFfH6ubFoCpTpYQKSVUUnqh48eKDRaKAqD7eKtOzs/AgEbCUNKVLJh4A7qjIajVCVfJqS0J/WEr60xsl9vNtGRq2Iqtgg4Kaqenp62tra0KuyQde3wZJVFaaIwM9s+batUJrLBKAql5HJNoGTP1gq2/qjYiBghwBUZQfOODsFVY2zBkN1XSEAVblCS95xhariOG5jTo6Tc1U0WrhSUVlVJe9LRO2eXgJQlf+0vVBVbW1tiXPnuKSqxLlz2tra/AcHrsS/CIytqppHN8mz8lgCanYzClVVWVUVrlS4pKqNOTlj/oZ0s+vBAQgICLikqn7T4LuVHw+NcDzPDw8PG41GaZ8AlpSUZGZmKhSK0NFNoVBkZmaWlJS46iyoStCS5PFihaSU5A6dLvf9rS55KkwR8fXJk2bZ4QAE5ETAeVUNDhnCD6VOP7LcODwkWVVnz55NSkqihrL+b1JS0tmzZ50XFlRldiuxXtXt/72dmp7mkqpiZ8TfbGgwyw4HICAnAk6qanDIMK1oCfUUIUSaqkpKSqz1ZB3ifPcKqjK7lZiqzp0/HxUz3SVVrVGpBgYHzbIjhOO448eP37lzhxAyMDBQVFTU0dFhEQeHIOAbAs6oysJT0lR19uxZayvZCnGyb2VfVaVlxlfSTJ22v9Tsb19XZqra8t57LnkqTBGxd/8+6xtOr9dHRkYeOHCAENLU1PT8889XVFRYR0MICPiAgKiqUkrXnWp8fE8aOGNU0dLYkpVGzsTqI6FXZTHuy87OXrFihS1VJSUlOTMMtKOqi3XGP0UNXawz2onjn6qKnRE/LyXZJVVFxUy/eu0aa13sgIAMCYiqqrz58r9tn3q26UcjZ4otWcnGfaz+rqrKeuiXnZ2t1+u/+uqrhIQEUWE5Mwy0paFOveGVNFPufnueMhj87kdg7Hxd2b658K0admdjR7YERFVFCDl/p+YPO19WHE6LL1kl7E/RC3FVVZmZmRY+oqrS6/UdHR179uyxOBsaGpqZmemwY2VLVQ6HfjShv/WqCCGiPwJj31P4rrJsH05UTEjAlqoIIeXNl2d8udo4PCSMT/ddVRVbl8CUxFRFfXTjxo2cnBx2NjQ0VKFQSFbVgmzHXSo/7FVZtxNCQMBvCNhRlZ1rdElVzc3NQgfRfQtVUSuVl5cLJ7Cam5vt20q0V0VHf6VlDkZ/LquK5/niI8XFR4p5nheisRUujIN9EAABNwn4n6qa7xn+PXrIw6rieb6ouDhcqYiKmV5TUyOEfk19LSYuFr9dJ2SCfRDwOAEfqEqv1/tyAOj5XhXzVGR0VLnYp/UVFy5Ex8bAVh6/O5EhCDACvlGVj6fVPTlX5dBTFCVsxW4p7ICANwj4RlU+XqxQWmb89+ih5nuic1m/BTr+BFDoqXPnz1vMUlm0B2xlAQSHIOBBAqKq4jhu7/59a1SqjDWZdVevWhfn0rQ6nRr35RJQz6yrcslTlBFsZX2vIAQEPEJAVFU3Gxr27t/H83xTU9MH27dZ/zSIBFX5+Is1HlitPjIycriwMFypiI6NqbhwwSFunufPnT8fGR0VrlQcLiwcGRlxmAQRQAAEnCQgqiqW9mZDw67d+UNDQ7t257+2bt2rr2W1t7dL+w6gXq+3HgZaL2IIDQ11Zp067an9NpYT23O4ENSFAaBDWwk9VVRsuaCBAcUOCICANAJ2VGU0Gd/bmnvr1q2Wlpb3P8gzmUzt7e3Nzc2SVaXX68ffj8CwYaB9W5VXVND+FDwl7UZEKhCwT8CWqnie//LoV3Tcw/P8hcrKTNXabTu2d3Z2uqMq2hsaZz+t59BW8JT9mwxnQcB9ArZUVXHhwpdHv6IfeWk0mguVlYSQigsXCouL3FcVW4PePLqxQ1d3xIZ9LoQ5HgAyvsxWMXGx19RmP0JQU1MTFTMdi6oYK+yAgDcIiKrq15aWxelp723Nzdu27ZO9ezs6OnLf3/raunUZazJpfAnT6q5qyJn4LmhJLKoLqqJ6xhdrvHELIk8QcIaAqKocJnwaVeUQCiKAAAh4jwBU5T22yBkEQMBjBKAqj6FERiAAAt4jAFV5j+0Y5Cz603qY8h+DlkCRniYAVXma6NjlZ+cHi2GrsWsWlOwZAlCVZzjKIRf6xhr7P08setbJ3ywuKytLTEzs7++3uNiBgYHq6uqBgQGLcByCgAcJQFUehOmBrLq6us6cPWv/JxxsFSNZVWGKCGfeBGFLVU1NTS+++KLFLw7aqiTCQUAaAahKGjdvpXqkm/kp0r6d446qklKSdZ06+1dlS1X2U+EsCHiEAFTlEYwey4TqRtrUkjdUpdFoEhISAgICQkNDc3Jy6ABQq9UqlcqtW7dOmjSpoKBArVYHBwer1eqcnJxXX32Vdgl7enpiYmK++eYbQohGo0lNTQ0ICJg0adK+ffusf6nDY/iQkf8SgKrk1bZMNxJsxdKKTkjZDxTtVRkMhtTU1IyMDL1e39rampCQwFQVEhISHx9fX1/f39/PVFVVVfXSSy/RH9+ora19+eWXW1tb9Xp9bGzsjh07DAZDfX393//+99OnT8sLOmozHghAVfJqJaFuXLWVMK19MVmfFVWVWq2eMmVKQ0MDZcQGgFqtVqFQXH3yo4tMVV1dXZGRkfRl8QUFBatWreI47uzZs2FhYTrd49FlXl7e66+/Li/oqM14IABVyauVhLpx9Sf6hGmtZWQ/RFRVZWVlISEhWq2WMhKqSqlUPhzx0XCmqoeHOaObwWBYsGABHf0VFBQEmG8qlUpe0FGb8UAAqpJXKzHduNqlIoSwtPatJHrWU6qqqqqKj4+/cuVKdHR0a2srIaSgoGDZsmWYn5LXfTYOawNVyavRqG4keMobqrIYAJ4+fZrNVdnqVXV1dcXExGRlZdHRHyHkm2++EQ4A5YUbtRk/BKAqebXVI1XJZrGCcFq9ublZOK1uS1UPaebk5AQGBtLRHyGks7MzPDz8tddeGxgY0Ov1WVlZX3/9tbygozbjgQBUJa9WGqsloKIDQLrOwNZiBdG5KkJIVVXVlClT6OiPwr179y5drBAYGLhp0yasa5fXPTdOagNVjZOGcqKaHp+rcqJMRAEBHxGAqnwE2gfF2Pm6suhUujDQmS/W+OASUAQI2CIAVdkiMy7DRX8ERqgk0X0nv648Lomg0v5CAKryl5bEdYCAXxOAqvy6eXFxIOAvBKAqf2lJXAcI+DUBqMqvmxcXBwL+QgCq8peWxHWAgF8TgKr8unlxcSDgLwSgKn9pSVwHCPg1AajKr5sXFwcC/kIAqvKXlsR1gIBfE4Cq/Lp5cXEg4C8EoCp/aUlcBwj4NQGoyq+bFxcHAv5CAKryl5bEdYCAXxOAqhw0r9FkPHr8WNL8lHClIlypWJia+v0Pp40mo4NkOA0CIOBRAlCVPZzt7e2L09Osfzhl+coVHR0d9lLiHAiAgEcJQFU2cfb19amyssIUEUuWLVWr1SOjW2Nj45JlS8MUEaqsrL6+PpuJcQIEQMCjBKAqmziPHT8epojIXLvGQkl6vX75yhXWXS2LEFu/Vm6zPE+cEP1pPWnvv/FEdZAHCHiMAFQljtJgMKiyspRR02ouXSKEUAWwX8usuXRJGTXNwk0Wh75XlZ0fLIatxJsZoeOHAFQl3lb0lQpzk5M6OjqECnDmN8hpWt+rSvJrIJiCxVl4P1Sr1YaEhJSVlUkuir35WXIOSChzAlCVeAONlarG6uVazihYnJQnQqEqT1D08zygKvEGdnUASPtQwn6NtF7Voxxk88pScTReCPWNqlQqVUFBgReqjyx9QQCqsknZpWl1T6oqJVna1JJQlBYTZw4PbYn1xo0b4eHhAQEBzz777MGDB4eHhwkhAwMDmzZtmjhxYkBAwOzZszUaDSFErVaHh4dv3bp10qRJAQEBGRkZ9fX19HWnkydPLi8vJ4RotVqlUrlz587JkycHBAQkJyfTNR8WqqqsrJw6dWpAQEBoaOil0blC0UbSaDTWr1MlhNy5c4eGT5w4MS8vj+M4tVodFBQUMLrRd9mLXoJoKQiUCQGoymZDOLlYgQpCqCpbj73NkgQnmG4k2IqldSgm6wiiddbr9ZGRkR999BHHcbW1tX/9618rKioIIZs3b54zZ05nZ+fAwMDatWtXrVpFdfBf//Vfu3fvHhwcvH79+osvvjh58uTa2lqTybRnz57w8PCuri6qpIyMDL1e39rampCQQNMKVXX58uXg4OALFy5wHFdUVBQWFkZVKID0aFf4knqaFXUQrfOePXs4jrt9+/bf//539kp6Ya9K9BIsisChrAhAVfaaw5kloNaCEH3s7RUjOCfMzVVbCdNay8h+iGidW1papk6devHiRUIIx3E1NTW3b9/meV6v1/f399Nal5WVhYWFdXV1qdVqpVKp1WppuGp0o/tqtTo4OFitVmu1WoVCcfXqVRpeUVEREhLS0tLCVMXz/Kuvvrpx40ae5wkhPT09MTExtEdGk7D/qtXqKVOmNDQ00BA2rc5xXGdnJ8dxNFylUuXk5LB9OgC0dQksc+zIkABU5aBRHH6xxloQoo+9g2KenBbmFq5UHC4sHBkZeXLSwf+Fae2LyfqsaJ05jsvNzf3jH/+YnJz83XffDQwM0Bp0d3e/8cYbEydO/MvoFhISotVqnVSVUqlUq9U0n5aWlldeeYUqjH4C2N/fn5iYSEdq7L+inwyWlZXRcmlWTFWEkF9++SUuLi4wMPC5556bOHHiQ1vROMJelegl0Gj4rzwJQFXyahemG1e7VIQQltbaRA5DRFVF0Wg0mqKiosjIyMmTJ9fX1z/stqxatWrt2rXUXEwZHlTViRMnHLYKK5fGZKpqbW2dMmVKaWkpnVYTdu6YqmxdgsNCEWEMCUBVYwhfpGiqGwme8oaq2tvby8vLDQYDnRtKSUkpKCigHR/W0zl9+rTkXpX1AJBKhA0ARQA9CbIYAJ4+fZrOVQmN+XCgl5GRYd2rsnUJT/LG/+VIAKqSV6s8UpVsFivcunUrODi4uLjYZDI1NDTQKWqj0Zienr5ixYp79+7V1dVNmTLFJVWFhITQaXX6+Z31tHplZWVQUNDJkyc5jrtx40ZKSkpzc7N1Iwmn1ZubmxMSEqiqmpqagoODDx06pNVqi4qKAgMDharavHlzb2/vwMCA6CVYl4IQ+RCAquTTFo9qMlZLQG0NAC9duhQaGhoQEDBp0qR9+/bR6eq7d++yVQL5+fl0alzYnSGECEdeFtPqmzZtoosVlixZYr1Ygef58vJyulhh8uTJ3377LZ1it24n0cUKPM+fO3eO5r9qdFu2bBmt9vnz5ydNmjRlyhSdTid6CdZFIEQ+BKAq+bSFuzXx0lyVu9USpKfrqti0uuCMvV3hqig61x4UFORqJvYKwLnxQACqGg+t5Fwdhd9VdDiPbhHBN1+skaYq564esfycAFTlVw0s+iMwFlayPvTZ15WhKr+623x7MVCVb3mjNBAAAUkEoCpJ2JAIBEDAtwSgKt/yRmkgAAKSCEBVkrAhEQiAgG8JQFW+5Y3SQAAEJBGAqiRhQyIQAAHfEoCqfMsbpYEACEgiAFVJwoZEIAACviUAVfmWN0oDARCQRACqkoQNiUAABHxLAKryLW+UBgIgIIkAVCUJGxKBAAj4lsBTrar7a//P/bX/x7fAURoIgIAUAlAVVCXlvkEaEPAxAagKqvLxLYfiQEAKAagKqpJy3yANCPiYAFTlV6oS/Wk9ae+/8fGNiOJAwD4BqMp/VGXnB4thK/uPAc7KnwBU5T+qkvwaCJ/9YDEhpKCggL3tysePxxgW7eMr9cvioCp5qWqsXq7lm9dAQFV+KRHfXBRUJS9VyeqVpd64BcewazOGRXuD5NOWJ1QlP1WlJEubWpI8AAxTRNh6ZemNGzfCw8MDAgKeffbZgwcPDg8P09eRZmdn07eWPv/88z/++CN9bO7cuUMDJ06cmJeXR18UqlarFQrFO++8ExgYWFZWxnxhMBhef/31efPm9fb2sqeupaXl5Zdfvnr1KiGkp6dn+vTpJ06cIITQV7rn5eURQkRLKSgoWDS6vfjii1qtluf5L7/8kr64NC4u7s6dO7RDl56evmnTpsDAwEmTJh0+fJi+DHV4eLi4uJhGjomJuXnzJq2PSqUqKCig++ytq4QQUSaiJbLrwo77BKAqOaoqTBEhwVYeV5Ver4+MjPzoo484jqutrf3rX/9aUVFBVTVlypQbN2709/dv27YtODi4tbWVRt6zZw/Hcbdv36ZvjSeE0BeOrly58s6dO0ajkaqK47j169e/9NJL9+7dE97ERqNx4cKFRUVFhJCffvrpT3/606uvvsrzfE9PT3x8fFVVla1SCgoKAgMDDxw4oNVqh4eHS0tLp06devPmTYPB8MEHH9B3xNM4xcXFRqOxtLT0ueeeu337NiGktLT0+eefv3Llislk2rNnzwsvvEBfPS+qKltMREsUXhr23SQAVdlT1WDNAe36f6Xfv/ntv6r/23t8LeF5N9GLJhfqxlVbCdNav+zPfohor6qlpWXq1KkXL14khHAcV1NTQ59tlUq1Z88eWn+dThcaGnrixAmO4zo7O2lPiuosJyeHqkqhUGg0Ghq/oKBg7dq1H3/88V/+8hfae7LgkJeXR/VUUFCwYMGCxMREnU5XX18fHR3d3t5uq5SCgoKMjAzaS+rv709MTDx48CDNuaWlJSwsrL6+XhhHq9W++OKL5eXlFpENBkNKSgrtTImqSpSJRSasRItLw6E7BKAqm6oa1rfoNv3Hb4Ya/cLg40Ov2Uqom3Cl4nBh4cjIiJMNLExrX0zWZ0VVxXFcbm7uH//4x+Tk5O+++25gYIDWRPgMcxy3bNky+mz/8ssvcXFxgYGBzz333MSJE+knfWq1WqlUarVamragoCAoKCgwMHDXrl3ULOw97/T17lVVVfHx8VqtNj09/YcffkhOTq6qqjpx4sTChQuNRiMhRLQUNq4khGi12pCQEPrKeOGL463jlJWVabXaV155pba2lkHOycmhNRdeJhsAijKxVSLLEzvuE4CqbKuqo7Fj4x86Nv5huKNRCHrgwp77Wf9PXGGjOtOu/9fBmgPCJM7vM9242qUihLC01iZyGCKqKlptjUZTVFQUGRk5efLk+vp62mNikzhMVa2trVOmTCktLWXzWbZUFRgYuHr16r/97W+ivar29vbo6OhTp07NmjWrvb29oKDg4RRVTk4OLdFWKRYasrAPvRCLOCEhIRJUJcrE2nfOtzhiOkkAqnJZVYQQh7bSbfqPYX2Lk20gjEZ1I8FT3lBVe3t7eXm5wWAghNgaGbEBoLD3RGfBbakqIyOD47gNGzYkJCQI59QpB+q+1NTU1atX0zmy2NjYmJgY2vGxVYpQQ729vbGxsWwAyPAK49B+UFlZmcXYzeIy2TiX9apEmdgqkRWNHfcJ+J+qmu8ZXkkzNd8zONwm0J6RLYjDNnpVtuLTcGmpWJ6PVDU/pai4mA6OWLgzOx7vVd26dSs4OLi4uNhkMjU0NLCZcpVKRafVBwcHd+zYQafVm5qagoODDx06pNVqi4qKAgMDbamKhms0mtDQ0I8++sj6SouKigICAuhnf11dXWGjW1dXFyHEVilCDRFCCgsL//KXv9TW1nIcV1FRkZaW1t3dLYzDVGUxrb53794XX3yRTqvv3LlTqVQ2NzfrdLqMjAw6PrXFRLREZ1oNcZwk4H+qMhgMufuNr6SZOvUOZCVHVY3VElBbA8BLly6FhoYGBARMmjRp3759dNZcNbrFxcUFBARMnTr10qVLdD3BuXPn6Ef+q0a3ZcuWcRwn7AdZLAGtrKx89tlnL1++bHGzXr16dcqUKXQKn+f5jRs30ol2O6UINUQIEa4/CA0NpTUUxhGqShhZuFiht7d30aJF9NrXrl37wgsvqNVqQogoE2EmrESL68KhOwT8UlUGg2FBtil3v9G+q+SoKnfa0uO9KluVEc4324qDcBDwLAF/VdXFOuNzcx0MA/1NVXa+ruxwWt2lL9ZAVZ59CJGbMwT8VVWd+kczVqVl9jpW/qYqQojoj8A49JSrX1eGqpx5tBDHswT8VVXOjAH9UFWevTmQGwjIh4Afqyp3v3FBtsnOdBVUJZ/7EDUBAQcE/FhVDmfWoSoHNwdOg4B8CPirqp7SuSr53FioCQh4loC/qupp/ATQs3cGcgMBWRHwV1U5HP0ZDAZHA0A7X1cWfnVZbF/yF2tkdXOgMiAgHwJ+qSrPrFYnhIj/CIyYm4TfXnbn68ryuTNQExCQFQH/U5XHvgMoq3ZCZWRIoLublJc/+rdzJ3n421wO/33++eP4MrwW+VfJ/1RlZ3WCxSkHA0D5Nx5q6BsCzc2PFXPkyCMfrVlDXnqJ/P73ZMIEif9yc31Tcb8qBaqy+SMwftXOT9PF0J6Onf92dzuLo6aGBAfb9FFwMFm48LfOVG7uY6PRou10sp78eruz1UA8QghUBVX56EFobzd7kunzTPspFk/1woWPui22/tlxh/PdnH/5l0f5r19PPv+c1NWJE9i587Gkfv/7x5VZv/6RmMrLbSYRzwihniAAVUFVrt1HdXWPjfPwVTJCxaxfbykX58XhkZjPPGNZAVdl9z//81sOdHz3u98RDNZcuz+8Fhuqgqoe31zUQRYCYk/7v/yLzXGQQ9H87ne/KYBlqFSamY5az2IMZTGIa2/35HPQ3EzoxSqV4qO84GBSU+PJEpGXOwSgKqjq0f1z+rRTJmJDoTlzzESzc6fZ4G78PuE1NY8vpLnZnccKaT1PAKqCqh7dVe3tj2aI4+LMBMQ6NZgG9vyThxxdJOCmqh48eKDRaPRjtFksPnD1EIsVXLxZEB0Exo6AO6oymUxQ1dg1HUoGgaeJgGRVjYyMmEym3t7e+/fvj1GnytFrHhz1stCreprudFzrOCfgjqqGhob6+/sfvnlovKpqnLcdqg8CTxEBaaoihIyMjHAcNzg42NPTA1U9RXcMLhUExoSAZFXxPD88PGwymQYGBnp6enQ63f379zWjW9s42SaMCXEUCgIgIIGAO6oaGRmhthocHOzv7+/t7X0wuvWMkw2qknDDIAkIjA0Byaqib7qltuI4bmhoyDS6GcfPBlWNzT2HUkFAAgF3VEVt9fBN3SNPtuFxtUFVEm4YJAGBsSHgpqpYpflxuEFVrPmwAwJyJ+ApVcn9OsXqB1WJUUEYCMiSAFQly2ZBpUAABMwJQFXmPHAEAiAgSwJQlSybBZUCARAwJwBVmfPAEQiAgCwJQFWybBZUCgRAwJwAVGXOA0cgAAKyJABVybJZUCkQAAFzAlCVOQ8cgQAIyJIAVCXLZkGlQAAEzAlAVeY8cAQCICBLAlCVLJsFlQIBEDAnAFWZ88ARCICALAlAVbJsFlQKBEDAnABUZc4DRyAAArIkAFXJsllQKRAAAXMCUJU5DxyBAAjIkgBUJctmQaVAAATMCUBV5jxwBAIgIEsCUJUsmwWVAgEQMCcAVZnzwBEIgIAsCUBVsmwWVAoEQMCcAFRlzgNHIAACsiQAVcmyWVApEAABcwJQlTkPHIEACMiSAFQly2ZBpUAABMwJQFXmPHAEAiAgSwJQlSybBZUCARAwJwBVmfPAEQiAgCwJQFWybBZUCgRAwJwAVGXOA0cgAAKyJABVybJZUCkQAAFzAlCVOQ8cgQAIyJIAVCXLZkGlQAAEzAlAVeY8cAQCICBLAlCVLJsFlQIBEDAnAFWZ88ARCICALAlAVbJsFlQKBEDAnABUZc4DRyAAArIkAFXJsllQKRAAAXMCUJU5DxyBAAjIkgBUJctmQaVAAATMCUBV5jxwBAIgIEsCUJUsmwWVAgEQMCcAVZnzwBEIgIAsCUBVsmwWVAoEQMCcAFRlzgNHIAACsiQAVcmyWVApEAABcwJQlTkPHIEACMiSAFQly2ZBpUAABMwJQFXmPHAEAiAgSwJQlSybBZUCARAwJwBVmfPAEQiAgCwJQFWybBZUCgRAwJwAVGXOA0cgAAKyJABVybJZUCkQAAFzAlCVOQ8cgQAIyJIAVCXLZkGlQAAEzAlAVeY8cAQCICBLAlCVLJsFlQIBEDAnAFWZ88ARCICALAlAVbJsFlQKBEDAnABUZc4DRyAAArIkAFXJsllQKRAAAXMCUJU5DxyBAAjIkgBUJctmQaVAAATMCUBV5jxwBAIgIEsCUJUsmwWVAgEQMCcAVZnzwBEIgIAsCUBVsmwWVAoEQMCcAFRlzgNHIAACsiQAVcmyWVApEAABcwJQlTkPHIEACMiSAFQly2ZBpUAABMwJQFXmPHAEAiAgSwJQlSybBZUCARAwJwBVmfPAEQiAgCwJQFWybBZUCgRAwJwAVGXOA0cgAAKyJABVybJZUCkQAAFzAlCVOQ8cgQAIyJIAVCXLZkGlQAAEzAlAVeY8cAQCICBLAlCVLJsFlQIBEDAnAFWZ88ARCICALAlAVbJsFlQKBEDAnABUZc4DRyAAArIkAFXJsllQKRAAAXMCUJU5DxyBAAjIkgBUJctmQaVAAATMCUBV5jxwBAIgIEsCUJUsmwWVAgEQMCcAVZnzwBEIgIAsCUBVsmwWVAoEQMCcAFRlzgNHIAACsiQAVcmyWVApEAABcwJQlTkPHIEACMiSAFQly2ZBpUAABMwJQFXmPHAEAiAgSwJQlSybBZUCARAwJwBVmfPAEQiAgCwJPM2q+v/2AVJUwgir9AAAAABJRU5ErkJggg==)"
      ],
      "metadata": {
        "id": "J_MdlecFqzbH"
      }
    },
    {
      "cell_type": "code",
      "source": [
        "(\n",
        "    df_orders\n",
        "    .write.bucketBy(4, col=\"product_id\")\n",
        "    .mode(\"overwrite\")\n",
        "    .saveAsTable(\"orders_bucketed\")\n",
        ")"
      ],
      "metadata": {
        "id": "Ktb61IA2q0tB"
      },
      "execution_count": null,
      "outputs": []
    },
    {
      "cell_type": "code",
      "source": [
        "df_orders_bucketed = spark.table(\"orders_bucketed\")\n",
        "df_products_bucketed = spark.table(\"products_bucketed\")"
      ],
      "metadata": {
        "id": "UP7OYA58q_M_"
      },
      "execution_count": null,
      "outputs": []
    },
    {
      "cell_type": "code",
      "source": [
        "df_orders_product_details_bucketed = (\n",
        "    df_orders_bucketed.join(\n",
        "        df_products_bucketed,\n",
        "        on=\"product_id\",\n",
        "        how=\"inner\"\n",
        "    )\n",
        ")"
      ],
      "metadata": {
        "id": "d_mplfNgrEhg"
      },
      "execution_count": null,
      "outputs": []
    },
    {
      "cell_type": "code",
      "source": [
        "df_orders_product_details_bucketed.explain()"
      ],
      "metadata": {
        "colab": {
          "base_uri": "https://localhost:8080/"
        },
        "id": "TODutzJgrJDw",
        "outputId": "2105519b-8fc2-4de4-e9d9-f2cab113a758"
      },
      "execution_count": null,
      "outputs": [
        {
          "output_type": "stream",
          "name": "stdout",
          "text": [
            "== Physical Plan ==\n",
            "AdaptiveSparkPlan isFinalPlan=false\n",
            "+- Project [product_id#239, order_id#238, customer_id#240, quantity#241, order_date#242, total_amount#243, product_name#251, category#252, brand#253, price#254, stock#255]\n",
            "   +- SortMergeJoin [product_id#239], [product_id#250], Inner\n",
            "      :- Sort [product_id#239 ASC NULLS FIRST], false, 0\n",
            "      :  +- Filter isnotnull(product_id#239)\n",
            "      :     +- FileScan parquet spark_catalog.default.orders_bucketed[order_id#238,product_id#239,customer_id#240,quantity#241,order_date#242,total_amount#243] Batched: true, Bucketed: true, DataFilters: [isnotnull(product_id#239)], Format: Parquet, Location: InMemoryFileIndex(1 paths)[file:/content/spark-warehouse/orders_bucketed], PartitionFilters: [], PushedFilters: [IsNotNull(product_id)], ReadSchema: struct<order_id:int,product_id:int,customer_id:int,quantity:int,order_date:timestamp,total_amount..., SelectedBucketsCount: 4 out of 4\n",
            "      +- Sort [product_id#250 ASC NULLS FIRST], false, 0\n",
            "         +- Filter isnotnull(product_id#250)\n",
            "            +- FileScan parquet spark_catalog.default.products_bucketed[product_id#250,product_name#251,category#252,brand#253,price#254,stock#255] Batched: true, Bucketed: true, DataFilters: [isnotnull(product_id#250)], Format: Parquet, Location: InMemoryFileIndex(1 paths)[file:/content/spark-warehouse/products_bucketed], PartitionFilters: [], PushedFilters: [IsNotNull(product_id)], ReadSchema: struct<product_id:int,product_name:string,category:string,brand:string,price:int,stock:int>, SelectedBucketsCount: 4 out of 4\n",
            "\n",
            "\n"
          ]
        }
      ]
    },
    {
      "cell_type": "code",
      "source": [
        "df_orders_product_details_bucketed.count()"
      ],
      "metadata": {
        "colab": {
          "base_uri": "https://localhost:8080/"
        },
        "id": "S5YWvypkrJzc",
        "outputId": "eafbec07-8f91-4dc3-9ff9-a221d3559cee"
      },
      "execution_count": null,
      "outputs": [
        {
          "output_type": "execute_result",
          "data": {
            "text/plain": [
              "1000"
            ]
          },
          "metadata": {},
          "execution_count": 20
        }
      ]
    },
    {
      "cell_type": "markdown",
      "source": [
        "**Bucketing In Aggregations**"
      ],
      "metadata": {
        "id": "mHpM4GbArWBZ"
      }
    },
    {
      "cell_type": "code",
      "source": [
        "df_orders.show(5, False)"
      ],
      "metadata": {
        "colab": {
          "base_uri": "https://localhost:8080/"
        },
        "id": "LQwkuePBrYYC",
        "outputId": "b9b0e647-6f00-4281-dee1-5cdf80b6f432"
      },
      "execution_count": null,
      "outputs": [
        {
          "output_type": "stream",
          "name": "stdout",
          "text": [
            "+--------+----------+-----------+--------+-------------------+------------+\n",
            "|order_id|product_id|customer_id|quantity|order_date         |total_amount|\n",
            "+--------+----------+-----------+--------+-------------------+------------+\n",
            "|1       |80        |10         |4       |2023-03-20 00:00:00|1003        |\n",
            "|2       |69        |30         |3       |2023-12-11 00:00:00|780         |\n",
            "|3       |61        |20         |4       |2023-04-26 00:00:00|1218        |\n",
            "|4       |62        |44         |3       |2023-08-26 00:00:00|2022        |\n",
            "|5       |78        |46         |4       |2023-08-05 00:00:00|1291        |\n",
            "+--------+----------+-----------+--------+-------------------+------------+\n",
            "only showing top 5 rows\n",
            "\n"
          ]
        }
      ]
    },
    {
      "cell_type": "code",
      "source": [
        "# WITHOUT BUCKETING\n",
        "\n",
        "df_product_sales = (\n",
        "    df_orders\n",
        "    .groupBy(\"product_id\")\n",
        "    .agg(F.sum(\"total_amount\").alias(\"sales\"))\n",
        ")\n",
        "\n",
        "df_product_sales.explain()"
      ],
      "metadata": {
        "colab": {
          "base_uri": "https://localhost:8080/"
        },
        "id": "XQqw445TremF",
        "outputId": "3036ba95-174a-4933-b328-98dc16d6a83b"
      },
      "execution_count": null,
      "outputs": [
        {
          "output_type": "stream",
          "name": "stdout",
          "text": [
            "== Physical Plan ==\n",
            "AdaptiveSparkPlan isFinalPlan=false\n",
            "+- HashAggregate(keys=[product_id#65], functions=[sum(total_amount#69)])\n",
            "   +- Exchange hashpartitioning(product_id#65, 200), ENSURE_REQUIREMENTS, [plan_id=711]\n",
            "      +- HashAggregate(keys=[product_id#65], functions=[partial_sum(total_amount#69)])\n",
            "         +- FileScan csv [product_id#65,total_amount#69] Batched: false, DataFilters: [], Format: CSV, Location: InMemoryFileIndex(1 paths)[file:/content/drive/MyDrive/data/bucketing/orders.csv], PartitionFilters: [], PushedFilters: [], ReadSchema: struct<product_id:int,total_amount:int>\n",
            "\n",
            "\n"
          ]
        }
      ]
    },
    {
      "cell_type": "code",
      "source": [
        "# WITH BUCKETING\n",
        "\n",
        "df_product_sales = (\n",
        "    df_orders_bucketed\n",
        "    .groupBy(\"product_id\")\n",
        "    .agg(F.sum(\"total_amount\").alias(\"sales\"))\n",
        ")\n",
        "\n",
        "df_product_sales.explain()"
      ],
      "metadata": {
        "colab": {
          "base_uri": "https://localhost:8080/"
        },
        "id": "LS9IkaVOrncb",
        "outputId": "5a5c247e-c68d-4c49-89d0-f4d1c6fdd28d"
      },
      "execution_count": null,
      "outputs": [
        {
          "output_type": "stream",
          "name": "stdout",
          "text": [
            "== Physical Plan ==\n",
            "AdaptiveSparkPlan isFinalPlan=false\n",
            "+- HashAggregate(keys=[product_id#239], functions=[sum(total_amount#243)])\n",
            "   +- HashAggregate(keys=[product_id#239], functions=[partial_sum(total_amount#243)])\n",
            "      +- FileScan parquet spark_catalog.default.orders_bucketed[product_id#239,total_amount#243] Batched: true, Bucketed: true, DataFilters: [], Format: Parquet, Location: InMemoryFileIndex(1 paths)[file:/content/spark-warehouse/orders_bucketed], PartitionFilters: [], PushedFilters: [], ReadSchema: struct<product_id:int,total_amount:int>, SelectedBucketsCount: 4 out of 4\n",
            "\n",
            "\n"
          ]
        }
      ]
    },
    {
      "cell_type": "markdown",
      "source": [
        "**Bucket Pruning**"
      ],
      "metadata": {
        "id": "KSEBO9aFrxjG"
      }
    },
    {
      "cell_type": "code",
      "source": [
        "df_product_sales_bucket_pruning = (\n",
        "    df_orders_bucketed\n",
        "    .filter(F.col(\"product_id\") == 1)\n",
        "    .groupBy(\"product_id\")\n",
        "    .agg(F.sum(\"total_amount\").alias(\"sales\"))\n",
        ")"
      ],
      "metadata": {
        "id": "qn2paNVBrzMN"
      },
      "execution_count": null,
      "outputs": []
    },
    {
      "cell_type": "code",
      "source": [
        "df_product_sales_bucket_pruning.explain()"
      ],
      "metadata": {
        "colab": {
          "base_uri": "https://localhost:8080/"
        },
        "id": "MGqIw9-fr5NZ",
        "outputId": "1944f12f-b5df-41ac-8e68-2e15b334fce9"
      },
      "execution_count": null,
      "outputs": [
        {
          "output_type": "stream",
          "name": "stdout",
          "text": [
            "== Physical Plan ==\n",
            "AdaptiveSparkPlan isFinalPlan=false\n",
            "+- HashAggregate(keys=[product_id#239], functions=[sum(total_amount#243)])\n",
            "   +- HashAggregate(keys=[product_id#239], functions=[partial_sum(total_amount#243)])\n",
            "      +- Filter (isnotnull(product_id#239) AND (product_id#239 = 1))\n",
            "         +- FileScan parquet spark_catalog.default.orders_bucketed[product_id#239,total_amount#243] Batched: true, Bucketed: true, DataFilters: [isnotnull(product_id#239), (product_id#239 = 1)], Format: Parquet, Location: InMemoryFileIndex(1 paths)[file:/content/spark-warehouse/orders_bucketed], PartitionFilters: [], PushedFilters: [IsNotNull(product_id), EqualTo(product_id,1)], ReadSchema: struct<product_id:int,total_amount:int>, SelectedBucketsCount: 1 out of 4\n",
            "\n",
            "\n"
          ]
        }
      ]
    }
  ]
}