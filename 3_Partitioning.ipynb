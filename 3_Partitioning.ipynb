{
  "nbformat": 4,
  "nbformat_minor": 0,
  "metadata": {
    "colab": {
      "provenance": [],
      "mount_file_id": "1oHG99Hc7bCeAXt11EVPU7--VaBD-v8cZ",
      "authorship_tag": "ABX9TyPZHkvA1NQGFbLMiLEp2nCC",
      "include_colab_link": true
    },
    "kernelspec": {
      "name": "python3",
      "display_name": "Python 3"
    },
    "language_info": {
      "name": "python"
    }
  },
  "cells": [
    {
      "cell_type": "markdown",
      "metadata": {
        "id": "view-in-github",
        "colab_type": "text"
      },
      "source": [
        "<a href=\"https://colab.research.google.com/github/visshal2301/AdvanceSpark_GoogleColab/blob/main/3_Partitioning.ipynb\" target=\"_parent\"><img src=\"https://colab.research.google.com/assets/colab-badge.svg\" alt=\"Open In Colab\"/></a>"
      ]
    },
    {
      "cell_type": "code",
      "execution_count": 1,
      "metadata": {
        "id": "QZFFR9HxdcAw"
      },
      "outputs": [],
      "source": [
        "import warnings\n",
        "warnings.filterwarnings(\"ignore\")"
      ]
    },
    {
      "cell_type": "code",
      "source": [
        "from IPython.core.interactiveshell import InteractiveShell\n",
        "InteractiveShell.ast_node_interactivity = 'all'"
      ],
      "metadata": {
        "id": "a5_sen2MgwlQ"
      },
      "execution_count": 2,
      "outputs": []
    },
    {
      "cell_type": "code",
      "source": [
        "from pyspark.storagelevel import StorageLevel\n",
        "from pyspark.sql.types import *\n",
        "import pyspark.sql.functions as F\n",
        "from pyspark.sql import SparkSession"
      ],
      "metadata": {
        "id": "B0tdbpFdg9-g"
      },
      "execution_count": 3,
      "outputs": []
    },
    {
      "cell_type": "code",
      "source": [
        "spark = (\n",
        "    SparkSession\n",
        "    .builder\n",
        "    .config(\"spark.driver.memory\", \"10g\")\n",
        "    .master(\"local[*]\")\n",
        "    .appName(\"6_0_partitioning\")\n",
        "    .getOrCreate()\n",
        ")\n",
        "sc = spark.sparkContext\n",
        "sc.setLogLevel(\"ERROR\")"
      ],
      "metadata": {
        "id": "FsJW0KPzhIGw"
      },
      "execution_count": 4,
      "outputs": []
    },
    {
      "cell_type": "code",
      "source": [
        "import psutil\n",
        "\n",
        "ram = psutil.virtual_memory()\n",
        "print(\"Total RAM (GB):\", round(ram.total / (1024**3), 2))"
      ],
      "metadata": {
        "colab": {
          "base_uri": "https://localhost:8080/"
        },
        "id": "TTgcCXmYhd1w",
        "outputId": "7cf80db7-fe44-44b7-b6ec-ee13321b2d3f"
      },
      "execution_count": 5,
      "outputs": [
        {
          "output_type": "stream",
          "name": "stdout",
          "text": [
            "Total RAM (GB): 12.67\n"
          ]
        }
      ]
    },
    {
      "cell_type": "code",
      "source": [
        "listening_activity_file = \"/content/drive/MyDrive/data/partitioning/raw/Spotify_Listening_Activity.csv\"\n",
        "df_listening_actv = spark.read.csv(listening_activity_file, header=True, inferSchema=True)\n",
        "df_listening_actv.show(5, False)\n",
        "\n"
      ],
      "metadata": {
        "colab": {
          "base_uri": "https://localhost:8080/"
        },
        "id": "9kRTZbbxrbLc",
        "outputId": "dacbf406-d3cb-4355-96ba-07860138beb0"
      },
      "execution_count": 6,
      "outputs": [
        {
          "output_type": "stream",
          "name": "stdout",
          "text": [
            "+-----------+-------+--------------------------+---------------+\n",
            "|activity_id|song_id|listen_date               |listen_duration|\n",
            "+-----------+-------+--------------------------+---------------+\n",
            "|1          |12     |2023-06-27 10:15:47.008867|69             |\n",
            "|2          |44     |2023-06-27 10:15:47.008867|300            |\n",
            "|3          |75     |2023-06-27 10:15:47.008867|73             |\n",
            "|4          |48     |2023-06-27 10:15:47.008867|105            |\n",
            "|5          |10     |2023-06-27 10:15:47.008867|229            |\n",
            "+-----------+-------+--------------------------+---------------+\n",
            "only showing top 5 rows\n",
            "\n"
          ]
        }
      ]
    },
    {
      "cell_type": "code",
      "source": [
        "df_listening_actv = (\n",
        "    df_listening_actv\n",
        "    .withColumnRenamed(\"listen_date\", \"listen_time\")\n",
        "    .withColumn(\"listen_date\", F.to_date(\"listen_time\", \"yyyy-MM-dd HH:mm:ss.SSSSSS\"))\n",
        "    .withColumn(\"listen_hour\", F.hour(\"listen_time\"))\n",
        ")\n",
        "\n",
        "df_listening_actv.show(5, False)\n",
        "df_listening_actv.printSchema()\n",
        "df_listening_actv.count()"
      ],
      "metadata": {
        "colab": {
          "base_uri": "https://localhost:8080/"
        },
        "id": "PS6e9JkvsJNS",
        "outputId": "0f77eceb-ace1-43ad-9c28-28280762dc65"
      },
      "execution_count": 7,
      "outputs": [
        {
          "output_type": "stream",
          "name": "stdout",
          "text": [
            "+-----------+-------+--------------------------+---------------+-----------+-----------+\n",
            "|activity_id|song_id|listen_time               |listen_duration|listen_date|listen_hour|\n",
            "+-----------+-------+--------------------------+---------------+-----------+-----------+\n",
            "|1          |12     |2023-06-27 10:15:47.008867|69             |2023-06-27 |10         |\n",
            "|2          |44     |2023-06-27 10:15:47.008867|300            |2023-06-27 |10         |\n",
            "|3          |75     |2023-06-27 10:15:47.008867|73             |2023-06-27 |10         |\n",
            "|4          |48     |2023-06-27 10:15:47.008867|105            |2023-06-27 |10         |\n",
            "|5          |10     |2023-06-27 10:15:47.008867|229            |2023-06-27 |10         |\n",
            "+-----------+-------+--------------------------+---------------+-----------+-----------+\n",
            "only showing top 5 rows\n",
            "\n",
            "root\n",
            " |-- activity_id: integer (nullable = true)\n",
            " |-- song_id: integer (nullable = true)\n",
            " |-- listen_time: timestamp (nullable = true)\n",
            " |-- listen_duration: integer (nullable = true)\n",
            " |-- listen_date: date (nullable = true)\n",
            " |-- listen_hour: integer (nullable = true)\n",
            "\n"
          ]
        },
        {
          "output_type": "execute_result",
          "data": {
            "text/plain": [
              "11779"
            ]
          },
          "metadata": {},
          "execution_count": 7
        }
      ]
    },
    {
      "cell_type": "markdown",
      "source": [
        "**Partitioning By listen_date**\n",
        "\n",
        "Let's say we want to analyse the listening behaviours of user over time. If we're given the complete dataset (with no partitions), Spark would scan the whole dataset for finding a particular date (similar to the bookshelf analogy where you would scan the entire bookself for finding a book if it is not organized). Given that our usecase needs analysis by date, partitioning (creating folders) on date would help Spark pin point to the exact folder. This makes searching very easy and Spark doesn't scan the entire dataset."
      ],
      "metadata": {
        "id": "W9GV5ylksdRc"
      }
    },
    {
      "cell_type": "code",
      "source": [
        "(\n",
        "    df_listening_actv\n",
        "    .write\n",
        "    .partitionBy(\"listen_date\")\n",
        "    .mode(\"overwrite\")\n",
        "    .parquet(\"/content/drive/MyDrive/data/partitioning/partitioned/listening_activity_pt\")\n",
        ")"
      ],
      "metadata": {
        "id": "15uO8f0HsiC8"
      },
      "execution_count": 9,
      "outputs": []
    },
    {
      "cell_type": "code",
      "source": [
        "df_listening_actv_pt_pruned = spark.read.parquet(\"/content/drive/MyDrive/data/partitioning/partitioned/listening_activity_pt\")\n",
        "df_listening_actv_pt_pruned.filter(\"listen_date = '2019-01-01'\").explain()"
      ],
      "metadata": {
        "colab": {
          "base_uri": "https://localhost:8080/"
        },
        "id": "ERQUPiPEtVGO",
        "outputId": "2b01b114-6e2d-473d-d53f-d17c37ad40e5"
      },
      "execution_count": 10,
      "outputs": [
        {
          "output_type": "stream",
          "name": "stdout",
          "text": [
            "== Physical Plan ==\n",
            "*(1) ColumnarToRow\n",
            "+- FileScan parquet [activity_id#125,song_id#126,listen_time#127,listen_duration#128,listen_hour#129,listen_date#130] Batched: true, DataFilters: [], Format: Parquet, Location: InMemoryFileIndex(1 paths)[file:/content/drive/MyDrive/data/partitioning/partitioned/listening_ac..., PartitionFilters: [isnotnull(listen_date#130), (listen_date#130 = 2019-01-01)], PushedFilters: [], ReadSchema: struct<activity_id:int,song_id:int,listen_time:timestamp,listen_duration:int,listen_hour:int>\n",
            "\n",
            "\n"
          ]
        }
      ]
    },
    {
      "cell_type": "markdown",
      "source": [
        "![image.png](data:image/png;base64,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)"
      ],
      "metadata": {
        "id": "3knYHPGfu20q"
      }
    },
    {
      "cell_type": "markdown",
      "source": [
        "**Understanding the Physical Plan Snippet**\n",
        "\n",
        "*(1) ColumnarToRow\n",
        "This indicates that Spark is converting data from a columnar format (like Parquet's internal columnar storage) to a row-based format for further processing in the query. This often happens when the subsequent steps or the output require row-based data.\n",
        "\n",
        "+- FileScan parquet [...]\n",
        "This indicates that Spark is reading data from a Parquet file source.\n",
        "\n",
        "The fields listed in brackets, like activity_id#125, song_id#126, etc., are the columns being read from the Parquet files.\n",
        "\n",
        "Batched: true means that Spark is reading the data in columnar batches for efficiency before the ColumnarToRow conversion.\n",
        "\n",
        "Location: InMemoryFileIndex(...) refers to where the input data files are located—in this case, on your Google Drive path /content/drive/MyDrive/data/partitioning/partitioned/listening_ac....\n",
        "\n",
        "PartitionFilters: [isnotnull(listen_date#130), (listen_date#130 = 2019-01-01)] indicates partition pruning is applied—only partitions where the listen_date column is not null and equals 2019-01-01 are read, which is a big optimization to avoid scanning the entire dataset.\n",
        "\n",
        "PushedFilters: [] means no additional data filters were pushed down to the Parquet reader beyond the partition filter.\n",
        "\n",
        "ReadSchema: struct<activity_id:int,song_id:int,listen_time:timestamp,listen_duration:int,listen_hour:int> shows the schema (columns and data types) of the data being read after filtering."
      ],
      "metadata": {
        "id": "ZlM7SHzst7VT"
      }
    },
    {
      "cell_type": "markdown",
      "source": [
        "**Why This Matters**\n",
        "\n",
        "This plan shows an efficient scan over a partitioned Parquet dataset, where Spark is:\n",
        "\n",
        "Pruning partitions based on the filter on listen_date for better performance.\n",
        "\n",
        "Reading only the necessary columns.\n",
        "\n",
        "Using columnar batch reads before converting to rows.\n",
        "\n",
        "If you shared this physical plan to understand or debug shuffle partitions or resource use, note that:\n",
        "\n",
        "This is a scan stage, so there's no shuffle happening here yet.\n",
        "\n",
        "Shuffle partitions typically appear later, after transformations requiring data shuffling like joins, aggregations, or repartitions.\n",
        "\n",
        "If You Want to Tune Shuffle or Memory\n",
        "This physical plan step is before shuffle, so tuning parameters like spark.sql.shuffle.partitions won’t apply here.\n",
        "\n",
        "You can further optimize by ensuring partition pruning filters are pushed down, which seems to be happening.\n",
        "\n",
        "Monitor the DAG and subsequent stages for shuffle to tune partitions effectively.\n",
        "\n",
        "If you'd like, I can help you interpret the full physical plan or explain the next steps in the query execution related to shuffle partitions or resource tuning. Just share more context or the entire plan!"
      ],
      "metadata": {
        "id": "_OW-2ZShuMhG"
      }
    },
    {
      "cell_type": "markdown",
      "source": [
        "**Partitioning Examples**\n",
        "\n",
        "Single/multi level partitioning\n",
        "Using repartition/coalesce with partitionBy (controlling number of files inside each partition):\n",
        "\n",
        "parititionBy affects how data is laid out in the storage and is going to ensure that the output directory is organized into subdirectories based on the value given in partitionBy.\n",
        "Number of files in each value directory of partitionBy depends on the number supplied in the repartition/coalesce.\n",
        "\n",
        "\n",
        "**1. Single/multi level partitioning**"
      ],
      "metadata": {
        "id": "bidSuJvDuedb"
      }
    },
    {
      "cell_type": "code",
      "source": [
        "(\n",
        "    df_listening_actv\n",
        "    .write\n",
        "    .mode(\"overwrite\")\n",
        "    .partitionBy(\"listen_date\", \"listen_hour\")\n",
        "    .parquet(\"/content/drive/MyDrive/data/partitioning/partitioned/listening_activity_pt_2\")\n",
        ")"
      ],
      "metadata": {
        "id": "Jj480nesuQS-"
      },
      "execution_count": 11,
      "outputs": []
    },
    {
      "cell_type": "markdown",
      "source": [
        "![image.png](data:image/png;base64,iVBORw0KGgoAAAANSUhEUgAAASMAAAEBCAIAAAC8JlRHAAAgAElEQVR4Ae2djU8bR/7/7z9ZuZaaXKRUlzaEp/JklhhOgUCCSUtK2kNcDyUc0ZErl0SKqNu7UwR5aCXOOdFLFCU8tIoELe4FhQeZ0ksCvqRJnAC5EEwxxMRPG0rtmmqJ95fL53ej+e7aCxi8WTsfq0pnx7Ozn3nPvPYzO2vm8wsBP6gAKhB7BX4R+0vgFVABVEBA0nAQoAJKKICkKaEyXgMVQNJwDKACSiiApCmhMl4DFYg5adeuXysp3c3qt9P/5eXr29rbQ6EQdgAq8JIoEFvSnjx5UvnbKpoxkkbYXpIRhs0EBWJLmsfr2VvxDqFr5YmS0t3Xrl+TdpLL5UpNTe3r6xMEYXZ29saNG7FwjIFA4F//+lcgEJAaoGSOfANVYqSSgsT1tVRKGqvfXvnbqidPnojEpUn7/PPPCwoKOI4TlVn74eTkZFpa2vXr19de1VpqkG/gizKS5/mWlpbNmzczDLNt27b+/v5Y3OzWops6z1UvaXsr3vF4PSLVaNJEX0kPTSZTXV2dNF/NOdHZbLPZ8vPzXS7X2pvmcrny8/NtNlukqlpaWjIzM0dHR3/++efW1tbXX3/9/v37kQpjPlEgjkkzmUxlZWV+v18QBIvFsm3bNnKXffz4cWpqKvP8k5qaCkNwaGgoMzOTYRidTjc8PCwIAoyqM2fO6HQ6hmEMBoPT6RQEwWazpaSkwGh7xmpDQ8P+/fsZhtmyZYvFYgHtnE6nwWCA2hoaGoglRFmSsNvtUFKr1TY2NvI8D1/Z7fbi4mKGYTZv3nzx4kWpzaSBDQ0Nhw4dAtcxPz9fVFTU3d1NjKyrq4OWMgzz9ddfl5WVnT59Gi5htVqTk5PDkmCz2fR6fVNT04YNGxiGqa+vDwQCJpOJVGUymUgTSCIQCJSXl3/22WeQMz8/X1hYCJN5UgYTYRWISNrTp08vtrbm5eulD1d5+fqLra1Pnz4NWyOdGfVzGqvfvqxPIwMR5lFms5nn+a+++iopKQnGFu0fRkZGUlJSvvnmG57n29raWJZ1Op3gIQ0Gg8Ph8Hq9paWlDQ0NUtI2b95ssVgWFxc//fRTlmV9Pl8wGKysrKytreU4zuFwGAyGSKRxHFdQUNDc3Mzz/MTERFZWVnd3tyAIXq9Xr9c3Nzf//PPPVqt169atvb29giDQNpMGfvvtt9nZ2XNzc4IgWK3WnJwch8NBSAODiU8jZ0FtFRUVwWCQ7hRI22y2TZs2nThxwu/3j46OZmRkAJ/L+jS6qrm5OZZlrVYrnYnpsApEJE0QhFAo1NbeLoJtVWuGypBmtVrT09PtdrsgCMFg0GKxwKAkozYUCh06dOjYsWO0W7BYLC6XS6/X3759G6QxmUzl5eWBQIAexHV1dc3NzVDAZrOlpaWNjY3ZbLaMjAziK/r6+iKRxvO81+slfgw8pCAIvb29RUVF8/PzUHNjY2N9fX0k0nw+X0FBweDgIBSoqanheZ42kp49kvzFxcX33nvv/PnzYTsefBr4cEEQzp8/X1hYOD8/v3LSQqHQ3/72t8rKyrAkh73oy5wpR5oUtlVhJgiCMqT5/f79+/drtdoDBw4MDQ2RYU1I8/v9ZWVlZF4Eib6+PtGoIt6ADFZBEOrq6sg8iuT39fWRSakgCDKkCYJw79694uJijUaTlJSk1Wrh0dFkMr333nuLi4uiwUdsBqgIwM+cbUNDQzAYfPfdd8ErEmNEPg0ae/78+YmJCZ1OR24HogvRcIKrzM3NdT3/yD+nQT2hUOjSpUt6vX52dlZUMx6GVWAZ0mjYVouZYqSBkXa7vbm5OTMzU6/Xw62ajFoYfF1dXSIJFCDN4XBkZGR0dnYuLS0Bt9GR9u2335aUlNy4cWPHjh0Oh0M0xRVhc/78+ffee6+joyPS1FEEZxSkXb58eevWrWQ6IBIWD6UKLE8ajOP2jvb2jlX/qkMZnzYxMXH9+nVwZR6PR6fTwTM6Ie3ZFK6mpobMHokKUZMmmj329PQQ50MqhwTNQCgUqq2tBdJ6e3vz8vJ8Pp+oPLFZ5NN8Pl9RUdEf//hHmDrKk3b//v2cnBy9Xh9p6iglbVWzxxs3bmRnZ9+4cUNkPB7KKLAi0mTOl/9KGdKGhoa2bt1qsVh4nr927VpSUtLNmzdhpD5bt+A4juf5oaGhjRs3fvXVVzzPj46OVlRUTE1NRU0avSIyNTUlsyIyOTmZkpJy4cIFl8vV1tam0WiANFgROXHiRCAQgDWVjz/+WGQzmc2CyA0NDRqNBqaOUtJycnJGR0d/+ukneFitqKjYuHGjzGI9WREJBALj4+P0ikhubq7FYoFFXWn/3r59Ozk5uaenR/oV5sgokAikhUIhs9m8ZcsWWIg3m82w8jE2NrZt27ZNmzaNjY2FQiGLxQKr/Fu2bIEyUZMmCMIKV/lDoVB/fz/YVvP8U11dDe6XrPJv2LDh+PHj8JMU2mYRad9++21GRgZMHUWk+f3+qqoqhmHI+vv58+cjuVkYDTabLScnx2g0wip/Q0MDGMDzvNFohHX/sOOGfqkAT7zyFwpbyUuYGWekqbOH2traysrKRkZGNm7cSK+7yHuV2LUlFAodO3aMLOTQb8kIGyMjI+TFQCRLpFCBQ45UHvNlFIgtaTK/MJa+phPlhP01lkxLlPwqEAgcOHCgs7Pz559/Hh0dzczMbGlpUdIAmWv98MMPV69ezc7OjrTqCOfSD5AyteFX66VAbEkTBCHsX82IoJIeRvqF8Xo1e+31wNo9wzAbNmz45JNPyKuFtde8xhrq6+u1Wu2FCxfkf46IpK1R59WeHnPSVmsQlkcFElIBJC0huxUbpToFkDTVdQkalJAKIGkJ2a3YKNUpgKSprkvQoIRUAElLyG7FRqlOASRNdV2CBiWkAkhaQnYrNkp1CvyCww8qgArEXgEkLfYa4xVQAY5D0nAUoAJKKICkKaEyXgMVQNJwDKACSiiApCmhMl4DFUDScAygAkoogKQpoTJeAxVQNWm9fX3Fu3eJ/k40L1//j7NnfT4fdh4qEEcKqJe0qe+/f7fyNyLM4BBhi6MRhqaCAuol7eHDh2/vLQ9Lmnxm8e5dvX190g5+8OBBcnJyV1cXx3Gjo6MWi+WFOMaurq5du3bNzs5KLcScBFYgAUlj9dvfrfzN1Pffi7qNJu3cuXPbt2+fmpoSlVHgMKakPXr06OjRo1qtFoLgfPvtt9Ait9v90UcfQf6vf/3rkZERyL9161ZJSQnDMBqNprq6mghy79693bt3Q35dXR3Jp/W5fv06xOh59dVXjx8/7na76W/Hx8ezsrIOHDhAZ0I6kpFXr16FLfFgA6/k5OQHDx5IT4/TnMQk7e295Q8fPhR1CU2a6Cvp4cmTJ8OOEmnJ1eYsS9qDBw/y8vKuXr262po9Hs+hQ4dKSkru3r376NGjDz/8MCsra2JiguO4jo6OlJSU4eFht9vd1NQEd5nx8fGcnJw///nPjx49unv37o4dO+rr630+n8Ph2LFjx4cffvjo0aP//Oc/paWlR44cEfl/KPPxxx/Pzc199913WVlZ586dIwb7fL4jR44wDCPVUMbIgYEBvV7/73//+8Hzz8OHD71eL6kz3hMvKWknT54kUziz2bx169Znwce2bt365Zdf/uc//0lOThbdVv/5z3+mp6czDJOVldX3fGoKPJw6dSorK4thmJKSkvHx8UijYXx8HFxHVlbWn/70J3Jp4lK0Wu1HH33kdrtPnjxJdow8efIkx3E+n+/cuXO/+tWvGIbZsWPHrVu3OI6bnZ2F4Qj/TkxMuN3uiYmJN99802w2gxk2my07O/vq1asej6eysvKjjz6CfPA2AwMDZrP5zTffBBQ5jmttbQXDBgYG0tPTbTYblKe1Ig0UlWlqaqqsrPR4PFCgv79/+/bthYWFUtIiGclx3LL3IHL1eEzEhDSv19vy2WeicFBkMaPls89Wcq+K+jmN1W9f1qeR0fPdd9+lpKR0dHR4PJ729vY33njDarVyHEf7tP7+/uTk5K+//trj8Xz22Wc5OTljY2PgIcGBPHz4sLi4+E9/+lPYETA3N1dRUQFzs7t375aUlMCAnpqa2r59e1NTk9vtvnnz5ptvvtnR0cFxnMinXbx4MT09fWRkZG5u7uOPP4ZzaSBhJzypD4RdH2022+zs7K5du1pbW8G8mZmZ4uJieF6lDT558iRNC3x19+7dwsLCTz/9lC4JVBQUFHz/vyn6pUuXyO1jdnZ29+7dFy9ePPD8IzpRdEiMBM1ff/110T1FVD5+D2NCGtyJ/3H2rAi2Va0ZKkPawMBAamrq7du3OY6bm5szm83379+nSfP5fL///e9hWsVx3Pfff//rX//abDY/ePCAZVnyIHTy5EmDwfDo0SPpULh69Wp6ejoATN+53W73w4cPyePNgQMHgFWaNIDEZDJBtbDF9/DwsPQqohy32/373/8eZn1QCUFLdAgn3rt3Lycn5/Lly6Serq4u8K4HDx6cm5sj+ZAQ+R/6sKWlZd++fXNzc8uSRhvJcdyXX3556NChm88/zwLrQFQd0XXj9zBWpElhWxVmHMcpQ9rs7GxVVZVWq33//ff/+c9/knFPfBqMSzKjg0RXVxfNA5BJbuqi0dDV1UU/3NOD8tq1azt27NBoNG+88QbEfxP5NPCc9NU3bNggdV+iK7rd7r/+9a9lZWUOhwOmmrt27ZIhbWJioqSk5NSpU6KHMY7jwAkfOXJkZmZm165dYMnJkyfpVtC3jzt37uTk5HzzzTccxxHSCLS0DiIjRU2wWq1JSUkDAwOi/Pg9jCFpNGyrxUwx0sDIW7duNTU1paensywLj1si0sjUi/T02km7e/duenr6xYsXYS5NxiVd84MHD7Kzs6UDTmb26PP54OlxdHQUrIWbBWmCaPYIkW7+8Ic/kLsMaSMkLl26lJOTY7fb6fyuri7p7HF6evrgwYN//vOfgVjSIvpESEuNFJVZ1fKV6Fx1HsaWNBjHZ8+dO3vunPR+Ka+IMj7t5s2bvb298CgPcajh3k9I83g877//Ppk9EptpHuR9mmj2SB5prl69mpeXBwvZPp+vuroa1g/ommGJj8weydUjJXw+X0dHB8uyd+7cIWUirYjAhPng8w89PzSbzcnJyWSB59KlSzRUUG3YFZGrV69u2rSJ9sAMw9B+DM4NayTwT24HNpstPT1deoshjYq7RMxJi1oRZUi7fPny66+/bjab3W73lStX3njjjcHBQSAHYqy53e7Lly9v2LChvb3d4/Fcv3797bffvnPnDs2DPGn0isidO3fIish3332XnJz897///cGDBy0tLRqNhpCWnZ1tNpvh7XZLS8vmzZsHBgY8Hs/XX3/97rvvhn27BTpfunQpKSnpX//6l0j2jo4OqMTpdP7lL38pLCx0OBxut/sPf/jD22+/DZNMcopo9b+kpCTSKv/BgwcfPXo0MjKSnp4OyzmkEnr2SGdyHBfJyJMnT+7YsQNeURw8eBCf00S6xepQGdLg/grrXb/61a86OjrA9w4PD2/dunXTpk3Dw8M+n89sNsMqPymzctI4jgu7yu/z+b788ku49PvPP7D05/F44GXUwYMHOY7zer3/+Mc/oBh5xxBW9LCPlECv2+3+9NNPX331VfpVgehNMXkE5TiOfv1w9OjRsCs9t27d2rFjB8Mwr7766qeffiqdfIadPcoYOTc39+GHH8Lr9d27d9+7dy9sM+M08yXyaQr0kHTsrmQBQwHD8BIvXAH1kibzC2P53z1G+jXWC9caDXiZFVAvaRzHhf2rmWUxi/QL45e5m7HtL1wBVZP2wtVBA1CB9VIASVsvJbEeVEBOASRNTh38DhVYLwWQtPVSEutBBeQUQNLk1MHvUIH1UgBJWy8lsR5UQE4BJE1OHfwOFVgvBZC09VIS60EF5BTASIWqC2mHBiWkAkhaQnYrNkp1CiBpqusSNCghFUDSErJbsVGqUwBJU12XoEEJqQCSlpDdio1SnQJImuq6BA1KSAWQtITsVmyU6hRIWNKuXb9WUrpb9Gejefn6tvb2UCikun5AgxJdgcQk7cmTJ5W/rRJhBocIW6IPaZW2LzFJ83g9eyveCUuafGZJ6e5r169J+8rlcqWmpvb19QmCMDs7e+PGDWUco8vlys/Pt9lsUpMwJ74UUC9pPp/vSm9vdAM6atJY/fbK31Y9efJE1Is0aZ9//nlBQQHHcaIysThUnjSPx3PmzJmdO3e6XC7SotHR0by8PAi18cknn/A8T77CxAoVUC9p/6VlX0V0j1VrIW1vxTser0ckH02a6Cvpoclkqqurk+ZHkaMkaYuLizU1Na+88grLsqmpqYS0hYWFnTt3NjU1BYPByclJnU73+eefR9GWl/wUdZNW8U50j1UxJc1kMpWVlfn9fkEQLBbLtm3bGIbZtm1bf3//48ePU1NTYYtSMliHhoYyMzMhSOfw8LAgCMDPmTNnIKamwWBwOp1hB6JMyZmZmcrKSpGfsdls+fn5BJK65x9BEEwm02+ef9LS0lwu1w8//OCiPl6vd2lpief58fHxxcXFvr4+YrwgCFarNTMzc3p6Gixsbm6urq5Gtxa2v2Qy1U4aq98eBWzKkDY5OZmWlmY2m3me/+qrr5KSku7fvw/Dmvi0kZGRlJSUb775huf5trY2lmWdTid4SIPB4HA4vF5vaWlpQ0ND2E6KVJLjuKKiooaGhkAgMDk5mZ2dfeLEiVAoJEOaRqM5d+6cy+VaWlqqq6ujd8+nuRIEQURaX19fYWHh/Pw8WNjT00NuNGFtxsywCsQBaVHApgxpVqs1PT3dbrcLghAMBi0Wy9zcHE1aKBQ6dOjQsWPH4Glzfn6+qKjIYrG4XC69Xn/79m3oEpPJVF5eHggEpD0UqWRvby/Lsh7P/5/lDg4OZmdnz83NyZBWW1u7wodeKWk0Wn19ffSh1GbMCatA3JB2sbX16dOnYdsgzVSGNL/fv3//foh7NjQ0RCZU5DnN7/eXlZXR3oNhmL6+PtHTFz0dFbUlUkmTyURP4SBKju35J9LskbhZ0SWkh0iaVJO158QBaaqdPQqCEAqF7HZ7c3NzZmamXq+Hxy0RaV1dXaJ+isSPqBh5oiOr/ITJNZKGs0ep1LHOUTtpUWAmCIIyPm1iYuL69evgyjwej06ngxduhDSe52tqasjskfTl2kmTmT0S4AVBoFdEovZpuCJCOm4tCXWTpspVfuJYhoaGtm7darFYeJ6/du1aUlLSzZs34TmtsrKS4zie54eGhjZu3PjVV1/xPD86Ogox2dZOGr0iYrfb8/PzYUXE4XCkpKScPXs2EAgMDAxs3rwZACPwr2SsiGaPsMr/wQcfBAKB8fHxzMzM7u7uldSDZWgF1Evai3pzvez7NEJaKBQym81btmxhGGbLli1msxmWHMbGxrZt27Zp06axsbFQKGSxWGCVn5RZO2mCIIRd5RcE4cqVKxs2bGAYxmAwlJaWrp00QRDsdntxcTG8UWhpaSFPpPRIwrS8AuolTd5u+W/XffYof7l1+dZms23cuJFePtm4cSN5QluXS2AlL1CBxCRN5hfG8r97jPRrrBfYQ3jpxFAgMUkTBCHsX80si1mkXxgnRmdjK16gAglL2gvUFC+NCkgVQNKkmmAOKrD+CiBp668p1ogKSBVA0qSaYA4qsP4KIGnrrynWiApIFUDSpJpgDiqw/gogaeuvKdaICkgVQNKkmmAOKrD+CiBp668p1ogKSBVA0qSaYA4qsP4KIGnrrynWiApIFUDSpJpgDiqw/gogaeuvKdaICkgVQNKkmmAOKrD+CiBp668p1ogKSBVA0qSaYA4qsP4KqJq0sH/NGd1uWeuvHNaICqxGAfWSJrNDAcK2mi7GsqpQQL2kRb3rTqQdCuh4MUrGQBP1M+62LRLkJTlMQNIi7bpDk6ZkDDTRSIopaYFAwGg0arVahmHy8vLI1v88zzc2NkJ+UVHR+Pg4WGW32w0GA8MwGo2mtraWBI6bmZnZs2cP5B85coTk022RD6rmdDp1Ol3Y7VwjGSkIwo8//mg0Gn/5y18m3tb/iUnasns20iMmbHpVW5GGrSFS5rKkiXaDjFSPNJ/n+aNHj0IIm0AgcPz4cZ1OB1Eyuru709LSxsbGeJ5vbm6GSItOp5Nl2RMnTgQCAYfDsXPnTthuGbZSPX78eCAQePz48VtvvWU0GkXRM+SDqoVCIaPRyDCMlDQZI8Ge999//+HDh4m3peRLShrZHVWIfQw0QRCcTie4Dp1O19DQQG7YxKVotdrGxkae500mE9ny0WQywdb/X3zxBezfWlxcDKFt/H4/Ff/M5fF4eJ73eDxZWVkWiwUgnJ6ezs3NtdlsPM9XV1c3NjZCvtPpzMnJsVqtFoslKyuLBKzp6uoCw0Tbg9NaEbxFZURB1UZGRgoKCkpKSqSkRTJSEITTp09XVlYGg0FylURKxIS0p0+fXmxtzcvXS3d9y8vXrzBqTNTPaax++7I+jYweBWKgBYPBZ5uH19bWchzncDgMBgMMaI7jCgoKmpubeZ6HYDGwC7fIp3V2dmZmZo6PjweDwaamJjiXBpJhmLB7sNpsttzc3OnpaQh5QwJx+P3+0tJSCCFAD2VRVA34yuFwlJSUtLS00CUhxlqkoGp+v3/Pnj2dnZ0kKoDoXPqQNrK0tPR3v/sd3FNkojfSp8dROiakwZ24rb1dBNuq1gyVIU2BGGg2my0jIwOCGMIYBVqexcfwer1kmvTs9g/xCmnSAJLz58/DkJqenmZZdmxsbNkRxvP8oUOHYNYHlRC0RIdQ1czMDMuyQ0NDpOa+vj7wrh988IHUz4jmwPRha2trVVVVMBhcljTaSDomI8dx+/fvTzD/FivSpLCtCjPF4sUoEANNFFCCHpT37t0rLi7WaDRJSUlarRbmWjRpMP7IfDKS+yJ4QILn+dOnT+/du3dhYUEQBBFaokNBENxut8FgOHPmjOhhTBAEcMJGo/HHH38kseBMJhPdCvr2MTU1xbLsrVu36Eg3BFo6+KjIyLGxsdTUVLKEc/v27YyMjImJCVHT4vcwhqTRsK0WM8VIAyNjGgMtEmkOhyMjI6Ozs3NpaYkelyLScnNzrVaraITJzB5DoRBE0J6dnYWzAK1Is8eFhYXy8vLDhw8T7yq6Vk9PD8uyPp+Pzg8bknd+fr6+vh6i3tAtok+EtNRIEmwRCtAiSE+Px5zYkgbjuL2jvb2jXXq/lNdLmdmjAjHQRLNHEieajpQbCoVqa2ulPg2W+MjsUV4xUNtsNuv1+qmpKVI40ooIBA2uf/6h54cWiyU1NZUEue/p6aEfyaDasCsid+/e3bRpE+2BGYah/RicCzF6REbOz88XFhaS2wH6NNJ9MU8oQ5oCMdDoFZGpqSmyIjI5OZmSknLhwgWXy9XW1qbRaAhpubm5FovF7/cLgtDa2vraa69ZrVae5wcHB6uqqsK+3YL+uHz5cnJy8p07d0Td093dDZX89NNPp06derYquLCwwPP84cOH9+3bB5NMcopo9d9gMERa5ZcPqhbpOS2SkS0tLTqdbnJyEp7TampqIrlZYmocJWLu06LWQhnSFIiBFmmVPxQK9ff3w1JbzfMPhK7meR5eRtXX1wuCsLS01N7eDsV0Ot3w8HAkSWGWKHIpQC/P8y0tLRBXjbwqkMaRgjDcEDANXktotVqj0Rg22v2yQdXCkiZvJHm9vn//frfbHaml8Zj/EpGmQPdIx27Y9XcFLMFLqE0B9ZIm8wtj6Ws6UU7lb+WmWGrrA7TnZVBAvaRhDLSXYfy9PG1UNWkvTzdgSxNeASQt4bsYG6gKBZA0VXQDGpHwCiBpCd/F2EBVKICkqaIb0IiEVwBJS/guxgaqQgEkTRXdgEYkvAJIWsJ3MTZQFQogaaroBjQi4RVA0hK+i7GBqlAASVNFN6ARCa8AkpbwXYwNVIUCSJoqugGNSHgFkLSE72JsoCoUQNJU0Q1oRMIrgKQlfBdjA1WhQMKShrHXVDG+0Ij/KZCYpMnsjBDFzpP/0wr/jwpEr0Bikhb1vlpqi72WeBuMRj9U4/xM9ZLm8/mu9Paudj9W6I6oSVNb7DXlSfN4PGfOnNm5c6fL5SJjWz5UGimGCRkF1Evaf2nZV9HWvurNj2O907iMmvDVOsZeU5K0xcXFmpqaV155hWVZeuNh+VBpy6qBBUABdZNW8U50j1Vr8WkrjwilQOw1IA322WcYho51NDMzU1lZyTDMhg0bPvnkE9jul96BnN4Z32Qy/eb5Jy0tzeVy/fDDD3T4Na/Xu7S0xPP8+Pj44uKiKJBA2I3BE2l3YWXuBWonjdVvjwI2ZUhTIPYaHevI6/WWlpZC5CeO44qKihoaGgKBwOTkZHZ2NsSdkCFNo9GcO3fO5XItLS3V1dXRWx3THgwCx9A5YYNdwE7myozRxLhKHJAWBWzKkKZA7DWXy6XX60msI5PJVF5eHggEent7WZYl4TwHBwezs7Pn5uZkSKutrV3hQ6/Ip0UK4JQYACjWirghbYWRREE4ZUhTIPaa6DmNhDIVxe8kIZFkSIMN+lcysJC0lai02jJxQJpqZ48KxF6LEWk4e1wtJ2svr3bSosAs1muPxLEoEHstEmkys0e9Xk9Cn5FoL6taDhX5NFwRWTtmgiComzRVrvIT0hSIvRaJNHpFxG635+fnw4qIw+FISUk5e/ZsIBAYGBjYvHkzTBrXQhqs8suHSluXsZjYlaiXtBf15nrlq/wKxF6LRJogCGFX+QVBuHLlCsRJMxgMpaWlaycNwqkVFxfDG4WWlhZc4o/ipqBe0qJoDDll3VdESM2xS2Dstdhpq4aaE5M0mV8YiyKtSQ8x9poaxmXi2ZCYpGHstcQbqfHeooQlLd47Bu1PMAWQtATrUGyOShVA0lTaMWhWgimApCVYh2JzVKoAkqbSjkGzEkwBJC3BOhSbo1IFkDSVdgyalWAKIGkJ1qHYHIPLo54AABBUSURBVJUqgKSptGPQrARTAElLsA7F5qhUASRNpR2DZiWYAkhagnUoNkelCiBpKu0YNCvBFEDSEqxDsTkqVQBJU2nHoFkJpgCSlmAdis1RqQKqJg1joKl01KBZq1dAvaTJ7FAQ3dZ0qxcHz0AF1k0B9ZIW9a47aouBJuor0ebbom/xMFEVSEDS1BYDTTR0YkpaIBAwGo1arZZhmLy8PLKhP8/zjY2NkF9UVDQ+Pg5W2e12g8HAMIxGo6mtrX3y5Ankz8zM7NmzB/KPHDlC8um2yAdVczqdOp0u7BblYY00mUx0UA5IWywW+opxnU5M0pbds3HZPlvVVqTL1kYXWJY00R6P9LnyaZ7njx49ajAYHA5HIBA4fvy4TqeDKBnd3d1paWljY2M8zzc3NxcUFHAc53Q6WZY9ceJEIBBwOBw7d+48duxYKBSCrVSPHz8eCAQeP3781ltvGY1GUfQM+aBqoVDIaDQyDCMlTcZIunWDg4O7d+/mOI7OjOv0S0oa2YdYEASLxbJt2zaGYbZt29bf3//48ePU1FS4p5LgRkNDQ5mZmQzD6HS64eFhQRCAh7CRzaQDwul0guvQ6XQNDQ1lZWUQFYm4FK1W29jYyPM8fWs3mUyw9f8XX3yxZcsWhmGKi4vtdrsgCH6/nw6A5vF4eJ73eDxZWVnED0xPT+fm5tpsNp7nq6urGxsbwTCn05mTk2O1Wi0WS1ZWFglY09XVBYaJtgentSJNE5Vpbm6urq4mO66OjIwUFBSUlJRISYtkJKlZEIRgMFhZWXn+/Hk6M97TMSHt6dOnF1tb8/L10t0U8/L1K4waE/VzGqvfvqxPI6NHgRhoMG5qa2s5jnM4HAaDAQY0x3EFBQXNzc08z0OwmO7ubsKwzWaDsdXZ2ZmZmTk+Ph4MBpuamuBcGkiGYTZu3EjKkxFps9lyc3Onp6f9fn9ZWVlXVxd85ff7S0tL+/r6SElIiOLXQKbD4SgpKWlpaREVlgmq5vf79+zZ09nZSaICiM6lD4mRdObNmzd1Op3D4aAz4z0dE9LgTtzW3i6CbVVrhsqQpkAMNJvNlpGRcf/+fRgrZPbI87zX6yV+4NntH6IQ0rNHgITc3aenp1mWHRsbW3bY8Tx/6NAhmPVBJQQt0SFUNTMzw7Ls0NAQqbmvrw8c+wcffBAMBkk+JEgrpIetra1VVVXBYHBZ0mgjSf08z9fX10OYAZKZAIlYkSaFbVWYKRYvRoEYaKLQLfQYvXfvXnFxsUajSUpK0mq1MNeiSYOYoPRSQVj3JRqIPM+fPn167969CwsLMNUsKyuTIc3tdhsMhjNnzogexgRBACdsNBp//PHHsrIysMRkMtGtgDCi4GynpqZYlr116xYd+5dAS2bjgiCIjCRNuH//fk5ODrkxkfx4T8SQNBq21WKmGGlgpN1ub25uzszMJCGRyIqIaOpF+pvmQRAEMh0lBUgiEmkOhyMjI6Ozs3NpaYkel3TNLpcrNzfXarWS2iAhM3sMhULw9Dg7OwuFRU0QzR4XFhbKy8sPHz5MvKvoWj09PSzL+nw+Oj/s7HF+fp52RzI+TWokVA5LKTU1NZGMoW2Ir3RsSYNx3N7R3t7RLr1fyiulzOxRgRhootljT08P3P7p+J2hUKi2tlbq02CJj8we5RUDtc1ms16vn5qaIoUjrYjA2kP98w89P7RYLKmpqSQIW09PT2Fh4fz8PKlQEISwKyJ3797dtGkT7YEZhqH9GNQAMXpERsJXDodDp9ONjIzQ10qMdMxJi1omZUhTIAYavSIyNTVFVkQmJydTUlIuXLjgcrna2to0Gg0hLTc312KxwPpka2vra6+9ZrVaeZ4fHBysqqoK+3YLdL58+XJycvKdO3dEsnd3d0MlP/3006lTp56tCi4sLPA8f/jw4X379sEkk5wiWv03GAyRVvnlg6pF8mmRjISpQUVFBY09sSreEy87aQrEQBMEIewqfygU6u/vh+X7mucfWCjneR5eRtXX1wuCsLS01N7eDsXIO4awww5miSKXAvTyPN/S0gJx1cirAmkcKYZh4HGOfv1gNBoDgYD0ina7XT6oWljSZIz0eDwsy8ICrPRy8Z7zEpGmQFdJx+5KFjAUMAwv8cIVUC9pMr8wlr6mE+VgDLQXPrDQAJEC6iUNY6CJugoP41oBVZMW18qi8agArQCSRquBaVQgVgogabFSFutFBWgFkDRaDUyjArFSAEmLlbJYLypAK4Ck0WpgGhWIlQJIWqyUxXpRAVoBJI1WA9OoQKwUQNJipSzWiwrQCiBptBqYRgVipQCSFitlsV5UgFYASaPVwDQqECsFkLRYKYv1ogK0AkgarQamUYFYKYCkxUpZrBcVoBVA0mg1MI0KxEqBhCUNY6/FashgvVEpkJikyeyMEMXOk1EJiyehAv9HgcQkLeod7NQWe43eZfX/9BsexJsC6iXN5/Nd6e1d7X6soH/UpKkt9prypHk8njNnzuzcudPlcpHBLB8qjRTDhIwC6iXtv7Tsq2hrX/Xmx7HeaVxGTfiK7DS+bMllCyhJ2uLiYk1NzSuvvMKyLL3xsHyotGWbgAVAAXWTVvFOdI9Va/FpK48IpUDsNSAtbJS2mZmZyspKhmE2bNjwySefwEb29A7k9F7/JpPpN88/aWlpLpfrhx9+oMOveb3epaUlnufHx8cXFxdFgQTCbgyeePvmx/qOoHbSWP32KGBThjQFYq9BrBkI8+n1ektLSyHyE8dxRUVFDQ0NgUBgcnIyOzsbwiDJkKbRaM6dO+dyuZaWlurq6uitjmkPBoFj6JywwS5gJ/NYj85Eqj8OSIsCNmVIUyD2msvl0uv1JFy1yWQqLy8PBAK9vb0sy5JwnoODg9nZ2XNzczKk1dbWrvChV+TTIgVwSiQMFGhL3JC2wkiiIJkypCkQe030nEZiR4nid0JIUdvzT35+PlnMIDvjr+rREUmLBXhxQJpqZ48KxF6LEWk4e4wFS/J1qp20KDCL9dojcSwKxF6LRJrM7JEEWxStiEDQGfnRAN+KfBquiKxEtGXLqJs0Va7yE9IUiL0WiTR6RcRut+fn58OKiMPhSElJOXv2bCAQGBgY2Lx5MwC2ltkjrPLLh0pbdpxhAfWS9qLeXK98lV+B2GuRSBMEIewqvyAIV65cgThpBoOhtLR07aQJgrBsqDQEaVkF1EvasqbLFFj3FRGZa63XVxh7bb2UVGc9iUmazC+MRZHWpIcYe02dIzXerUpM0jD2WryPy8SzP2FJS7yuwhbFtQJIWlx3HxofNwogaXHTVWhoXCuApMV196HxcaMAkhY3XYWGxrUCSFpcdx8aHzcKIGlx01VoaFwrgKTFdfeh8XGjAJIWN12Fhsa1AkhaXHcfGh83CiBpcdNVaGhcK4CkxXX3ofFxowCSFjddhYbGtQJIWlx3HxofNwogaXHTVWhoXCuApMV196HxcaOAqknDGGhxM47Q0OUUUC9pMjsURLc13XJS4PeoQAwVUC9pUe+6o7YYaKLeE22+LfoWDxNVgdiS9qJ2kgu76w5Ek+jr6xME4fPPPy8oKOA4Tvl+jSlpgUDAaDRqtVqGYfLy8siG/jzPNzY2Qn5RUdH4+Dg03G63GwwGhmE0Gk1tbe2TJ08gf2ZmZs+ePZB/5MgRkk/LJR9Uzel06nS6sNu5RjKSvuiBAwfcbjd9uXhPx5a0//olVe6Oumy3rWor0mVrowssS5poj0f6XPk0z/NHjx6FwDSBQOD48eM6nQ6iZHR3d6elpY2NjfE839zcDHcZp9PJsuyJEycCgYDD4di5c+exY8dCoRBspXr8+PFAIPD48eO33nrLaDSKomfIB1ULhUJGo5FhGClpkYwMBoMVFRW1tbUcx3m93rfeequmpiaRYkfFnrSXPgaaIAhOpxNch06na2hoKCsrg6hIxKVotdrGxkae500mE4m3ZDKZYOv/L774YsuWLQzDFBcX2+12QRD8fj8dAM3j8fA87/F4srKyLBYLADk9PZ2bm2uz2Xier66ubmxshHyn05mTk2O1Wi0WS1ZWFglY09XVBYaJtgcnezbTnIvKNDc3V1dXEzBGRkYKCgpKSkqkpEUykp5xCIJgNpuJSvR14zetBGlRhGVSbG99BWKgBYPByspKuFs7HA6DwQBjiOO4goKC5uZmnuchWEx3d7cgCCKf1tnZmZmZOT4+HgwGm5qa4FwaSIZhNm7caLPZRKPQZrPl5uZOT0/7/f6ysrKuri4o4Pf7S0tLYRZNnyKKXwNfORyOkpKSlpYWuiTEWCssLJyfn4f8np4eAobf79+zZ09nZyeJdCM6lz4kRvI8X1NTA3uSg0+TOlL6xLhLK0RaFLBFvSLC6revfMdvBWKg2Wy2jIyM+/fvw+Ags8dnY8vr9RI/8Oz2D1EIadIAkvPnz8O509PTLMuOjY0tO854nj906BAMVqiEoCU6hKpmZmZYlh0aGiI19/X1gXf94IMPgsEgyYcEaYX0sLW1taqqKhgMLksabeR/760ej16vh4u+9957BGPRpeP0UFHSXs4YaKLQLfQYvXfvXnFxsUajSUpK0mq1MNeiSYM5FZlPRnJfosHH8/zp06f37t27sLAAU82ysjIZ0txut8FgOHPmjOhhTBAEcMJGo/HHH38sKysDS0wmE90KcHHg06ampliWvXXrFh3phkBLhxoVGQmen/i0ysrKo0ePktuQqIHxeKgQaVG8AVPGpykQAy0SaQ6HIyMjo7Ozc2lpiR6XItJyc3OtVqtobMnMHkOhEMTFnp2dhbPkZ48LCwvl5eWHDx+ONKx7enpYlvX5fLQNYUPyzs/P19fXQ9QbukX0iZCWGjk2Nsay7PT0NBQQPQdKa4i7HCVIiwIzxZ7TFIiBJpo9kkcaOlJuKBSqra2V+jRY4iOzx2WHF4S/0ev1U1NTpHCkFRFBEILBYP3zDz0/tFgsqampTqcTaujp6aEfySBTRAKsiNy9e3fTpk20B2YYhvZjcG5YI8kDW9j6ITOu/409aapc5SfraQrEQKNXRKampsiKyOTkZEpKyoULF1wuV1tbm0ajIaTl5uZaLBZYn2xtbX3ttdesVivP84ODg1VVVWHfbsEovHz5cnJy8p07d0SDsru7Gyr56aefTp069WxVcGFhgef5w4cP79u3DyaZ5BTR6r/BYJAuTqwkqFqk57SwRtIVchy3f//+yspKmn9iXpwmYkvai3pzvfIVEQVioEVa5Q+FQv39/bB8X/P8AwvlPM/Dy6j6+npBEJaWltrb26GYTqcbHh6ONNRglihyKUAvz/MtLS0QV428KpDGkWIYBh7n6NcPRqMxEAhIL7psULWwpMkYSSLCaTQafHMtFTxWOev+nBYrQ6l6pWM37Po7dQYmXxYFYuvT1qKizC+MpUHPRDlhf421FmPwXFRgjQqolzSMgbbGrsXTVaWAqklTlVJoDCqwFgWQtLWoh+eiAitVAElbqVJYDhVYiwJI2lrUw3NRgZUqgKStVCkshwqsRQEkbS3q4bmowEoVQNJWqhSWQwXWogCSthb18FxUYKUKIGkrVQrLoQJrUQBJW4t6eC4qsFIFkLSVKoXlUIG1KPD/APlOKICtqWTSAAAAAElFTkSuQmCC)"
      ],
      "metadata": {
        "id": "afGjrD_LvPRN"
      }
    },
    {
      "cell_type": "code",
      "source": [
        "(\n",
        "    df_listening_actv\n",
        "    .write\n",
        "    .mode(\"overwrite\")\n",
        "    .partitionBy(\"listen_hour\", \"listen_date\")\n",
        "    .parquet(\"/content/drive/MyDrive/data/partitioning/partitioned/listening_activity_pt_3\")\n",
        ")"
      ],
      "metadata": {
        "id": "XYXRd5wyvQ0y"
      },
      "execution_count": 13,
      "outputs": []
    },
    {
      "cell_type": "markdown",
      "source": [
        "![image.png](data:image/png;base64,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)"
      ],
      "metadata": {
        "id": "Oghl-4g7v7VQ"
      }
    },
    {
      "cell_type": "markdown",
      "source": [
        "**2. Using repartition/coalesce with partitionBy**"
      ],
      "metadata": {
        "id": "_GZWQzdxwEaH"
      }
    },
    {
      "cell_type": "code",
      "source": [
        "(\n",
        "    df_listening_actv\n",
        "    .repartition(3)\n",
        "    .write\n",
        "    .mode(\"overwrite\")\n",
        "    .partitionBy(\"listen_date\")\n",
        "    .parquet(\"/content/drive/MyDrive/data/partitioning/partitioned/listening_activity_pt_4\")\n",
        ")"
      ],
      "metadata": {
        "id": "O8trZjTmv89X"
      },
      "execution_count": 15,
      "outputs": []
    },
    {
      "cell_type": "markdown",
      "source": [
        "![image.png](data:image/png;base64,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)"
      ],
      "metadata": {
        "id": "IprFNbqMxM5J"
      }
    },
    {
      "cell_type": "code",
      "source": [
        "# The coalesce method reduces the number of partitions in a DataFrame.\n",
        "# It avoids full shuffle, instead of creating new partitions, it shuffles the data using default Hash Partitioner,\n",
        "# and adjusts into existing partitions, this means it can only decrease the number of partitions.\n",
        "\n",
        "(\n",
        "    df_listening_actv\n",
        "    .coalesce(3)\n",
        "    .write\n",
        "    .mode(\"overwrite\")\n",
        "    .partitionBy(\"listen_date\")\n",
        "    .parquet(\"/content/drive/MyDrive/data/partitioning/partitioned/listening_activity_pt_5\")\n",
        ")"
      ],
      "metadata": {
        "id": "9ZO619KgwDYp"
      },
      "execution_count": 17,
      "outputs": []
    },
    {
      "cell_type": "markdown",
      "source": [
        "**Experimenting With spark.sql.files.maxPartitionBytes**"
      ],
      "metadata": {
        "id": "IPVlhPigx8qo"
      }
    },
    {
      "cell_type": "code",
      "source": [
        "spark.stop()\n",
        "spark = SparkSession.builder.appName(\"Test spark.sql.files.maxPartitionBytes\").getOrCreate()\n",
        "\n",
        "df_default = spark.read.csv(\"/content/drive/MyDrive/data/partitioning/raw/Spotify_Listening_Activity.csv\", header=True, inferSchema=True)\n",
        "default_partitions = df_default.rdd.getNumPartitions()\n",
        "print(f\"Number of partitions with default maxPartitionBytes: {default_partitions}\")"
      ],
      "metadata": {
        "colab": {
          "base_uri": "https://localhost:8080/"
        },
        "id": "QoTWnUgIyAoI",
        "outputId": "5ccdde3a-01e0-4bac-ebf2-c0497070518c"
      },
      "execution_count": 19,
      "outputs": [
        {
          "output_type": "stream",
          "name": "stdout",
          "text": [
            "Number of partitions with default maxPartitionBytes: 1\n"
          ]
        }
      ]
    },
    {
      "cell_type": "code",
      "source": [
        "spark.conf.set(\"spark.sql.files.maxPartitionBytes\", \"1000\")\n",
        "\n",
        "df_modified = spark.read.csv(\"/content/drive/MyDrive/data/partitioning/raw/Spotify_Listening_Activity.csv\", header=True, inferSchema=True)\n",
        "modified_partitions = df_modified.rdd.getNumPartitions()\n",
        "print(f\"Number of partitions with modified maxPartitionBytes: {modified_partitions}\")"
      ],
      "metadata": {
        "colab": {
          "base_uri": "https://localhost:8080/"
        },
        "id": "Up38mbJ8yf3W",
        "outputId": "79e3d7c7-e4d5-4f7e-faba-8a668642af3c"
      },
      "execution_count": 20,
      "outputs": [
        {
          "output_type": "stream",
          "name": "stdout",
          "text": [
            "Number of partitions with modified maxPartitionBytes: 468\n"
          ]
        }
      ]
    }
  ]
}