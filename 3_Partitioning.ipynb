{
  "nbformat": 4,
  "nbformat_minor": 0,
  "metadata": {
    "colab": {
      "provenance": [],
      "mount_file_id": "1oHG99Hc7bCeAXt11EVPU7--VaBD-v8cZ",
      "authorship_tag": "ABX9TyPWnBC2R+byw5QyvVJQgUuj",
      "include_colab_link": true
    },
    "kernelspec": {
      "name": "python3",
      "display_name": "Python 3"
    },
    "language_info": {
      "name": "python"
    }
  },
  "cells": [
    {
      "cell_type": "markdown",
      "metadata": {
        "id": "view-in-github",
        "colab_type": "text"
      },
      "source": [
        "<a href=\"https://colab.research.google.com/github/visshal2301/AdvanceSpark_GoogleColab/blob/main/3_Partitioning.ipynb\" target=\"_parent\"><img src=\"https://colab.research.google.com/assets/colab-badge.svg\" alt=\"Open In Colab\"/></a>"
      ]
    },
    {
      "cell_type": "code",
      "execution_count": 1,
      "metadata": {
        "id": "QZFFR9HxdcAw"
      },
      "outputs": [],
      "source": [
        "import warnings\n",
        "warnings.filterwarnings(\"ignore\")"
      ]
    },
    {
      "cell_type": "code",
      "source": [
        "from IPython.core.interactiveshell import InteractiveShell\n",
        "InteractiveShell.ast_node_interactivity = 'all'"
      ],
      "metadata": {
        "id": "a5_sen2MgwlQ"
      },
      "execution_count": 2,
      "outputs": []
    },
    {
      "cell_type": "code",
      "source": [
        "from pyspark.storagelevel import StorageLevel\n",
        "from pyspark.sql.types import *\n",
        "import pyspark.sql.functions as F\n",
        "from pyspark.sql import SparkSession"
      ],
      "metadata": {
        "id": "B0tdbpFdg9-g"
      },
      "execution_count": 3,
      "outputs": []
    },
    {
      "cell_type": "code",
      "source": [
        "spark = (\n",
        "    SparkSession\n",
        "    .builder\n",
        "    .config(\"spark.driver.memory\", \"10g\")\n",
        "    .master(\"local[*]\")\n",
        "    .appName(\"6_0_partitioning\")\n",
        "    .getOrCreate()\n",
        ")\n",
        "sc = spark.sparkContext\n",
        "sc.setLogLevel(\"ERROR\")"
      ],
      "metadata": {
        "id": "FsJW0KPzhIGw"
      },
      "execution_count": 4,
      "outputs": []
    },
    {
      "cell_type": "code",
      "source": [
        "import psutil\n",
        "\n",
        "ram = psutil.virtual_memory()\n",
        "print(\"Total RAM (GB):\", round(ram.total / (1024**3), 2))"
      ],
      "metadata": {
        "colab": {
          "base_uri": "https://localhost:8080/"
        },
        "id": "TTgcCXmYhd1w",
        "outputId": "7cf80db7-fe44-44b7-b6ec-ee13321b2d3f"
      },
      "execution_count": 5,
      "outputs": [
        {
          "output_type": "stream",
          "name": "stdout",
          "text": [
            "Total RAM (GB): 12.67\n"
          ]
        }
      ]
    },
    {
      "cell_type": "code",
      "source": [
        "listening_activity_file = \"/content/drive/MyDrive/data/partitioning/raw/Spotify_Listening_Activity.csv\"\n",
        "df_listening_actv = spark.read.csv(listening_activity_file, header=True, inferSchema=True)\n",
        "df_listening_actv.show(5, False)\n",
        "\n"
      ],
      "metadata": {
        "colab": {
          "base_uri": "https://localhost:8080/"
        },
        "id": "9kRTZbbxrbLc",
        "outputId": "dacbf406-d3cb-4355-96ba-07860138beb0"
      },
      "execution_count": 6,
      "outputs": [
        {
          "output_type": "stream",
          "name": "stdout",
          "text": [
            "+-----------+-------+--------------------------+---------------+\n",
            "|activity_id|song_id|listen_date               |listen_duration|\n",
            "+-----------+-------+--------------------------+---------------+\n",
            "|1          |12     |2023-06-27 10:15:47.008867|69             |\n",
            "|2          |44     |2023-06-27 10:15:47.008867|300            |\n",
            "|3          |75     |2023-06-27 10:15:47.008867|73             |\n",
            "|4          |48     |2023-06-27 10:15:47.008867|105            |\n",
            "|5          |10     |2023-06-27 10:15:47.008867|229            |\n",
            "+-----------+-------+--------------------------+---------------+\n",
            "only showing top 5 rows\n",
            "\n"
          ]
        }
      ]
    }
  ]
}